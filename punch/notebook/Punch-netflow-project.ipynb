{
 "cells": [
  {
   "cell_type": "markdown",
   "metadata": {},
   "source": [
    "# Using Autoencoders to Identify Normal and Abnormal Traffic Behavior in Netflow Data"
   ]
  },
  {
   "cell_type": "markdown",
   "metadata": {},
   "source": [
    "## Goal"
   ]
  },
  {
   "cell_type": "markdown",
   "metadata": {},
   "source": [
    "Train an autoencoder neural network to develop lower-dimensional representations of netflow data in an attempt to identify categories of behavior present within the data and effectively differentiate between abnormal and normal behavior.\n",
    "\n",
    "Now when I say lower-dimensional representation (aka an embedding), what I mean by this is basically a fingerprint. So what I'm searching for is a way to take all the features of raw netflow data and really distill it down into key components that identify and classify the data.\n",
    "![](https://media.istockphoto.com/videos/fingerprint-binary-code-video-id467425199?s=640x640)"
   ]
  },
  {
   "cell_type": "markdown",
   "metadata": {},
   "source": [
    "## Intro to Unsupervised Learning and Autoencoders"
   ]
  },
  {
   "cell_type": "markdown",
   "metadata": {},
   "source": [
    "An autoencoder is a type of unsupervised learning algorithm. \n",
    "\n",
    "**What do I mean by an unsupervised learning algorithm?** \n",
    "An unsupervised learning algorithm takes in unlabeled or unclassified data, and attempts to develop its own labels/classifications. An easy way to think of this is showing an algorithm a bunch of images of cartoon characters but not telling the alogorithm which character is which. While training the algorithm, it attempts to place the characters into it's own groups based on the similarities inherent in each image. Below our algorithm has clearly discovered two beloved types of cartoon charaters: Duck and not-Duck!\n",
    "![](https://miro.medium.com/max/1234/1*6hfFWPITJxbtw4ztoC1YeA.png)\n",
    "\n",
    "Specifically, an autoencoder is a type of neural network algorithm that attempts to reproduce the input that is passed into its input layer. \n",
    "![alt text](https://cdn-images-1.medium.com/max/800/1*2ijh2-e0PcYgYKbWYkbdsw.png \"From https://towardsdatascience.com/intuitively-understanding-variational-autoencoders-1bfe67eb5daf\")\n",
    "Initially this may sound unimpressive and indeed, if we allow our encoding to be the same size as the input, our algorithm could easily learn to simply memorize the input values!  \n",
    "\n",
    "\n",
    "![alt text](https://www.jeremyjordan.me/content/images/2018/03/Screen-Shot-2018-03-06-at-6.09.05-PM.png \"From https://www.jeremyjordan.me/autoencoders/\")\n",
    "However, by imposing a bottleneck in the network we can force a compressed knowledge representation of the original input (i.e. we can boil the input data down to its essential pieces or its fingerprint). If the input features were each independent of one another, this compression and subsequent reconstruction would be a very difficult task. However, if some sort of structure exists in the data (ie. correlations between input features), this structure can be learned and consequently leveraged when forcing the input through the network's bottleneck.\n",
    "![alt text](https://www.jeremyjordan.me/content/images/2018/03/Screen-Shot-2018-03-06-at-3.17.13-PM.png \"From https://www.jeremyjordan.me/autoencoders/\")\n"
   ]
  },
  {
   "cell_type": "markdown",
   "metadata": {
    "heading_collapsed": true
   },
   "source": [
    "## Download the data"
   ]
  },
  {
   "cell_type": "markdown",
   "metadata": {
    "hidden": true
   },
   "source": [
    "The dataset I'll be using for this project is the LANL 2017 netflow dataset and focusing my initial analysis on day-03. There are about 6.1 million entries or 'events' that occur on day-03, each with 11 fields of data:"
   ]
  },
  {
   "cell_type": "code",
   "execution_count": 1,
   "metadata": {
    "hidden": true
   },
   "outputs": [
    {
     "data": {
      "text/html": [
       "<div>\n",
       "<style>\n",
       "    .dataframe thead tr:only-child th {\n",
       "        text-align: right;\n",
       "    }\n",
       "\n",
       "    .dataframe thead th {\n",
       "        text-align: left;\n",
       "    }\n",
       "\n",
       "    .dataframe tbody tr th {\n",
       "        vertical-align: top;\n",
       "    }\n",
       "</style>\n",
       "<table border=\"1\" class=\"dataframe\">\n",
       "  <thead>\n",
       "    <tr style=\"text-align: right;\">\n",
       "      <th></th>\n",
       "      <th>Time</th>\n",
       "      <th>Duration</th>\n",
       "      <th>SrcDevice</th>\n",
       "      <th>DstDevice</th>\n",
       "      <th>Protocol</th>\n",
       "      <th>SrcPort</th>\n",
       "      <th>DstPort</th>\n",
       "      <th>SrcPackets</th>\n",
       "      <th>DstPackets</th>\n",
       "      <th>SrcBytes</th>\n",
       "      <th>DstBytes</th>\n",
       "    </tr>\n",
       "  </thead>\n",
       "  <tbody>\n",
       "    <tr>\n",
       "      <th>0</th>\n",
       "      <td>172800</td>\n",
       "      <td>0</td>\n",
       "      <td>Comp348305</td>\n",
       "      <td>Comp370444</td>\n",
       "      <td>6</td>\n",
       "      <td>Port02726</td>\n",
       "      <td>80</td>\n",
       "      <td>0</td>\n",
       "      <td>5</td>\n",
       "      <td>0</td>\n",
       "      <td>784</td>\n",
       "    </tr>\n",
       "    <tr>\n",
       "      <th>1</th>\n",
       "      <td>172800</td>\n",
       "      <td>0</td>\n",
       "      <td>Comp817584</td>\n",
       "      <td>Comp275646</td>\n",
       "      <td>17</td>\n",
       "      <td>Port97545</td>\n",
       "      <td>53</td>\n",
       "      <td>1</td>\n",
       "      <td>0</td>\n",
       "      <td>77</td>\n",
       "      <td>0</td>\n",
       "    </tr>\n",
       "    <tr>\n",
       "      <th>2</th>\n",
       "      <td>172800</td>\n",
       "      <td>0</td>\n",
       "      <td>Comp654013</td>\n",
       "      <td>Comp685925</td>\n",
       "      <td>6</td>\n",
       "      <td>Port26890</td>\n",
       "      <td>Port94857</td>\n",
       "      <td>6</td>\n",
       "      <td>5</td>\n",
       "      <td>1379</td>\n",
       "      <td>1770</td>\n",
       "    </tr>\n",
       "    <tr>\n",
       "      <th>3</th>\n",
       "      <td>172800</td>\n",
       "      <td>0</td>\n",
       "      <td>Comp500631</td>\n",
       "      <td>Comp275646</td>\n",
       "      <td>17</td>\n",
       "      <td>Port62938</td>\n",
       "      <td>53</td>\n",
       "      <td>1</td>\n",
       "      <td>0</td>\n",
       "      <td>64</td>\n",
       "      <td>0</td>\n",
       "    </tr>\n",
       "    <tr>\n",
       "      <th>4</th>\n",
       "      <td>172800</td>\n",
       "      <td>0</td>\n",
       "      <td>Comp500631</td>\n",
       "      <td>Comp275646</td>\n",
       "      <td>17</td>\n",
       "      <td>Port52912</td>\n",
       "      <td>53</td>\n",
       "      <td>1</td>\n",
       "      <td>0</td>\n",
       "      <td>64</td>\n",
       "      <td>0</td>\n",
       "    </tr>\n",
       "  </tbody>\n",
       "</table>\n",
       "</div>"
      ],
      "text/plain": [
       "     Time  Duration   SrcDevice   DstDevice  Protocol    SrcPort    DstPort  \\\n",
       "0  172800         0  Comp348305  Comp370444         6  Port02726         80   \n",
       "1  172800         0  Comp817584  Comp275646        17  Port97545         53   \n",
       "2  172800         0  Comp654013  Comp685925         6  Port26890  Port94857   \n",
       "3  172800         0  Comp500631  Comp275646        17  Port62938         53   \n",
       "4  172800         0  Comp500631  Comp275646        17  Port52912         53   \n",
       "\n",
       "   SrcPackets  DstPackets  SrcBytes  DstBytes  \n",
       "0           0           5         0       784  \n",
       "1           1           0        77         0  \n",
       "2           6           5      1379      1770  \n",
       "3           1           0        64         0  \n",
       "4           1           0        64         0  "
      ]
     },
     "execution_count": 1,
     "metadata": {},
     "output_type": "execute_result"
    }
   ],
   "source": [
    "import os\n",
    "import pandas as pd\n",
    "\n",
    "DIR = \"../input\"\n",
    "\n",
    "colnames = ['Time', 'Duration', 'SrcDevice', 'DstDevice', 'Protocol', 'SrcPort', 'DstPort', 'SrcPackets', \n",
    "       'DstPackets', 'SrcBytes', 'DstBytes']\n",
    "cat_vars = ['SrcDevice', 'DstDevice','Protocol','SrcPort', 'DstPort']\n",
    "cont_vars = ['Time', 'Duration', 'SrcPackets', 'DstPackets', 'SrcBytes', 'DstBytes']\n",
    "train_df = pd.read_csv(os.path.join(DIR, 'netflow_day-03.csv'),names = colnames)\n",
    "train_df.head()"
   ]
  },
  {
   "cell_type": "code",
   "execution_count": null,
   "metadata": {
    "collapsed": true,
    "hidden": true
   },
   "outputs": [],
   "source": [
    "%wget -c https://csr.lanl.gov/data/unified-host-network-dataset-2017/netflow/netflow_day-03.bz2"
   ]
  },
  {
   "cell_type": "markdown",
   "metadata": {
    "hidden": true
   },
   "source": [
    "| Field Name    | Description                                                |\n",
    "| ------------- |:----------------------------------------------------------:|\n",
    "| Time          | The start time of the event in epoch time format.          |\n",
    "| Duration      | The duration of the event in seconds.                      |  \n",
    "| SrcDevice\t    | The device that likely initiated the event.                |\n",
    "| DstDevice\t    | The receiving device.                                      | \n",
    "| Protocol\t    | The protocol number.                                       |\n",
    "| SrcPort\t    | The port used by the SrcDevice.                            |  \n",
    "| DstPort\t    | The port used by the DstDevice.                            | \n",
    "| SrcPackets    | The number of packets the SrcDevice sent during the event. | \n",
    "| DstPackets    | The number of packets the DstDevice sent during the event. | \n",
    "| SrcBytes      | The number of bytes the SrcDevice sent during the event.   | \n",
    "| DstBytes      | The number of bytes the DstDevice sent during the event.   |  "
   ]
  },
  {
   "cell_type": "markdown",
   "metadata": {
    "heading_collapsed": true
   },
   "source": [
    "## Load the data"
   ]
  },
  {
   "cell_type": "markdown",
   "metadata": {
    "hidden": true
   },
   "source": [
    "Each day of the LANL netflow data ends in an incomplete line. Hence attempting a simple `bunzip2` will result in a failure. To work around this issue we can use `bzip2recover` on the file, use `bzip2` to unzip the individual blocks and stich them together into a single csv file and finally use a quick bash command to remove the corrupted final line."
   ]
  },
  {
   "cell_type": "code",
   "execution_count": null,
   "metadata": {
    "collapsed": true,
    "hidden": true
   },
   "outputs": [],
   "source": [
    "%bzip2recover netflow_day-03.bz2\n",
    "%bzip2 -dc rec00* > netflow_day-03.csv\n",
    "%head -n -1 netflow_day-03.csv > temp.txt ; mv temp.txt netflow_day-03.csv\n",
    "%mkdir ../input\n",
    "%mv netflow_day-03.csv ../input/"
   ]
  },
  {
   "cell_type": "markdown",
   "metadata": {},
   "source": [
    "## Data Exploration"
   ]
  },
  {
   "cell_type": "markdown",
   "metadata": {},
   "source": [
    "### Initial look"
   ]
  },
  {
   "cell_type": "code",
   "execution_count": 2,
   "metadata": {
    "collapsed": true
   },
   "outputs": [],
   "source": [
    "%matplotlib inline\n",
    "import os\n",
    "import numpy as np\n",
    "import pandas as pd\n",
    "import matplotlib.pyplot as plt\n",
    "import seaborn as sns\n",
    "import math"
   ]
  },
  {
   "cell_type": "markdown",
   "metadata": {},
   "source": [
    "| Field Name    | Description                                                |\n",
    "| ------------- |:----------------------------------------------------------:|\n",
    "| Time          | The start time of the event in epoch time format.          |\n",
    "| Duration      | The duration of the event in seconds.                      |  \n",
    "| SrcDevice\t    | The device that likely initiated the event.                |\n",
    "| DstDevice\t    | The receiving device.                                      | \n",
    "| Protocol\t    | The protocol number.                                       |\n",
    "| SrcPort\t    | The port used by the SrcDevice.                            |  \n",
    "| DstPort\t    | The port used by the DstDevice.                            | \n",
    "| SrcPackets    | The number of packets the SrcDevice sent during the event. | \n",
    "| DstPackets    | The number of packets the DstDevice sent during the event. | \n",
    "| SrcBytes      | The number of bytes the SrcDevice sent during the event.   | \n",
    "| DstBytes      | The number of bytes the DstDevice sent during the event.   |  "
   ]
  },
  {
   "cell_type": "code",
   "execution_count": 3,
   "metadata": {
    "collapsed": true
   },
   "outputs": [],
   "source": [
    "DIR = \"../input\"\n",
    "\n",
    "colnames = ['Time', 'Duration', 'SrcDevice', 'DstDevice', 'Protocol', 'SrcPort', 'DstPort', 'SrcPackets', \n",
    "       'DstPackets', 'SrcBytes', 'DstBytes']\n",
    "cat_vars = ['SrcDevice', 'DstDevice','Protocol','SrcPort', 'DstPort']\n",
    "cont_vars = ['Time', 'Duration', 'SrcPackets', 'DstPackets', 'SrcBytes', 'DstBytes']\n",
    "train_df = pd.read_csv(os.path.join(DIR, 'netflow_day-03.csv'),names = colnames)"
   ]
  },
  {
   "cell_type": "markdown",
   "metadata": {},
   "source": [
    "We've got a little over 6.1 million events occuring during day-03 in our dataset."
   ]
  },
  {
   "cell_type": "code",
   "execution_count": 45,
   "metadata": {},
   "outputs": [
    {
     "data": {
      "text/plain": [
       "(6102087, 11)"
      ]
     },
     "execution_count": 45,
     "metadata": {},
     "output_type": "execute_result"
    }
   ],
   "source": [
    "train_df.shape"
   ]
  },
  {
   "cell_type": "code",
   "execution_count": 35,
   "metadata": {},
   "outputs": [
    {
     "data": {
      "text/html": [
       "<div>\n",
       "<style scoped>\n",
       "    .dataframe tbody tr th:only-of-type {\n",
       "        vertical-align: middle;\n",
       "    }\n",
       "\n",
       "    .dataframe tbody tr th {\n",
       "        vertical-align: top;\n",
       "    }\n",
       "\n",
       "    .dataframe thead th {\n",
       "        text-align: right;\n",
       "    }\n",
       "</style>\n",
       "<table border=\"1\" class=\"dataframe\">\n",
       "  <thead>\n",
       "    <tr style=\"text-align: right;\">\n",
       "      <th></th>\n",
       "      <th>Time</th>\n",
       "      <th>Duration</th>\n",
       "      <th>SrcDevice</th>\n",
       "      <th>DstDevice</th>\n",
       "      <th>Protocol</th>\n",
       "      <th>SrcPort</th>\n",
       "      <th>DstPort</th>\n",
       "      <th>SrcPackets</th>\n",
       "      <th>DstPackets</th>\n",
       "      <th>SrcBytes</th>\n",
       "      <th>DstBytes</th>\n",
       "    </tr>\n",
       "  </thead>\n",
       "  <tbody>\n",
       "    <tr>\n",
       "      <th>0</th>\n",
       "      <td>172800</td>\n",
       "      <td>0</td>\n",
       "      <td>Comp348305</td>\n",
       "      <td>Comp370444</td>\n",
       "      <td>6</td>\n",
       "      <td>Port02726</td>\n",
       "      <td>80</td>\n",
       "      <td>0</td>\n",
       "      <td>5</td>\n",
       "      <td>0</td>\n",
       "      <td>784</td>\n",
       "    </tr>\n",
       "    <tr>\n",
       "      <th>1</th>\n",
       "      <td>172800</td>\n",
       "      <td>0</td>\n",
       "      <td>Comp817584</td>\n",
       "      <td>Comp275646</td>\n",
       "      <td>17</td>\n",
       "      <td>Port97545</td>\n",
       "      <td>53</td>\n",
       "      <td>1</td>\n",
       "      <td>0</td>\n",
       "      <td>77</td>\n",
       "      <td>0</td>\n",
       "    </tr>\n",
       "    <tr>\n",
       "      <th>2</th>\n",
       "      <td>172800</td>\n",
       "      <td>0</td>\n",
       "      <td>Comp654013</td>\n",
       "      <td>Comp685925</td>\n",
       "      <td>6</td>\n",
       "      <td>Port26890</td>\n",
       "      <td>Port94857</td>\n",
       "      <td>6</td>\n",
       "      <td>5</td>\n",
       "      <td>1379</td>\n",
       "      <td>1770</td>\n",
       "    </tr>\n",
       "    <tr>\n",
       "      <th>3</th>\n",
       "      <td>172800</td>\n",
       "      <td>0</td>\n",
       "      <td>Comp500631</td>\n",
       "      <td>Comp275646</td>\n",
       "      <td>17</td>\n",
       "      <td>Port62938</td>\n",
       "      <td>53</td>\n",
       "      <td>1</td>\n",
       "      <td>0</td>\n",
       "      <td>64</td>\n",
       "      <td>0</td>\n",
       "    </tr>\n",
       "    <tr>\n",
       "      <th>4</th>\n",
       "      <td>172800</td>\n",
       "      <td>0</td>\n",
       "      <td>Comp500631</td>\n",
       "      <td>Comp275646</td>\n",
       "      <td>17</td>\n",
       "      <td>Port52912</td>\n",
       "      <td>53</td>\n",
       "      <td>1</td>\n",
       "      <td>0</td>\n",
       "      <td>64</td>\n",
       "      <td>0</td>\n",
       "    </tr>\n",
       "  </tbody>\n",
       "</table>\n",
       "</div>"
      ],
      "text/plain": [
       "     Time  Duration   SrcDevice   DstDevice  Protocol    SrcPort    DstPort  \\\n",
       "0  172800         0  Comp348305  Comp370444         6  Port02726         80   \n",
       "1  172800         0  Comp817584  Comp275646        17  Port97545         53   \n",
       "2  172800         0  Comp654013  Comp685925         6  Port26890  Port94857   \n",
       "3  172800         0  Comp500631  Comp275646        17  Port62938         53   \n",
       "4  172800         0  Comp500631  Comp275646        17  Port52912         53   \n",
       "\n",
       "   SrcPackets  DstPackets  SrcBytes  DstBytes  \n",
       "0           0           5         0       784  \n",
       "1           1           0        77         0  \n",
       "2           6           5      1379      1770  \n",
       "3           1           0        64         0  \n",
       "4           1           0        64         0  "
      ]
     },
     "execution_count": 35,
     "metadata": {},
     "output_type": "execute_result"
    }
   ],
   "source": [
    "train_df.head()"
   ]
  },
  {
   "cell_type": "markdown",
   "metadata": {},
   "source": [
    "Let's get an idea of the number of unique values for a few of the features.  `SrcDevice` and `DstDevice` each have roughly 19K unique values. `SrcPort` has roughly 65K unique values while `DstPort` has roughly 40K unique values. \n",
    "\n",
    "(Technical Aside: This high cardinality means its difficult to take advantage of a one-hot-encoding scheme for these 4 variables although we will be able to break apart `SrcDevice` and `DstDevice` for some more information as I will show below. **Question: Are Comp/IP/Port numbers near one another are related in their uses?** For now I'll treat them as categorical. Protocol only has 3 different values, so we can easily one-hot-encode that variable (1=ICMP Internet Control Message, 6=TCP Transmission Control, 17=UDP User Datagram).) "
   ]
  },
  {
   "cell_type": "markdown",
   "metadata": {
    "heading_collapsed": true
   },
   "source": [
    "### `SrcDevice` and `DstDevice`"
   ]
  },
  {
   "cell_type": "markdown",
   "metadata": {
    "heading_collapsed": true,
    "hidden": true
   },
   "source": [
    "#### There are 6 general categories of Devices: `Comp`, `IP`, `ActiveDirectory`, `EnterpriseAppServer`, `VPN` and `VScanner`."
   ]
  },
  {
   "cell_type": "code",
   "execution_count": 45,
   "metadata": {
    "hidden": true
   },
   "outputs": [
    {
     "data": {
      "text/plain": [
       "Index(['ActiveDirectory', 'Comp000116', 'Comp000156', 'Comp000219',\n",
       "       'Comp000566', 'Comp000573', 'Comp000577', 'Comp000688', 'Comp000696',\n",
       "       'Comp000775',\n",
       "       ...\n",
       "       'IP998111', 'IP998491', 'IP998759', 'IP998823', 'IP999095', 'IP999633',\n",
       "       'IP999839', 'IP999955', 'VPN', 'VScanner'],\n",
       "      dtype='object', length=18950)"
      ]
     },
     "execution_count": 45,
     "metadata": {},
     "output_type": "execute_result"
    }
   ],
   "source": [
    "train_df['SrcDevice'].astype('category').cat.categories"
   ]
  },
  {
   "cell_type": "code",
   "execution_count": 22,
   "metadata": {
    "hidden": true
   },
   "outputs": [
    {
     "data": {
      "text/plain": [
       "Index(['ActiveDirectory', 'Comp000190', 'Comp000244', 'Comp000332',\n",
       "       'Comp000346', 'Comp000386', 'Comp000575', 'Comp000595', 'Comp000688',\n",
       "       'Comp000944',\n",
       "       ...\n",
       "       'IP999711', 'IP999776', 'IP999780', 'IP999852', 'IP999875', 'IP999896',\n",
       "       'IP999935', 'IP999949', 'VPN', 'VScanner'],\n",
       "      dtype='object', length=18921)"
      ]
     },
     "execution_count": 22,
     "metadata": {},
     "output_type": "execute_result"
    }
   ],
   "source": [
    "train_df['DstDevice'].astype('category').cat.categories"
   ]
  },
  {
   "cell_type": "markdown",
   "metadata": {
    "hidden": true
   },
   "source": [
    "There are a few other Devices beyond Comps and IPs."
   ]
  },
  {
   "cell_type": "code",
   "execution_count": 5,
   "metadata": {
    "hidden": true
   },
   "outputs": [
    {
     "name": "stdout",
     "output_type": "stream",
     "text": [
      "Index(['ActiveDirectory', 'EnterpriseAppServer', 'VPN', 'VScanner'], dtype='object')\n"
     ]
    }
   ],
   "source": [
    "noComp_orIP = train_df['SrcDevice'].loc[(train_df['SrcDevice'].str.contains('Comp')==False) &\n",
    "                          (train_df['SrcDevice'].str.contains('IP')==False)].astype('category').cat.categories\n",
    "print(noComp_orIP)"
   ]
  },
  {
   "cell_type": "markdown",
   "metadata": {
    "heading_collapsed": true,
    "hidden": true
   },
   "source": [
    "#### The majority (98%) of events appear to have a `SrcDevice` that is a Comp. The next closest Device is the `EnterpriseAppServer` at 1.37% of events. It's also interesting to note that 8 Comps are the `SrcDevice` of nearly half the data."
   ]
  },
  {
   "cell_type": "code",
   "execution_count": 46,
   "metadata": {
    "hidden": true
   },
   "outputs": [
    {
     "name": "stdout",
     "output_type": "stream",
     "text": [
      "SrcDevice Breakdown\n",
      "Comp 0.9766106251844656\n",
      "IP 0.0033899877205946097\n",
      "ActiveDirectory 0.0014785105489318654\n",
      "EnterpriseAppServer 0.013733498063859135\n",
      "VPN 0.0011150283501366008\n",
      "VScanner 0.0036723501320122115\n"
     ]
    }
   ],
   "source": [
    "print('Events\\' SrcDevice Breakdown')\n",
    "for i in ['Comp','IP','ActiveDirectory', 'EnterpriseAppServer', 'VPN', 'VScanner']:\n",
    "    tmp = train_df['SrcDevice'].loc[(train_df['SrcDevice'].str.contains(f'{i}')==True)].count()/train_df['Time'].count()\n",
    "    print(i,tmp)"
   ]
  },
  {
   "cell_type": "code",
   "execution_count": 57,
   "metadata": {
    "hidden": true
   },
   "outputs": [
    {
     "data": {
      "text/html": [
       "<div>\n",
       "<style scoped>\n",
       "    .dataframe tbody tr th:only-of-type {\n",
       "        vertical-align: middle;\n",
       "    }\n",
       "\n",
       "    .dataframe tbody tr th {\n",
       "        vertical-align: top;\n",
       "    }\n",
       "\n",
       "    .dataframe thead th {\n",
       "        text-align: right;\n",
       "    }\n",
       "</style>\n",
       "<table border=\"1\" class=\"dataframe\">\n",
       "  <thead>\n",
       "    <tr style=\"text-align: right;\">\n",
       "      <th></th>\n",
       "      <th>SrcDevice_count</th>\n",
       "      <th>Duration</th>\n",
       "      <th>SrcPort</th>\n",
       "      <th>DstPort</th>\n",
       "      <th>SrcPackets</th>\n",
       "      <th>DstPackets</th>\n",
       "      <th>SrcBytes</th>\n",
       "      <th>DstBytes</th>\n",
       "      <th>DstDevice_Comp</th>\n",
       "      <th>SrcDevice_IP</th>\n",
       "      <th>...</th>\n",
       "      <th>DstDevice_ActiveDirectory</th>\n",
       "      <th>SrcDevice_EnterpriseAppServer</th>\n",
       "      <th>DstDevice_EnterpriseAppServer</th>\n",
       "      <th>SrcDevice_VPN</th>\n",
       "      <th>DstDevice_VPN</th>\n",
       "      <th>SrcDevice_VScanner</th>\n",
       "      <th>DstDevice_VScanner</th>\n",
       "      <th>Protocol_1</th>\n",
       "      <th>Protocol_6</th>\n",
       "      <th>Protocol_17</th>\n",
       "    </tr>\n",
       "    <tr>\n",
       "      <th>SrcDevice_Comp</th>\n",
       "      <th></th>\n",
       "      <th></th>\n",
       "      <th></th>\n",
       "      <th></th>\n",
       "      <th></th>\n",
       "      <th></th>\n",
       "      <th></th>\n",
       "      <th></th>\n",
       "      <th></th>\n",
       "      <th></th>\n",
       "      <th></th>\n",
       "      <th></th>\n",
       "      <th></th>\n",
       "      <th></th>\n",
       "      <th></th>\n",
       "      <th></th>\n",
       "      <th></th>\n",
       "      <th></th>\n",
       "      <th></th>\n",
       "      <th></th>\n",
       "      <th></th>\n",
       "    </tr>\n",
       "  </thead>\n",
       "  <tbody>\n",
       "    <tr>\n",
       "      <th>44772</th>\n",
       "      <td>412110</td>\n",
       "      <td>412110</td>\n",
       "      <td>412110</td>\n",
       "      <td>412110</td>\n",
       "      <td>412110</td>\n",
       "      <td>412110</td>\n",
       "      <td>412110</td>\n",
       "      <td>412110</td>\n",
       "      <td>412110</td>\n",
       "      <td>412110</td>\n",
       "      <td>...</td>\n",
       "      <td>412110</td>\n",
       "      <td>412110</td>\n",
       "      <td>412110</td>\n",
       "      <td>412110</td>\n",
       "      <td>412110</td>\n",
       "      <td>412110</td>\n",
       "      <td>412110</td>\n",
       "      <td>412110</td>\n",
       "      <td>412110</td>\n",
       "      <td>412110</td>\n",
       "    </tr>\n",
       "    <tr>\n",
       "      <th>296454</th>\n",
       "      <td>396393</td>\n",
       "      <td>396393</td>\n",
       "      <td>396393</td>\n",
       "      <td>396393</td>\n",
       "      <td>396393</td>\n",
       "      <td>396393</td>\n",
       "      <td>396393</td>\n",
       "      <td>396393</td>\n",
       "      <td>396393</td>\n",
       "      <td>396393</td>\n",
       "      <td>...</td>\n",
       "      <td>396393</td>\n",
       "      <td>396393</td>\n",
       "      <td>396393</td>\n",
       "      <td>396393</td>\n",
       "      <td>396393</td>\n",
       "      <td>396393</td>\n",
       "      <td>396393</td>\n",
       "      <td>396393</td>\n",
       "      <td>396393</td>\n",
       "      <td>396393</td>\n",
       "    </tr>\n",
       "    <tr>\n",
       "      <th>623258</th>\n",
       "      <td>376489</td>\n",
       "      <td>376489</td>\n",
       "      <td>376489</td>\n",
       "      <td>376489</td>\n",
       "      <td>376489</td>\n",
       "      <td>376489</td>\n",
       "      <td>376489</td>\n",
       "      <td>376489</td>\n",
       "      <td>376489</td>\n",
       "      <td>376489</td>\n",
       "      <td>...</td>\n",
       "      <td>376489</td>\n",
       "      <td>376489</td>\n",
       "      <td>376489</td>\n",
       "      <td>376489</td>\n",
       "      <td>376489</td>\n",
       "      <td>376489</td>\n",
       "      <td>376489</td>\n",
       "      <td>376489</td>\n",
       "      <td>376489</td>\n",
       "      <td>376489</td>\n",
       "    </tr>\n",
       "    <tr>\n",
       "      <th>73202</th>\n",
       "      <td>355912</td>\n",
       "      <td>355912</td>\n",
       "      <td>355912</td>\n",
       "      <td>355912</td>\n",
       "      <td>355912</td>\n",
       "      <td>355912</td>\n",
       "      <td>355912</td>\n",
       "      <td>355912</td>\n",
       "      <td>355912</td>\n",
       "      <td>355912</td>\n",
       "      <td>...</td>\n",
       "      <td>355912</td>\n",
       "      <td>355912</td>\n",
       "      <td>355912</td>\n",
       "      <td>355912</td>\n",
       "      <td>355912</td>\n",
       "      <td>355912</td>\n",
       "      <td>355912</td>\n",
       "      <td>355912</td>\n",
       "      <td>355912</td>\n",
       "      <td>355912</td>\n",
       "    </tr>\n",
       "    <tr>\n",
       "      <th>30334</th>\n",
       "      <td>343163</td>\n",
       "      <td>343163</td>\n",
       "      <td>343163</td>\n",
       "      <td>343163</td>\n",
       "      <td>343163</td>\n",
       "      <td>343163</td>\n",
       "      <td>343163</td>\n",
       "      <td>343163</td>\n",
       "      <td>343163</td>\n",
       "      <td>343163</td>\n",
       "      <td>...</td>\n",
       "      <td>343163</td>\n",
       "      <td>343163</td>\n",
       "      <td>343163</td>\n",
       "      <td>343163</td>\n",
       "      <td>343163</td>\n",
       "      <td>343163</td>\n",
       "      <td>343163</td>\n",
       "      <td>343163</td>\n",
       "      <td>343163</td>\n",
       "      <td>343163</td>\n",
       "    </tr>\n",
       "    <tr>\n",
       "      <th>866402</th>\n",
       "      <td>342651</td>\n",
       "      <td>342651</td>\n",
       "      <td>342651</td>\n",
       "      <td>342651</td>\n",
       "      <td>342651</td>\n",
       "      <td>342651</td>\n",
       "      <td>342651</td>\n",
       "      <td>342651</td>\n",
       "      <td>342651</td>\n",
       "      <td>342651</td>\n",
       "      <td>...</td>\n",
       "      <td>342651</td>\n",
       "      <td>342651</td>\n",
       "      <td>342651</td>\n",
       "      <td>342651</td>\n",
       "      <td>342651</td>\n",
       "      <td>342651</td>\n",
       "      <td>342651</td>\n",
       "      <td>342651</td>\n",
       "      <td>342651</td>\n",
       "      <td>342651</td>\n",
       "    </tr>\n",
       "    <tr>\n",
       "      <th>257274</th>\n",
       "      <td>342549</td>\n",
       "      <td>342549</td>\n",
       "      <td>342549</td>\n",
       "      <td>342549</td>\n",
       "      <td>342549</td>\n",
       "      <td>342549</td>\n",
       "      <td>342549</td>\n",
       "      <td>342549</td>\n",
       "      <td>342549</td>\n",
       "      <td>342549</td>\n",
       "      <td>...</td>\n",
       "      <td>342549</td>\n",
       "      <td>342549</td>\n",
       "      <td>342549</td>\n",
       "      <td>342549</td>\n",
       "      <td>342549</td>\n",
       "      <td>342549</td>\n",
       "      <td>342549</td>\n",
       "      <td>342549</td>\n",
       "      <td>342549</td>\n",
       "      <td>342549</td>\n",
       "    </tr>\n",
       "    <tr>\n",
       "      <th>965575</th>\n",
       "      <td>337894</td>\n",
       "      <td>337894</td>\n",
       "      <td>337894</td>\n",
       "      <td>337894</td>\n",
       "      <td>337894</td>\n",
       "      <td>337894</td>\n",
       "      <td>337894</td>\n",
       "      <td>337894</td>\n",
       "      <td>337894</td>\n",
       "      <td>337894</td>\n",
       "      <td>...</td>\n",
       "      <td>337894</td>\n",
       "      <td>337894</td>\n",
       "      <td>337894</td>\n",
       "      <td>337894</td>\n",
       "      <td>337894</td>\n",
       "      <td>337894</td>\n",
       "      <td>337894</td>\n",
       "      <td>337894</td>\n",
       "      <td>337894</td>\n",
       "      <td>337894</td>\n",
       "    </tr>\n",
       "    <tr>\n",
       "      <th>0</th>\n",
       "      <td>142724</td>\n",
       "      <td>142724</td>\n",
       "      <td>142724</td>\n",
       "      <td>142724</td>\n",
       "      <td>142724</td>\n",
       "      <td>142724</td>\n",
       "      <td>142724</td>\n",
       "      <td>142724</td>\n",
       "      <td>142724</td>\n",
       "      <td>142724</td>\n",
       "      <td>...</td>\n",
       "      <td>142724</td>\n",
       "      <td>142724</td>\n",
       "      <td>142724</td>\n",
       "      <td>142724</td>\n",
       "      <td>142724</td>\n",
       "      <td>142724</td>\n",
       "      <td>142724</td>\n",
       "      <td>142724</td>\n",
       "      <td>142724</td>\n",
       "      <td>142724</td>\n",
       "    </tr>\n",
       "    <tr>\n",
       "      <th>107130</th>\n",
       "      <td>97940</td>\n",
       "      <td>97940</td>\n",
       "      <td>97940</td>\n",
       "      <td>97940</td>\n",
       "      <td>97940</td>\n",
       "      <td>97940</td>\n",
       "      <td>97940</td>\n",
       "      <td>97940</td>\n",
       "      <td>97940</td>\n",
       "      <td>97940</td>\n",
       "      <td>...</td>\n",
       "      <td>97940</td>\n",
       "      <td>97940</td>\n",
       "      <td>97940</td>\n",
       "      <td>97940</td>\n",
       "      <td>97940</td>\n",
       "      <td>97940</td>\n",
       "      <td>97940</td>\n",
       "      <td>97940</td>\n",
       "      <td>97940</td>\n",
       "      <td>97940</td>\n",
       "    </tr>\n",
       "  </tbody>\n",
       "</table>\n",
       "<p>10 rows × 22 columns</p>\n",
       "</div>"
      ],
      "text/plain": [
       "                SrcDevice_count  Duration  SrcPort  DstPort  SrcPackets  \\\n",
       "SrcDevice_Comp                                                            \n",
       "44772                    412110    412110   412110   412110      412110   \n",
       "296454                   396393    396393   396393   396393      396393   \n",
       "623258                   376489    376489   376489   376489      376489   \n",
       "73202                    355912    355912   355912   355912      355912   \n",
       "30334                    343163    343163   343163   343163      343163   \n",
       "866402                   342651    342651   342651   342651      342651   \n",
       "257274                   342549    342549   342549   342549      342549   \n",
       "965575                   337894    337894   337894   337894      337894   \n",
       "0                        142724    142724   142724   142724      142724   \n",
       "107130                    97940     97940    97940    97940       97940   \n",
       "\n",
       "                DstPackets  SrcBytes  DstBytes  DstDevice_Comp  SrcDevice_IP  \\\n",
       "SrcDevice_Comp                                                                 \n",
       "44772               412110    412110    412110          412110        412110   \n",
       "296454              396393    396393    396393          396393        396393   \n",
       "623258              376489    376489    376489          376489        376489   \n",
       "73202               355912    355912    355912          355912        355912   \n",
       "30334               343163    343163    343163          343163        343163   \n",
       "866402              342651    342651    342651          342651        342651   \n",
       "257274              342549    342549    342549          342549        342549   \n",
       "965575              337894    337894    337894          337894        337894   \n",
       "0                   142724    142724    142724          142724        142724   \n",
       "107130               97940     97940     97940           97940         97940   \n",
       "\n",
       "                   ...       DstDevice_ActiveDirectory  \\\n",
       "SrcDevice_Comp     ...                                   \n",
       "44772              ...                          412110   \n",
       "296454             ...                          396393   \n",
       "623258             ...                          376489   \n",
       "73202              ...                          355912   \n",
       "30334              ...                          343163   \n",
       "866402             ...                          342651   \n",
       "257274             ...                          342549   \n",
       "965575             ...                          337894   \n",
       "0                  ...                          142724   \n",
       "107130             ...                           97940   \n",
       "\n",
       "                SrcDevice_EnterpriseAppServer  DstDevice_EnterpriseAppServer  \\\n",
       "SrcDevice_Comp                                                                 \n",
       "44772                                  412110                         412110   \n",
       "296454                                 396393                         396393   \n",
       "623258                                 376489                         376489   \n",
       "73202                                  355912                         355912   \n",
       "30334                                  343163                         343163   \n",
       "866402                                 342651                         342651   \n",
       "257274                                 342549                         342549   \n",
       "965575                                 337894                         337894   \n",
       "0                                      142724                         142724   \n",
       "107130                                  97940                          97940   \n",
       "\n",
       "                SrcDevice_VPN  DstDevice_VPN  SrcDevice_VScanner  \\\n",
       "SrcDevice_Comp                                                     \n",
       "44772                  412110         412110              412110   \n",
       "296454                 396393         396393              396393   \n",
       "623258                 376489         376489              376489   \n",
       "73202                  355912         355912              355912   \n",
       "30334                  343163         343163              343163   \n",
       "866402                 342651         342651              342651   \n",
       "257274                 342549         342549              342549   \n",
       "965575                 337894         337894              337894   \n",
       "0                      142724         142724              142724   \n",
       "107130                  97940          97940               97940   \n",
       "\n",
       "                DstDevice_VScanner  Protocol_1  Protocol_6  Protocol_17  \n",
       "SrcDevice_Comp                                                           \n",
       "44772                       412110      412110      412110       412110  \n",
       "296454                      396393      396393      396393       396393  \n",
       "623258                      376489      376489      376489       376489  \n",
       "73202                       355912      355912      355912       355912  \n",
       "30334                       343163      343163      343163       343163  \n",
       "866402                      342651      342651      342651       342651  \n",
       "257274                      342549      342549      342549       342549  \n",
       "965575                      337894      337894      337894       337894  \n",
       "0                           142724      142724      142724       142724  \n",
       "107130                       97940       97940       97940        97940  \n",
       "\n",
       "[10 rows x 22 columns]"
      ]
     },
     "execution_count": 57,
     "metadata": {},
     "output_type": "execute_result"
    }
   ],
   "source": [
    "counted = train_df1.groupby(\"SrcDevice_Comp\").count().rename(columns={\"Time\":\"SrcDevice_count\"})\n",
    "counted.sort_values(by=['SrcDevice_count'],ascending=False).head(10)"
   ]
  },
  {
   "cell_type": "markdown",
   "metadata": {
    "heading_collapsed": true,
    "hidden": true
   },
   "source": [
    "#### While the majority of events have a Comp for their `DstDevice` (86.61%), `ActiveDirectory` and `EnterpriseAppServer` have a larger share than for the `SrcDevice` (7.14% and 5.85% respectively)."
   ]
  },
  {
   "cell_type": "code",
   "execution_count": 47,
   "metadata": {
    "hidden": true
   },
   "outputs": [
    {
     "name": "stdout",
     "output_type": "stream",
     "text": [
      "DstDevice Breakdown\n",
      "Comp 0.8661133477775719\n",
      "IP 0.0035854946020926937\n",
      "ActiveDirectory 0.07141753305057762\n",
      "EnterpriseAppServer 0.05854111880082995\n",
      "VPN 0.00013454413219608308\n",
      "VScanner 0.00020796163673182633\n"
     ]
    }
   ],
   "source": [
    "print('Events\\' DstDevice Breakdown')\n",
    "for i in ['Comp','IP','ActiveDirectory', 'EnterpriseAppServer', 'VPN', 'VScanner']:\n",
    "    tmp = train_df['DstDevice'].loc[(train_df['DstDevice'].str.contains(f'{i}')==True)].count()/train_df['Time'].count()\n",
    "    print(i,tmp)"
   ]
  },
  {
   "cell_type": "code",
   "execution_count": 58,
   "metadata": {
    "hidden": true
   },
   "outputs": [
    {
     "data": {
      "text/html": [
       "<div>\n",
       "<style scoped>\n",
       "    .dataframe tbody tr th:only-of-type {\n",
       "        vertical-align: middle;\n",
       "    }\n",
       "\n",
       "    .dataframe tbody tr th {\n",
       "        vertical-align: top;\n",
       "    }\n",
       "\n",
       "    .dataframe thead th {\n",
       "        text-align: right;\n",
       "    }\n",
       "</style>\n",
       "<table border=\"1\" class=\"dataframe\">\n",
       "  <thead>\n",
       "    <tr style=\"text-align: right;\">\n",
       "      <th></th>\n",
       "      <th>DstDevice_count</th>\n",
       "      <th>Duration</th>\n",
       "      <th>SrcPort</th>\n",
       "      <th>DstPort</th>\n",
       "      <th>SrcPackets</th>\n",
       "      <th>DstPackets</th>\n",
       "      <th>SrcBytes</th>\n",
       "      <th>DstBytes</th>\n",
       "      <th>SrcDevice_Comp</th>\n",
       "      <th>SrcDevice_IP</th>\n",
       "      <th>...</th>\n",
       "      <th>DstDevice_ActiveDirectory</th>\n",
       "      <th>SrcDevice_EnterpriseAppServer</th>\n",
       "      <th>DstDevice_EnterpriseAppServer</th>\n",
       "      <th>SrcDevice_VPN</th>\n",
       "      <th>DstDevice_VPN</th>\n",
       "      <th>SrcDevice_VScanner</th>\n",
       "      <th>DstDevice_VScanner</th>\n",
       "      <th>Protocol_1</th>\n",
       "      <th>Protocol_6</th>\n",
       "      <th>Protocol_17</th>\n",
       "    </tr>\n",
       "    <tr>\n",
       "      <th>DstDevice_Comp</th>\n",
       "      <th></th>\n",
       "      <th></th>\n",
       "      <th></th>\n",
       "      <th></th>\n",
       "      <th></th>\n",
       "      <th></th>\n",
       "      <th></th>\n",
       "      <th></th>\n",
       "      <th></th>\n",
       "      <th></th>\n",
       "      <th></th>\n",
       "      <th></th>\n",
       "      <th></th>\n",
       "      <th></th>\n",
       "      <th></th>\n",
       "      <th></th>\n",
       "      <th></th>\n",
       "      <th></th>\n",
       "      <th></th>\n",
       "      <th></th>\n",
       "      <th></th>\n",
       "    </tr>\n",
       "  </thead>\n",
       "  <tbody>\n",
       "    <tr>\n",
       "      <th>0</th>\n",
       "      <td>816988</td>\n",
       "      <td>816988</td>\n",
       "      <td>816988</td>\n",
       "      <td>816988</td>\n",
       "      <td>816988</td>\n",
       "      <td>816988</td>\n",
       "      <td>816988</td>\n",
       "      <td>816988</td>\n",
       "      <td>816988</td>\n",
       "      <td>816988</td>\n",
       "      <td>...</td>\n",
       "      <td>816988</td>\n",
       "      <td>816988</td>\n",
       "      <td>816988</td>\n",
       "      <td>816988</td>\n",
       "      <td>816988</td>\n",
       "      <td>816988</td>\n",
       "      <td>816988</td>\n",
       "      <td>816988</td>\n",
       "      <td>816988</td>\n",
       "      <td>816988</td>\n",
       "    </tr>\n",
       "    <tr>\n",
       "      <th>275646</th>\n",
       "      <td>624576</td>\n",
       "      <td>624576</td>\n",
       "      <td>624576</td>\n",
       "      <td>624576</td>\n",
       "      <td>624576</td>\n",
       "      <td>624576</td>\n",
       "      <td>624576</td>\n",
       "      <td>624576</td>\n",
       "      <td>624576</td>\n",
       "      <td>624576</td>\n",
       "      <td>...</td>\n",
       "      <td>624576</td>\n",
       "      <td>624576</td>\n",
       "      <td>624576</td>\n",
       "      <td>624576</td>\n",
       "      <td>624576</td>\n",
       "      <td>624576</td>\n",
       "      <td>624576</td>\n",
       "      <td>624576</td>\n",
       "      <td>624576</td>\n",
       "      <td>624576</td>\n",
       "    </tr>\n",
       "    <tr>\n",
       "      <th>576031</th>\n",
       "      <td>218410</td>\n",
       "      <td>218410</td>\n",
       "      <td>218410</td>\n",
       "      <td>218410</td>\n",
       "      <td>218410</td>\n",
       "      <td>218410</td>\n",
       "      <td>218410</td>\n",
       "      <td>218410</td>\n",
       "      <td>218410</td>\n",
       "      <td>218410</td>\n",
       "      <td>...</td>\n",
       "      <td>218410</td>\n",
       "      <td>218410</td>\n",
       "      <td>218410</td>\n",
       "      <td>218410</td>\n",
       "      <td>218410</td>\n",
       "      <td>218410</td>\n",
       "      <td>218410</td>\n",
       "      <td>218410</td>\n",
       "      <td>218410</td>\n",
       "      <td>218410</td>\n",
       "    </tr>\n",
       "    <tr>\n",
       "      <th>576843</th>\n",
       "      <td>193316</td>\n",
       "      <td>193316</td>\n",
       "      <td>193316</td>\n",
       "      <td>193316</td>\n",
       "      <td>193316</td>\n",
       "      <td>193316</td>\n",
       "      <td>193316</td>\n",
       "      <td>193316</td>\n",
       "      <td>193316</td>\n",
       "      <td>193316</td>\n",
       "      <td>...</td>\n",
       "      <td>193316</td>\n",
       "      <td>193316</td>\n",
       "      <td>193316</td>\n",
       "      <td>193316</td>\n",
       "      <td>193316</td>\n",
       "      <td>193316</td>\n",
       "      <td>193316</td>\n",
       "      <td>193316</td>\n",
       "      <td>193316</td>\n",
       "      <td>193316</td>\n",
       "    </tr>\n",
       "    <tr>\n",
       "      <th>186884</th>\n",
       "      <td>145802</td>\n",
       "      <td>145802</td>\n",
       "      <td>145802</td>\n",
       "      <td>145802</td>\n",
       "      <td>145802</td>\n",
       "      <td>145802</td>\n",
       "      <td>145802</td>\n",
       "      <td>145802</td>\n",
       "      <td>145802</td>\n",
       "      <td>145802</td>\n",
       "      <td>...</td>\n",
       "      <td>145802</td>\n",
       "      <td>145802</td>\n",
       "      <td>145802</td>\n",
       "      <td>145802</td>\n",
       "      <td>145802</td>\n",
       "      <td>145802</td>\n",
       "      <td>145802</td>\n",
       "      <td>145802</td>\n",
       "      <td>145802</td>\n",
       "      <td>145802</td>\n",
       "    </tr>\n",
       "    <tr>\n",
       "      <th>916004</th>\n",
       "      <td>66911</td>\n",
       "      <td>66911</td>\n",
       "      <td>66911</td>\n",
       "      <td>66911</td>\n",
       "      <td>66911</td>\n",
       "      <td>66911</td>\n",
       "      <td>66911</td>\n",
       "      <td>66911</td>\n",
       "      <td>66911</td>\n",
       "      <td>66911</td>\n",
       "      <td>...</td>\n",
       "      <td>66911</td>\n",
       "      <td>66911</td>\n",
       "      <td>66911</td>\n",
       "      <td>66911</td>\n",
       "      <td>66911</td>\n",
       "      <td>66911</td>\n",
       "      <td>66911</td>\n",
       "      <td>66911</td>\n",
       "      <td>66911</td>\n",
       "      <td>66911</td>\n",
       "    </tr>\n",
       "    <tr>\n",
       "      <th>63824</th>\n",
       "      <td>63126</td>\n",
       "      <td>63126</td>\n",
       "      <td>63126</td>\n",
       "      <td>63126</td>\n",
       "      <td>63126</td>\n",
       "      <td>63126</td>\n",
       "      <td>63126</td>\n",
       "      <td>63126</td>\n",
       "      <td>63126</td>\n",
       "      <td>63126</td>\n",
       "      <td>...</td>\n",
       "      <td>63126</td>\n",
       "      <td>63126</td>\n",
       "      <td>63126</td>\n",
       "      <td>63126</td>\n",
       "      <td>63126</td>\n",
       "      <td>63126</td>\n",
       "      <td>63126</td>\n",
       "      <td>63126</td>\n",
       "      <td>63126</td>\n",
       "      <td>63126</td>\n",
       "    </tr>\n",
       "    <tr>\n",
       "      <th>393033</th>\n",
       "      <td>44319</td>\n",
       "      <td>44319</td>\n",
       "      <td>44319</td>\n",
       "      <td>44319</td>\n",
       "      <td>44319</td>\n",
       "      <td>44319</td>\n",
       "      <td>44319</td>\n",
       "      <td>44319</td>\n",
       "      <td>44319</td>\n",
       "      <td>44319</td>\n",
       "      <td>...</td>\n",
       "      <td>44319</td>\n",
       "      <td>44319</td>\n",
       "      <td>44319</td>\n",
       "      <td>44319</td>\n",
       "      <td>44319</td>\n",
       "      <td>44319</td>\n",
       "      <td>44319</td>\n",
       "      <td>44319</td>\n",
       "      <td>44319</td>\n",
       "      <td>44319</td>\n",
       "    </tr>\n",
       "    <tr>\n",
       "      <th>501516</th>\n",
       "      <td>43614</td>\n",
       "      <td>43614</td>\n",
       "      <td>43614</td>\n",
       "      <td>43614</td>\n",
       "      <td>43614</td>\n",
       "      <td>43614</td>\n",
       "      <td>43614</td>\n",
       "      <td>43614</td>\n",
       "      <td>43614</td>\n",
       "      <td>43614</td>\n",
       "      <td>...</td>\n",
       "      <td>43614</td>\n",
       "      <td>43614</td>\n",
       "      <td>43614</td>\n",
       "      <td>43614</td>\n",
       "      <td>43614</td>\n",
       "      <td>43614</td>\n",
       "      <td>43614</td>\n",
       "      <td>43614</td>\n",
       "      <td>43614</td>\n",
       "      <td>43614</td>\n",
       "    </tr>\n",
       "    <tr>\n",
       "      <th>995183</th>\n",
       "      <td>37139</td>\n",
       "      <td>37139</td>\n",
       "      <td>37139</td>\n",
       "      <td>37139</td>\n",
       "      <td>37139</td>\n",
       "      <td>37139</td>\n",
       "      <td>37139</td>\n",
       "      <td>37139</td>\n",
       "      <td>37139</td>\n",
       "      <td>37139</td>\n",
       "      <td>...</td>\n",
       "      <td>37139</td>\n",
       "      <td>37139</td>\n",
       "      <td>37139</td>\n",
       "      <td>37139</td>\n",
       "      <td>37139</td>\n",
       "      <td>37139</td>\n",
       "      <td>37139</td>\n",
       "      <td>37139</td>\n",
       "      <td>37139</td>\n",
       "      <td>37139</td>\n",
       "    </tr>\n",
       "  </tbody>\n",
       "</table>\n",
       "<p>10 rows × 22 columns</p>\n",
       "</div>"
      ],
      "text/plain": [
       "                DstDevice_count  Duration  SrcPort  DstPort  SrcPackets  \\\n",
       "DstDevice_Comp                                                            \n",
       "0                        816988    816988   816988   816988      816988   \n",
       "275646                   624576    624576   624576   624576      624576   \n",
       "576031                   218410    218410   218410   218410      218410   \n",
       "576843                   193316    193316   193316   193316      193316   \n",
       "186884                   145802    145802   145802   145802      145802   \n",
       "916004                    66911     66911    66911    66911       66911   \n",
       "63824                     63126     63126    63126    63126       63126   \n",
       "393033                    44319     44319    44319    44319       44319   \n",
       "501516                    43614     43614    43614    43614       43614   \n",
       "995183                    37139     37139    37139    37139       37139   \n",
       "\n",
       "                DstPackets  SrcBytes  DstBytes  SrcDevice_Comp  SrcDevice_IP  \\\n",
       "DstDevice_Comp                                                                 \n",
       "0                   816988    816988    816988          816988        816988   \n",
       "275646              624576    624576    624576          624576        624576   \n",
       "576031              218410    218410    218410          218410        218410   \n",
       "576843              193316    193316    193316          193316        193316   \n",
       "186884              145802    145802    145802          145802        145802   \n",
       "916004               66911     66911     66911           66911         66911   \n",
       "63824                63126     63126     63126           63126         63126   \n",
       "393033               44319     44319     44319           44319         44319   \n",
       "501516               43614     43614     43614           43614         43614   \n",
       "995183               37139     37139     37139           37139         37139   \n",
       "\n",
       "                   ...       DstDevice_ActiveDirectory  \\\n",
       "DstDevice_Comp     ...                                   \n",
       "0                  ...                          816988   \n",
       "275646             ...                          624576   \n",
       "576031             ...                          218410   \n",
       "576843             ...                          193316   \n",
       "186884             ...                          145802   \n",
       "916004             ...                           66911   \n",
       "63824              ...                           63126   \n",
       "393033             ...                           44319   \n",
       "501516             ...                           43614   \n",
       "995183             ...                           37139   \n",
       "\n",
       "                SrcDevice_EnterpriseAppServer  DstDevice_EnterpriseAppServer  \\\n",
       "DstDevice_Comp                                                                 \n",
       "0                                      816988                         816988   \n",
       "275646                                 624576                         624576   \n",
       "576031                                 218410                         218410   \n",
       "576843                                 193316                         193316   \n",
       "186884                                 145802                         145802   \n",
       "916004                                  66911                          66911   \n",
       "63824                                   63126                          63126   \n",
       "393033                                  44319                          44319   \n",
       "501516                                  43614                          43614   \n",
       "995183                                  37139                          37139   \n",
       "\n",
       "                SrcDevice_VPN  DstDevice_VPN  SrcDevice_VScanner  \\\n",
       "DstDevice_Comp                                                     \n",
       "0                      816988         816988              816988   \n",
       "275646                 624576         624576              624576   \n",
       "576031                 218410         218410              218410   \n",
       "576843                 193316         193316              193316   \n",
       "186884                 145802         145802              145802   \n",
       "916004                  66911          66911               66911   \n",
       "63824                   63126          63126               63126   \n",
       "393033                  44319          44319               44319   \n",
       "501516                  43614          43614               43614   \n",
       "995183                  37139          37139               37139   \n",
       "\n",
       "                DstDevice_VScanner  Protocol_1  Protocol_6  Protocol_17  \n",
       "DstDevice_Comp                                                           \n",
       "0                           816988      816988      816988       816988  \n",
       "275646                      624576      624576      624576       624576  \n",
       "576031                      218410      218410      218410       218410  \n",
       "576843                      193316      193316      193316       193316  \n",
       "186884                      145802      145802      145802       145802  \n",
       "916004                       66911       66911       66911        66911  \n",
       "63824                        63126       63126       63126        63126  \n",
       "393033                       44319       44319       44319        44319  \n",
       "501516                       43614       43614       43614        43614  \n",
       "995183                       37139       37139       37139        37139  \n",
       "\n",
       "[10 rows x 22 columns]"
      ]
     },
     "execution_count": 58,
     "metadata": {},
     "output_type": "execute_result"
    }
   ],
   "source": [
    "counted = train_df1.groupby(\"DstDevice_Comp\").count().rename(columns={\"Time\":\"DstDevice_count\"})\n",
    "counted.sort_values(by=['DstDevice_count'],ascending=False).head(10)"
   ]
  },
  {
   "cell_type": "markdown",
   "metadata": {
    "heading_collapsed": true,
    "hidden": true
   },
   "source": [
    "#### There doesn't seem to be anything particularly interesting in the distribution of Comp numbers for `SrcDevice` or `DstDevice`. Again we see that a select few Comps have a majoirty of the traffic."
   ]
  },
  {
   "cell_type": "code",
   "execution_count": 85,
   "metadata": {
    "hidden": true
   },
   "outputs": [
    {
     "name": "stderr",
     "output_type": "stream",
     "text": [
      "/home/paperspace/anaconda3/envs/fastaiv1/lib/python3.7/site-packages/matplotlib/axes/_axes.py:6510: MatplotlibDeprecationWarning: \n",
      "The 'normed' kwarg was deprecated in Matplotlib 2.1 and will be removed in 3.1. Use 'density' instead.\n",
      "  alternative=\"'density'\", removal=\"3.1\")\n"
     ]
    },
    {
     "data": {
      "image/png": "[encoded data removed]",
      "text/plain": [
       "<Figure size 432x288 with 1 Axes>"
      ]
     },
     "metadata": {
      "needs_background": "light"
     },
     "output_type": "display_data"
    }
   ],
   "source": [
    "num_bins = 100\n",
    "plt.hist(train_df1['SrcDevice_Comp'], num_bins, normed=1, facecolor='blue', alpha=0.5)\n",
    "plt.show()"
   ]
  },
  {
   "cell_type": "code",
   "execution_count": 88,
   "metadata": {
    "hidden": true
   },
   "outputs": [
    {
     "name": "stderr",
     "output_type": "stream",
     "text": [
      "/home/paperspace/anaconda3/envs/fastaiv1/lib/python3.7/site-packages/matplotlib/axes/_axes.py:6510: MatplotlibDeprecationWarning: \n",
      "The 'normed' kwarg was deprecated in Matplotlib 2.1 and will be removed in 3.1. Use 'density' instead.\n",
      "  alternative=\"'density'\", removal=\"3.1\")\n"
     ]
    },
    {
     "data": {
      "image/png": "[encoded data removed]",
      "text/plain": [
       "<Figure size 432x288 with 1 Axes>"
      ]
     },
     "metadata": {
      "needs_background": "light"
     },
     "output_type": "display_data"
    }
   ],
   "source": [
    "num_bins = 100\n",
    "plt.hist(train_df1['DstDevice_Comp'], num_bins, normed=1, facecolor='blue', alpha=0.5)\n",
    "plt.show()"
   ]
  },
  {
   "cell_type": "code",
   "execution_count": 44,
   "metadata": {
    "hidden": true
   },
   "outputs": [
    {
     "data": {
      "image/png": "[encoded data removed]",
      "text/plain": [
       "<Figure size 432x288 with 1 Axes>"
      ]
     },
     "metadata": {
      "needs_background": "light"
     },
     "output_type": "display_data"
    }
   ],
   "source": [
    "for i in np.logspace(0,4,5):\n",
    "    if i != 1e4:\n",
    "        counted.loc[(counted[\"SrcDevice_count\"] > i) & (counted[\"SrcDevice_count\"] < i*10),'SrcDevice_count'] = i\n",
    "    else:\n",
    "        counted.loc[counted[\"SrcDevice_count\"] > i,'SrcDevice_count'] = i\n",
    "plt.figure()\n",
    "sns.countplot(data=counted, x=\"SrcDevice_count\")\n",
    "plt.show()"
   ]
  },
  {
   "cell_type": "markdown",
   "metadata": {
    "hidden": true
   },
   "source": [
    "Looking at the distribution of `SrcDevice`, it appears that the majority (98.401%) of `SrcDevices` are used anywhere from 1 to 1000 times but only accoutn for a quarter the data! Another quarter of the data account for 1.557% `SrcDevices` used between 1000 and 1e5 times and nearly half of the data originates from 0.042% (8!!) of `SrcDevices`."
   ]
  },
  {
   "cell_type": "code",
   "execution_count": 45,
   "metadata": {
    "hidden": true
   },
   "outputs": [
    {
     "data": {
      "image/png": "[encoded data removed]",
      "text/plain": [
       "<Figure size 432x288 with 1 Axes>"
      ]
     },
     "metadata": {
      "needs_background": "light"
     },
     "output_type": "display_data"
    }
   ],
   "source": [
    "counted = train_df.groupby(\"DstDevice\").count().rename(columns={\"Time\":\"DstDevice_count\"})\n",
    "for i in np.logspace(0,4,5):\n",
    "    if i != 1e4:\n",
    "        counted.loc[(counted[\"DstDevice_count\"] > i) & (counted[\"DstDevice_count\"] < i*10),'DstDevice_count'] = i\n",
    "    else:\n",
    "        counted.loc[counted[\"DstDevice_count\"] > i,'DstDevice_count'] = i\n",
    "plt.figure()\n",
    "sns.countplot(data=counted, x=\"DstDevice_count\")\n",
    "plt.show()"
   ]
  },
  {
   "cell_type": "code",
   "execution_count": 38,
   "metadata": {
    "hidden": true
   },
   "outputs": [
    {
     "name": "stdout",
     "output_type": "stream",
     "text": [
      "10.0 10997\n",
      "100.0 6131\n",
      "1000.0 303\n"
     ]
    }
   ],
   "source": [
    "for i in np.logspace(1,3,3):\n",
    "    print(i, len(counted['Duration'].loc[counted['Duration']>i].values))"
   ]
  },
  {
   "cell_type": "code",
   "execution_count": 53,
   "metadata": {
    "hidden": true
   },
   "outputs": [
    {
     "data": {
      "text/html": [
       "<div>\n",
       "<style scoped>\n",
       "    .dataframe tbody tr th:only-of-type {\n",
       "        vertical-align: middle;\n",
       "    }\n",
       "\n",
       "    .dataframe tbody tr th {\n",
       "        vertical-align: top;\n",
       "    }\n",
       "\n",
       "    .dataframe thead th {\n",
       "        text-align: right;\n",
       "    }\n",
       "</style>\n",
       "<table border=\"1\" class=\"dataframe\">\n",
       "  <thead>\n",
       "    <tr style=\"text-align: right;\">\n",
       "      <th></th>\n",
       "      <th>Time</th>\n",
       "      <th>Duration</th>\n",
       "      <th>SrcDevice</th>\n",
       "      <th>DstDevice</th>\n",
       "      <th>Protocol</th>\n",
       "      <th>SrcPort</th>\n",
       "      <th>DstPort</th>\n",
       "      <th>SrcPackets</th>\n",
       "      <th>DstPackets</th>\n",
       "      <th>SrcBytes</th>\n",
       "      <th>DstBytes</th>\n",
       "    </tr>\n",
       "  </thead>\n",
       "  <tbody>\n",
       "    <tr>\n",
       "      <th>0</th>\n",
       "      <td>172800</td>\n",
       "      <td>0</td>\n",
       "      <td>4420</td>\n",
       "      <td>2456</td>\n",
       "      <td>1</td>\n",
       "      <td>1926</td>\n",
       "      <td>224</td>\n",
       "      <td>0</td>\n",
       "      <td>5</td>\n",
       "      <td>0</td>\n",
       "      <td>784</td>\n",
       "    </tr>\n",
       "    <tr>\n",
       "      <th>1</th>\n",
       "      <td>172800</td>\n",
       "      <td>0</td>\n",
       "      <td>10428</td>\n",
       "      <td>1828</td>\n",
       "      <td>2</td>\n",
       "      <td>63323</td>\n",
       "      <td>155</td>\n",
       "      <td>1</td>\n",
       "      <td>0</td>\n",
       "      <td>77</td>\n",
       "      <td>0</td>\n",
       "    </tr>\n",
       "    <tr>\n",
       "      <th>2</th>\n",
       "      <td>172800</td>\n",
       "      <td>0</td>\n",
       "      <td>8268</td>\n",
       "      <td>4593</td>\n",
       "      <td>1</td>\n",
       "      <td>17434</td>\n",
       "      <td>37537</td>\n",
       "      <td>6</td>\n",
       "      <td>5</td>\n",
       "      <td>1379</td>\n",
       "      <td>1770</td>\n",
       "    </tr>\n",
       "    <tr>\n",
       "      <th>3</th>\n",
       "      <td>172800</td>\n",
       "      <td>0</td>\n",
       "      <td>6348</td>\n",
       "      <td>1828</td>\n",
       "      <td>2</td>\n",
       "      <td>40895</td>\n",
       "      <td>155</td>\n",
       "      <td>1</td>\n",
       "      <td>0</td>\n",
       "      <td>64</td>\n",
       "      <td>0</td>\n",
       "    </tr>\n",
       "    <tr>\n",
       "      <th>4</th>\n",
       "      <td>172800</td>\n",
       "      <td>0</td>\n",
       "      <td>6348</td>\n",
       "      <td>1828</td>\n",
       "      <td>2</td>\n",
       "      <td>34386</td>\n",
       "      <td>155</td>\n",
       "      <td>1</td>\n",
       "      <td>0</td>\n",
       "      <td>64</td>\n",
       "      <td>0</td>\n",
       "    </tr>\n",
       "  </tbody>\n",
       "</table>\n",
       "</div>"
      ],
      "text/plain": [
       "     Time  Duration  SrcDevice  DstDevice  Protocol  SrcPort  DstPort  \\\n",
       "0  172800         0       4420       2456         1     1926      224   \n",
       "1  172800         0      10428       1828         2    63323      155   \n",
       "2  172800         0       8268       4593         1    17434    37537   \n",
       "3  172800         0       6348       1828         2    40895      155   \n",
       "4  172800         0       6348       1828         2    34386      155   \n",
       "\n",
       "   SrcPackets  DstPackets  SrcBytes  DstBytes  \n",
       "0           0           5         0       784  \n",
       "1           1           0        77         0  \n",
       "2           6           5      1379      1770  \n",
       "3           1           0        64         0  \n",
       "4           1           0        64         0  "
      ]
     },
     "execution_count": 53,
     "metadata": {},
     "output_type": "execute_result"
    }
   ],
   "source": [
    "train_df.head()"
   ]
  },
  {
   "cell_type": "markdown",
   "metadata": {
    "heading_collapsed": true,
    "hidden": true
   },
   "source": [
    "#### Attempt at showing clusters of devices through a flow graph (Work in progress!!)"
   ]
  },
  {
   "cell_type": "code",
   "execution_count": 122,
   "metadata": {
    "collapsed": true,
    "hidden": true
   },
   "outputs": [],
   "source": [
    "import igraph as ig\n",
    "train_df0 = pd.read_csv(os.path.join(DIR, 'netflow_day-03.csv'),names = colnames)"
   ]
  },
  {
   "cell_type": "code",
   "execution_count": 123,
   "metadata": {
    "collapsed": true,
    "hidden": true
   },
   "outputs": [],
   "source": [
    "flow = train_df0.groupby(['SrcDevice','DstDevice']).size().reset_index().rename(columns={0:'count'})"
   ]
  },
  {
   "cell_type": "code",
   "execution_count": 124,
   "metadata": {
    "collapsed": true,
    "hidden": true
   },
   "outputs": [],
   "source": [
    "computer_edgelist = dict(zip(map(tuple,flow[['SrcDevice','DstDevice']].values.tolist()),flow['count'].values.tolist()))"
   ]
  },
  {
   "cell_type": "code",
   "execution_count": 126,
   "metadata": {
    "hidden": true
   },
   "outputs": [
    {
     "name": "stdout",
     "output_type": "stream",
     "text": [
      "Sources:      18950\n",
      "Destinations:  18921\n",
      "Union:        34019\n",
      "Intersection:  3852\n"
     ]
    }
   ],
   "source": [
    "src_set = set([x[0][0] for x in computer_edgelist.items()])\n",
    "dst_set = set([x[0][1] for x in computer_edgelist.items()])\n",
    "\n",
    "print(\"Sources:     \", len(src_set))\n",
    "print(\"Destinations: \", len(dst_set))\n",
    "print(\"Union:       \", len(src_set.union(dst_set)))\n",
    "print(\"Intersection: \", len(src_set.intersection(dst_set)))"
   ]
  },
  {
   "cell_type": "code",
   "execution_count": 128,
   "metadata": {
    "hidden": true
   },
   "outputs": [
    {
     "data": {
      "text/plain": [
       "False"
      ]
     },
     "execution_count": 128,
     "metadata": {},
     "output_type": "execute_result"
    }
   ],
   "source": [
    "nv = len(src_set.union(dst_set))\n",
    "vlookup = dict(zip(range(nv), list(src_set.union(dst_set))))\n",
    "ilookup = dict(zip(list(src_set.union(dst_set)), range(nv)))\n",
    "elist = [[ilookup[k[0]], ilookup[k[1]]] for k in computer_edgelist.keys()]\n",
    "\n",
    "flow_graph = ig.Graph(nv)\n",
    "flow_graph.add_edges(elist)\n",
    "\n",
    "flow_graph.is_connected()"
   ]
  },
  {
   "cell_type": "markdown",
   "metadata": {
    "hidden": true
   },
   "source": [
    "![alt text](https://github.com/box121209/LANL-analysis/raw/4102f12c070b2d8ef595585d9471ea514b202058/img/icmp_graph.png )"
   ]
  },
  {
   "cell_type": "markdown",
   "metadata": {
    "heading_collapsed": true
   },
   "source": [
    "### `Protocol`"
   ]
  },
  {
   "cell_type": "markdown",
   "metadata": {
    "heading_collapsed": true,
    "hidden": true
   },
   "source": [
    "#### Protocol 6 (TCP) accounts for over 77.69% of events, Protocol 17 (UDP) accounts for 22.28% while Protocol 1 (ICMP) only accounts for .03%."
   ]
  },
  {
   "cell_type": "code",
   "execution_count": 72,
   "metadata": {
    "hidden": true
   },
   "outputs": [
    {
     "data": {
      "text/plain": [
       "<matplotlib.axes._subplots.AxesSubplot at 0x7f6a2f7b7c50>"
      ]
     },
     "execution_count": 72,
     "metadata": {},
     "output_type": "execute_result"
    },
    {
     "data": {
      "image/png": "[encoded data removed]",
      "text/plain": [
       "<Figure size 432x288 with 1 Axes>"
      ]
     },
     "metadata": {
      "needs_background": "light"
     },
     "output_type": "display_data"
    }
   ],
   "source": [
    "train_df['Protocol'].hist()"
   ]
  },
  {
   "cell_type": "code",
   "execution_count": 76,
   "metadata": {
    "hidden": true
   },
   "outputs": [
    {
     "data": {
      "text/plain": [
       "0.22279705287715498"
      ]
     },
     "execution_count": 76,
     "metadata": {},
     "output_type": "execute_result"
    }
   ],
   "source": [
    "train_df['Protocol'].loc[train_df['Protocol']==17].count()/train_df['Time'].count()"
   ]
  },
  {
   "cell_type": "markdown",
   "metadata": {
    "heading_collapsed": true
   },
   "source": [
    "### `SrcPort` and `DstPort`"
   ]
  },
  {
   "cell_type": "markdown",
   "metadata": {
    "heading_collapsed": true,
    "hidden": true
   },
   "source": [
    "#### Distribution across `SrcPort` seems nearly uniform."
   ]
  },
  {
   "cell_type": "code",
   "execution_count": 91,
   "metadata": {
    "hidden": true
   },
   "outputs": [
    {
     "data": {
      "image/png": "[encoded data removed]",
      "text/plain": [
       "<Figure size 432x288 with 1 Axes>"
      ]
     },
     "metadata": {
      "needs_background": "light"
     },
     "output_type": "display_data"
    }
   ],
   "source": [
    "num_bins = 1000\n",
    "plt.hist(train_df1['SrcPort'], num_bins, density=True, facecolor='blue', alpha=0.5)\n",
    "plt.show()"
   ]
  },
  {
   "cell_type": "markdown",
   "metadata": {
    "heading_collapsed": true,
    "hidden": true
   },
   "source": [
    "#### `DstPort` is another story. The top 10 `DstPorts` account for over half of the events"
   ]
  },
  {
   "cell_type": "code",
   "execution_count": 107,
   "metadata": {
    "hidden": true
   },
   "outputs": [
    {
     "data": {
      "image/png": "[encoded data removed]",
      "text/plain": [
       "<Figure size 432x288 with 1 Axes>"
      ]
     },
     "metadata": {
      "needs_background": "light"
     },
     "output_type": "display_data"
    }
   ],
   "source": [
    "num_bins = 1000\n",
    "plt.hist(train_df1['DstPort'], num_bins, density=True, facecolor='blue', alpha=0.5)\n",
    "plt.show()"
   ]
  },
  {
   "cell_type": "code",
   "execution_count": 109,
   "metadata": {
    "hidden": true
   },
   "outputs": [
    {
     "data": {
      "text/html": [
       "<div>\n",
       "<style scoped>\n",
       "    .dataframe tbody tr th:only-of-type {\n",
       "        vertical-align: middle;\n",
       "    }\n",
       "\n",
       "    .dataframe tbody tr th {\n",
       "        vertical-align: top;\n",
       "    }\n",
       "\n",
       "    .dataframe thead th {\n",
       "        text-align: right;\n",
       "    }\n",
       "</style>\n",
       "<table border=\"1\" class=\"dataframe\">\n",
       "  <thead>\n",
       "    <tr style=\"text-align: right;\">\n",
       "      <th></th>\n",
       "      <th>DstPort_count</th>\n",
       "      <th>Duration</th>\n",
       "      <th>SrcPort</th>\n",
       "      <th>SrcPackets</th>\n",
       "      <th>DstPackets</th>\n",
       "      <th>SrcBytes</th>\n",
       "      <th>DstBytes</th>\n",
       "      <th>SrcDevice_Comp</th>\n",
       "      <th>DstDevice_Comp</th>\n",
       "      <th>SrcDevice_IP</th>\n",
       "      <th>...</th>\n",
       "      <th>DstDevice_ActiveDirectory</th>\n",
       "      <th>SrcDevice_EnterpriseAppServer</th>\n",
       "      <th>DstDevice_EnterpriseAppServer</th>\n",
       "      <th>SrcDevice_VPN</th>\n",
       "      <th>DstDevice_VPN</th>\n",
       "      <th>SrcDevice_VScanner</th>\n",
       "      <th>DstDevice_VScanner</th>\n",
       "      <th>Protocol_1</th>\n",
       "      <th>Protocol_6</th>\n",
       "      <th>Protocol_17</th>\n",
       "    </tr>\n",
       "    <tr>\n",
       "      <th>DstPort</th>\n",
       "      <th></th>\n",
       "      <th></th>\n",
       "      <th></th>\n",
       "      <th></th>\n",
       "      <th></th>\n",
       "      <th></th>\n",
       "      <th></th>\n",
       "      <th></th>\n",
       "      <th></th>\n",
       "      <th></th>\n",
       "      <th></th>\n",
       "      <th></th>\n",
       "      <th></th>\n",
       "      <th></th>\n",
       "      <th></th>\n",
       "      <th></th>\n",
       "      <th></th>\n",
       "      <th></th>\n",
       "      <th></th>\n",
       "      <th></th>\n",
       "      <th></th>\n",
       "    </tr>\n",
       "  </thead>\n",
       "  <tbody>\n",
       "    <tr>\n",
       "      <th>53</th>\n",
       "      <td>750295</td>\n",
       "      <td>750295</td>\n",
       "      <td>750295</td>\n",
       "      <td>750295</td>\n",
       "      <td>750295</td>\n",
       "      <td>750295</td>\n",
       "      <td>750295</td>\n",
       "      <td>750295</td>\n",
       "      <td>750295</td>\n",
       "      <td>750295</td>\n",
       "      <td>...</td>\n",
       "      <td>750295</td>\n",
       "      <td>750295</td>\n",
       "      <td>750295</td>\n",
       "      <td>750295</td>\n",
       "      <td>750295</td>\n",
       "      <td>750295</td>\n",
       "      <td>750295</td>\n",
       "      <td>750295</td>\n",
       "      <td>750295</td>\n",
       "      <td>750295</td>\n",
       "    </tr>\n",
       "    <tr>\n",
       "      <th>443</th>\n",
       "      <td>700175</td>\n",
       "      <td>700175</td>\n",
       "      <td>700175</td>\n",
       "      <td>700175</td>\n",
       "      <td>700175</td>\n",
       "      <td>700175</td>\n",
       "      <td>700175</td>\n",
       "      <td>700175</td>\n",
       "      <td>700175</td>\n",
       "      <td>700175</td>\n",
       "      <td>...</td>\n",
       "      <td>700175</td>\n",
       "      <td>700175</td>\n",
       "      <td>700175</td>\n",
       "      <td>700175</td>\n",
       "      <td>700175</td>\n",
       "      <td>700175</td>\n",
       "      <td>700175</td>\n",
       "      <td>700175</td>\n",
       "      <td>700175</td>\n",
       "      <td>700175</td>\n",
       "    </tr>\n",
       "    <tr>\n",
       "      <th>80</th>\n",
       "      <td>607732</td>\n",
       "      <td>607732</td>\n",
       "      <td>607732</td>\n",
       "      <td>607732</td>\n",
       "      <td>607732</td>\n",
       "      <td>607732</td>\n",
       "      <td>607732</td>\n",
       "      <td>607732</td>\n",
       "      <td>607732</td>\n",
       "      <td>607732</td>\n",
       "      <td>...</td>\n",
       "      <td>607732</td>\n",
       "      <td>607732</td>\n",
       "      <td>607732</td>\n",
       "      <td>607732</td>\n",
       "      <td>607732</td>\n",
       "      <td>607732</td>\n",
       "      <td>607732</td>\n",
       "      <td>607732</td>\n",
       "      <td>607732</td>\n",
       "      <td>607732</td>\n",
       "    </tr>\n",
       "    <tr>\n",
       "      <th>514</th>\n",
       "      <td>264663</td>\n",
       "      <td>264663</td>\n",
       "      <td>264663</td>\n",
       "      <td>264663</td>\n",
       "      <td>264663</td>\n",
       "      <td>264663</td>\n",
       "      <td>264663</td>\n",
       "      <td>264663</td>\n",
       "      <td>264663</td>\n",
       "      <td>264663</td>\n",
       "      <td>...</td>\n",
       "      <td>264663</td>\n",
       "      <td>264663</td>\n",
       "      <td>264663</td>\n",
       "      <td>264663</td>\n",
       "      <td>264663</td>\n",
       "      <td>264663</td>\n",
       "      <td>264663</td>\n",
       "      <td>264663</td>\n",
       "      <td>264663</td>\n",
       "      <td>264663</td>\n",
       "    </tr>\n",
       "    <tr>\n",
       "      <th>389</th>\n",
       "      <td>213198</td>\n",
       "      <td>213198</td>\n",
       "      <td>213198</td>\n",
       "      <td>213198</td>\n",
       "      <td>213198</td>\n",
       "      <td>213198</td>\n",
       "      <td>213198</td>\n",
       "      <td>213198</td>\n",
       "      <td>213198</td>\n",
       "      <td>213198</td>\n",
       "      <td>...</td>\n",
       "      <td>213198</td>\n",
       "      <td>213198</td>\n",
       "      <td>213198</td>\n",
       "      <td>213198</td>\n",
       "      <td>213198</td>\n",
       "      <td>213198</td>\n",
       "      <td>213198</td>\n",
       "      <td>213198</td>\n",
       "      <td>213198</td>\n",
       "      <td>213198</td>\n",
       "    </tr>\n",
       "    <tr>\n",
       "      <th>88</th>\n",
       "      <td>162582</td>\n",
       "      <td>162582</td>\n",
       "      <td>162582</td>\n",
       "      <td>162582</td>\n",
       "      <td>162582</td>\n",
       "      <td>162582</td>\n",
       "      <td>162582</td>\n",
       "      <td>162582</td>\n",
       "      <td>162582</td>\n",
       "      <td>162582</td>\n",
       "      <td>...</td>\n",
       "      <td>162582</td>\n",
       "      <td>162582</td>\n",
       "      <td>162582</td>\n",
       "      <td>162582</td>\n",
       "      <td>162582</td>\n",
       "      <td>162582</td>\n",
       "      <td>162582</td>\n",
       "      <td>162582</td>\n",
       "      <td>162582</td>\n",
       "      <td>162582</td>\n",
       "    </tr>\n",
       "    <tr>\n",
       "      <th>23118</th>\n",
       "      <td>137832</td>\n",
       "      <td>137832</td>\n",
       "      <td>137832</td>\n",
       "      <td>137832</td>\n",
       "      <td>137832</td>\n",
       "      <td>137832</td>\n",
       "      <td>137832</td>\n",
       "      <td>137832</td>\n",
       "      <td>137832</td>\n",
       "      <td>137832</td>\n",
       "      <td>...</td>\n",
       "      <td>137832</td>\n",
       "      <td>137832</td>\n",
       "      <td>137832</td>\n",
       "      <td>137832</td>\n",
       "      <td>137832</td>\n",
       "      <td>137832</td>\n",
       "      <td>137832</td>\n",
       "      <td>137832</td>\n",
       "      <td>137832</td>\n",
       "      <td>137832</td>\n",
       "    </tr>\n",
       "    <tr>\n",
       "      <th>427</th>\n",
       "      <td>113420</td>\n",
       "      <td>113420</td>\n",
       "      <td>113420</td>\n",
       "      <td>113420</td>\n",
       "      <td>113420</td>\n",
       "      <td>113420</td>\n",
       "      <td>113420</td>\n",
       "      <td>113420</td>\n",
       "      <td>113420</td>\n",
       "      <td>113420</td>\n",
       "      <td>...</td>\n",
       "      <td>113420</td>\n",
       "      <td>113420</td>\n",
       "      <td>113420</td>\n",
       "      <td>113420</td>\n",
       "      <td>113420</td>\n",
       "      <td>113420</td>\n",
       "      <td>113420</td>\n",
       "      <td>113420</td>\n",
       "      <td>113420</td>\n",
       "      <td>113420</td>\n",
       "    </tr>\n",
       "    <tr>\n",
       "      <th>95765</th>\n",
       "      <td>99594</td>\n",
       "      <td>99594</td>\n",
       "      <td>99594</td>\n",
       "      <td>99594</td>\n",
       "      <td>99594</td>\n",
       "      <td>99594</td>\n",
       "      <td>99594</td>\n",
       "      <td>99594</td>\n",
       "      <td>99594</td>\n",
       "      <td>99594</td>\n",
       "      <td>...</td>\n",
       "      <td>99594</td>\n",
       "      <td>99594</td>\n",
       "      <td>99594</td>\n",
       "      <td>99594</td>\n",
       "      <td>99594</td>\n",
       "      <td>99594</td>\n",
       "      <td>99594</td>\n",
       "      <td>99594</td>\n",
       "      <td>99594</td>\n",
       "      <td>99594</td>\n",
       "    </tr>\n",
       "    <tr>\n",
       "      <th>445</th>\n",
       "      <td>99020</td>\n",
       "      <td>99020</td>\n",
       "      <td>99020</td>\n",
       "      <td>99020</td>\n",
       "      <td>99020</td>\n",
       "      <td>99020</td>\n",
       "      <td>99020</td>\n",
       "      <td>99020</td>\n",
       "      <td>99020</td>\n",
       "      <td>99020</td>\n",
       "      <td>...</td>\n",
       "      <td>99020</td>\n",
       "      <td>99020</td>\n",
       "      <td>99020</td>\n",
       "      <td>99020</td>\n",
       "      <td>99020</td>\n",
       "      <td>99020</td>\n",
       "      <td>99020</td>\n",
       "      <td>99020</td>\n",
       "      <td>99020</td>\n",
       "      <td>99020</td>\n",
       "    </tr>\n",
       "  </tbody>\n",
       "</table>\n",
       "<p>10 rows × 22 columns</p>\n",
       "</div>"
      ],
      "text/plain": [
       "         DstPort_count  Duration  SrcPort  SrcPackets  DstPackets  SrcBytes  \\\n",
       "DstPort                                                                       \n",
       "53              750295    750295   750295      750295      750295    750295   \n",
       "443             700175    700175   700175      700175      700175    700175   \n",
       "80              607732    607732   607732      607732      607732    607732   \n",
       "514             264663    264663   264663      264663      264663    264663   \n",
       "389             213198    213198   213198      213198      213198    213198   \n",
       "88              162582    162582   162582      162582      162582    162582   \n",
       "23118           137832    137832   137832      137832      137832    137832   \n",
       "427             113420    113420   113420      113420      113420    113420   \n",
       "95765            99594     99594    99594       99594       99594     99594   \n",
       "445              99020     99020    99020       99020       99020     99020   \n",
       "\n",
       "         DstBytes  SrcDevice_Comp  DstDevice_Comp  SrcDevice_IP     ...       \\\n",
       "DstPort                                                             ...        \n",
       "53         750295          750295          750295        750295     ...        \n",
       "443        700175          700175          700175        700175     ...        \n",
       "80         607732          607732          607732        607732     ...        \n",
       "514        264663          264663          264663        264663     ...        \n",
       "389        213198          213198          213198        213198     ...        \n",
       "88         162582          162582          162582        162582     ...        \n",
       "23118      137832          137832          137832        137832     ...        \n",
       "427        113420          113420          113420        113420     ...        \n",
       "95765       99594           99594           99594         99594     ...        \n",
       "445         99020           99020           99020         99020     ...        \n",
       "\n",
       "         DstDevice_ActiveDirectory  SrcDevice_EnterpriseAppServer  \\\n",
       "DstPort                                                             \n",
       "53                          750295                         750295   \n",
       "443                         700175                         700175   \n",
       "80                          607732                         607732   \n",
       "514                         264663                         264663   \n",
       "389                         213198                         213198   \n",
       "88                          162582                         162582   \n",
       "23118                       137832                         137832   \n",
       "427                         113420                         113420   \n",
       "95765                        99594                          99594   \n",
       "445                          99020                          99020   \n",
       "\n",
       "         DstDevice_EnterpriseAppServer  SrcDevice_VPN  DstDevice_VPN  \\\n",
       "DstPort                                                                \n",
       "53                              750295         750295         750295   \n",
       "443                             700175         700175         700175   \n",
       "80                              607732         607732         607732   \n",
       "514                             264663         264663         264663   \n",
       "389                             213198         213198         213198   \n",
       "88                              162582         162582         162582   \n",
       "23118                           137832         137832         137832   \n",
       "427                             113420         113420         113420   \n",
       "95765                            99594          99594          99594   \n",
       "445                              99020          99020          99020   \n",
       "\n",
       "         SrcDevice_VScanner  DstDevice_VScanner  Protocol_1  Protocol_6  \\\n",
       "DstPort                                                                   \n",
       "53                   750295              750295      750295      750295   \n",
       "443                  700175              700175      700175      700175   \n",
       "80                   607732              607732      607732      607732   \n",
       "514                  264663              264663      264663      264663   \n",
       "389                  213198              213198      213198      213198   \n",
       "88                   162582              162582      162582      162582   \n",
       "23118                137832              137832      137832      137832   \n",
       "427                  113420              113420      113420      113420   \n",
       "95765                 99594               99594       99594       99594   \n",
       "445                   99020               99020       99020       99020   \n",
       "\n",
       "         Protocol_17  \n",
       "DstPort               \n",
       "53            750295  \n",
       "443           700175  \n",
       "80            607732  \n",
       "514           264663  \n",
       "389           213198  \n",
       "88            162582  \n",
       "23118         137832  \n",
       "427           113420  \n",
       "95765          99594  \n",
       "445            99020  \n",
       "\n",
       "[10 rows x 22 columns]"
      ]
     },
     "execution_count": 109,
     "metadata": {},
     "output_type": "execute_result"
    }
   ],
   "source": [
    "counted = train_df1.groupby(\"DstPort\").count().rename(columns={\"Time\":\"DstPort_count\"})\n",
    "counted.sort_values(by=['DstPort_count'],ascending=False).head(10)"
   ]
  },
  {
   "cell_type": "code",
   "execution_count": 117,
   "metadata": {
    "hidden": true
   },
   "outputs": [
    {
     "data": {
      "text/plain": [
       "3148511"
      ]
     },
     "execution_count": 117,
     "metadata": {},
     "output_type": "execute_result"
    }
   ],
   "source": [
    "sum(counted.sort_values(by=['DstPort_count'],ascending=False)['DstPort_count'].values[:10])"
   ]
  },
  {
   "cell_type": "markdown",
   "metadata": {
    "heading_collapsed": true
   },
   "source": [
    "### `SrcPackets` and `DstPackets`"
   ]
  },
  {
   "cell_type": "markdown",
   "metadata": {
    "heading_collapsed": true,
    "hidden": true
   },
   "source": [
    "#### 91.47% of events send between 0-10 packets from the `SrcDevice`. The highest amount of packets sent is 87701075!"
   ]
  },
  {
   "cell_type": "code",
   "execution_count": 144,
   "metadata": {
    "hidden": true
   },
   "outputs": [
    {
     "data": {
      "text/html": [
       "<div>\n",
       "<style scoped>\n",
       "    .dataframe tbody tr th:only-of-type {\n",
       "        vertical-align: middle;\n",
       "    }\n",
       "\n",
       "    .dataframe tbody tr th {\n",
       "        vertical-align: top;\n",
       "    }\n",
       "\n",
       "    .dataframe thead th {\n",
       "        text-align: right;\n",
       "    }\n",
       "</style>\n",
       "<table border=\"1\" class=\"dataframe\">\n",
       "  <thead>\n",
       "    <tr style=\"text-align: right;\">\n",
       "      <th></th>\n",
       "      <th>SrcPackets_count</th>\n",
       "      <th>Duration</th>\n",
       "      <th>SrcPort</th>\n",
       "      <th>DstPort</th>\n",
       "      <th>DstPackets</th>\n",
       "      <th>SrcBytes</th>\n",
       "      <th>DstBytes</th>\n",
       "      <th>SrcDevice_Comp</th>\n",
       "      <th>DstDevice_Comp</th>\n",
       "      <th>SrcDevice_IP</th>\n",
       "      <th>...</th>\n",
       "      <th>DstDevice_ActiveDirectory</th>\n",
       "      <th>SrcDevice_EnterpriseAppServer</th>\n",
       "      <th>DstDevice_EnterpriseAppServer</th>\n",
       "      <th>SrcDevice_VPN</th>\n",
       "      <th>DstDevice_VPN</th>\n",
       "      <th>SrcDevice_VScanner</th>\n",
       "      <th>DstDevice_VScanner</th>\n",
       "      <th>Protocol_1</th>\n",
       "      <th>Protocol_6</th>\n",
       "      <th>Protocol_17</th>\n",
       "    </tr>\n",
       "    <tr>\n",
       "      <th>SrcPackets</th>\n",
       "      <th></th>\n",
       "      <th></th>\n",
       "      <th></th>\n",
       "      <th></th>\n",
       "      <th></th>\n",
       "      <th></th>\n",
       "      <th></th>\n",
       "      <th></th>\n",
       "      <th></th>\n",
       "      <th></th>\n",
       "      <th></th>\n",
       "      <th></th>\n",
       "      <th></th>\n",
       "      <th></th>\n",
       "      <th></th>\n",
       "      <th></th>\n",
       "      <th></th>\n",
       "      <th></th>\n",
       "      <th></th>\n",
       "      <th></th>\n",
       "      <th></th>\n",
       "    </tr>\n",
       "  </thead>\n",
       "  <tbody>\n",
       "    <tr>\n",
       "      <th>0</th>\n",
       "      <td>1951332</td>\n",
       "      <td>1951332</td>\n",
       "      <td>1951332</td>\n",
       "      <td>1951332</td>\n",
       "      <td>1951332</td>\n",
       "      <td>1951332</td>\n",
       "      <td>1951332</td>\n",
       "      <td>1951332</td>\n",
       "      <td>1951332</td>\n",
       "      <td>1951332</td>\n",
       "      <td>...</td>\n",
       "      <td>1951332</td>\n",
       "      <td>1951332</td>\n",
       "      <td>1951332</td>\n",
       "      <td>1951332</td>\n",
       "      <td>1951332</td>\n",
       "      <td>1951332</td>\n",
       "      <td>1951332</td>\n",
       "      <td>1951332</td>\n",
       "      <td>1951332</td>\n",
       "      <td>1951332</td>\n",
       "    </tr>\n",
       "    <tr>\n",
       "      <th>1</th>\n",
       "      <td>1181225</td>\n",
       "      <td>1181225</td>\n",
       "      <td>1181225</td>\n",
       "      <td>1181225</td>\n",
       "      <td>1181225</td>\n",
       "      <td>1181225</td>\n",
       "      <td>1181225</td>\n",
       "      <td>1181225</td>\n",
       "      <td>1181225</td>\n",
       "      <td>1181225</td>\n",
       "      <td>...</td>\n",
       "      <td>1181225</td>\n",
       "      <td>1181225</td>\n",
       "      <td>1181225</td>\n",
       "      <td>1181225</td>\n",
       "      <td>1181225</td>\n",
       "      <td>1181225</td>\n",
       "      <td>1181225</td>\n",
       "      <td>1181225</td>\n",
       "      <td>1181225</td>\n",
       "      <td>1181225</td>\n",
       "    </tr>\n",
       "    <tr>\n",
       "      <th>5</th>\n",
       "      <td>600726</td>\n",
       "      <td>600726</td>\n",
       "      <td>600726</td>\n",
       "      <td>600726</td>\n",
       "      <td>600726</td>\n",
       "      <td>600726</td>\n",
       "      <td>600726</td>\n",
       "      <td>600726</td>\n",
       "      <td>600726</td>\n",
       "      <td>600726</td>\n",
       "      <td>...</td>\n",
       "      <td>600726</td>\n",
       "      <td>600726</td>\n",
       "      <td>600726</td>\n",
       "      <td>600726</td>\n",
       "      <td>600726</td>\n",
       "      <td>600726</td>\n",
       "      <td>600726</td>\n",
       "      <td>600726</td>\n",
       "      <td>600726</td>\n",
       "      <td>600726</td>\n",
       "    </tr>\n",
       "    <tr>\n",
       "      <th>4</th>\n",
       "      <td>537638</td>\n",
       "      <td>537638</td>\n",
       "      <td>537638</td>\n",
       "      <td>537638</td>\n",
       "      <td>537638</td>\n",
       "      <td>537638</td>\n",
       "      <td>537638</td>\n",
       "      <td>537638</td>\n",
       "      <td>537638</td>\n",
       "      <td>537638</td>\n",
       "      <td>...</td>\n",
       "      <td>537638</td>\n",
       "      <td>537638</td>\n",
       "      <td>537638</td>\n",
       "      <td>537638</td>\n",
       "      <td>537638</td>\n",
       "      <td>537638</td>\n",
       "      <td>537638</td>\n",
       "      <td>537638</td>\n",
       "      <td>537638</td>\n",
       "      <td>537638</td>\n",
       "    </tr>\n",
       "    <tr>\n",
       "      <th>3</th>\n",
       "      <td>245588</td>\n",
       "      <td>245588</td>\n",
       "      <td>245588</td>\n",
       "      <td>245588</td>\n",
       "      <td>245588</td>\n",
       "      <td>245588</td>\n",
       "      <td>245588</td>\n",
       "      <td>245588</td>\n",
       "      <td>245588</td>\n",
       "      <td>245588</td>\n",
       "      <td>...</td>\n",
       "      <td>245588</td>\n",
       "      <td>245588</td>\n",
       "      <td>245588</td>\n",
       "      <td>245588</td>\n",
       "      <td>245588</td>\n",
       "      <td>245588</td>\n",
       "      <td>245588</td>\n",
       "      <td>245588</td>\n",
       "      <td>245588</td>\n",
       "      <td>245588</td>\n",
       "    </tr>\n",
       "    <tr>\n",
       "      <th>2</th>\n",
       "      <td>233467</td>\n",
       "      <td>233467</td>\n",
       "      <td>233467</td>\n",
       "      <td>233467</td>\n",
       "      <td>233467</td>\n",
       "      <td>233467</td>\n",
       "      <td>233467</td>\n",
       "      <td>233467</td>\n",
       "      <td>233467</td>\n",
       "      <td>233467</td>\n",
       "      <td>...</td>\n",
       "      <td>233467</td>\n",
       "      <td>233467</td>\n",
       "      <td>233467</td>\n",
       "      <td>233467</td>\n",
       "      <td>233467</td>\n",
       "      <td>233467</td>\n",
       "      <td>233467</td>\n",
       "      <td>233467</td>\n",
       "      <td>233467</td>\n",
       "      <td>233467</td>\n",
       "    </tr>\n",
       "    <tr>\n",
       "      <th>6</th>\n",
       "      <td>184014</td>\n",
       "      <td>184014</td>\n",
       "      <td>184014</td>\n",
       "      <td>184014</td>\n",
       "      <td>184014</td>\n",
       "      <td>184014</td>\n",
       "      <td>184014</td>\n",
       "      <td>184014</td>\n",
       "      <td>184014</td>\n",
       "      <td>184014</td>\n",
       "      <td>...</td>\n",
       "      <td>184014</td>\n",
       "      <td>184014</td>\n",
       "      <td>184014</td>\n",
       "      <td>184014</td>\n",
       "      <td>184014</td>\n",
       "      <td>184014</td>\n",
       "      <td>184014</td>\n",
       "      <td>184014</td>\n",
       "      <td>184014</td>\n",
       "      <td>184014</td>\n",
       "    </tr>\n",
       "    <tr>\n",
       "      <th>10</th>\n",
       "      <td>183998</td>\n",
       "      <td>183998</td>\n",
       "      <td>183998</td>\n",
       "      <td>183998</td>\n",
       "      <td>183998</td>\n",
       "      <td>183998</td>\n",
       "      <td>183998</td>\n",
       "      <td>183998</td>\n",
       "      <td>183998</td>\n",
       "      <td>183998</td>\n",
       "      <td>...</td>\n",
       "      <td>183998</td>\n",
       "      <td>183998</td>\n",
       "      <td>183998</td>\n",
       "      <td>183998</td>\n",
       "      <td>183998</td>\n",
       "      <td>183998</td>\n",
       "      <td>183998</td>\n",
       "      <td>183998</td>\n",
       "      <td>183998</td>\n",
       "      <td>183998</td>\n",
       "    </tr>\n",
       "    <tr>\n",
       "      <th>11</th>\n",
       "      <td>171049</td>\n",
       "      <td>171049</td>\n",
       "      <td>171049</td>\n",
       "      <td>171049</td>\n",
       "      <td>171049</td>\n",
       "      <td>171049</td>\n",
       "      <td>171049</td>\n",
       "      <td>171049</td>\n",
       "      <td>171049</td>\n",
       "      <td>171049</td>\n",
       "      <td>...</td>\n",
       "      <td>171049</td>\n",
       "      <td>171049</td>\n",
       "      <td>171049</td>\n",
       "      <td>171049</td>\n",
       "      <td>171049</td>\n",
       "      <td>171049</td>\n",
       "      <td>171049</td>\n",
       "      <td>171049</td>\n",
       "      <td>171049</td>\n",
       "      <td>171049</td>\n",
       "    </tr>\n",
       "    <tr>\n",
       "      <th>7</th>\n",
       "      <td>104048</td>\n",
       "      <td>104048</td>\n",
       "      <td>104048</td>\n",
       "      <td>104048</td>\n",
       "      <td>104048</td>\n",
       "      <td>104048</td>\n",
       "      <td>104048</td>\n",
       "      <td>104048</td>\n",
       "      <td>104048</td>\n",
       "      <td>104048</td>\n",
       "      <td>...</td>\n",
       "      <td>104048</td>\n",
       "      <td>104048</td>\n",
       "      <td>104048</td>\n",
       "      <td>104048</td>\n",
       "      <td>104048</td>\n",
       "      <td>104048</td>\n",
       "      <td>104048</td>\n",
       "      <td>104048</td>\n",
       "      <td>104048</td>\n",
       "      <td>104048</td>\n",
       "    </tr>\n",
       "  </tbody>\n",
       "</table>\n",
       "<p>10 rows × 22 columns</p>\n",
       "</div>"
      ],
      "text/plain": [
       "            SrcPackets_count  Duration  SrcPort  DstPort  DstPackets  \\\n",
       "SrcPackets                                                             \n",
       "0                    1951332   1951332  1951332  1951332     1951332   \n",
       "1                    1181225   1181225  1181225  1181225     1181225   \n",
       "5                     600726    600726   600726   600726      600726   \n",
       "4                     537638    537638   537638   537638      537638   \n",
       "3                     245588    245588   245588   245588      245588   \n",
       "2                     233467    233467   233467   233467      233467   \n",
       "6                     184014    184014   184014   184014      184014   \n",
       "10                    183998    183998   183998   183998      183998   \n",
       "11                    171049    171049   171049   171049      171049   \n",
       "7                     104048    104048   104048   104048      104048   \n",
       "\n",
       "            SrcBytes  DstBytes  SrcDevice_Comp  DstDevice_Comp  SrcDevice_IP  \\\n",
       "SrcPackets                                                                     \n",
       "0            1951332   1951332         1951332         1951332       1951332   \n",
       "1            1181225   1181225         1181225         1181225       1181225   \n",
       "5             600726    600726          600726          600726        600726   \n",
       "4             537638    537638          537638          537638        537638   \n",
       "3             245588    245588          245588          245588        245588   \n",
       "2             233467    233467          233467          233467        233467   \n",
       "6             184014    184014          184014          184014        184014   \n",
       "10            183998    183998          183998          183998        183998   \n",
       "11            171049    171049          171049          171049        171049   \n",
       "7             104048    104048          104048          104048        104048   \n",
       "\n",
       "               ...       DstDevice_ActiveDirectory  \\\n",
       "SrcPackets     ...                                   \n",
       "0              ...                         1951332   \n",
       "1              ...                         1181225   \n",
       "5              ...                          600726   \n",
       "4              ...                          537638   \n",
       "3              ...                          245588   \n",
       "2              ...                          233467   \n",
       "6              ...                          184014   \n",
       "10             ...                          183998   \n",
       "11             ...                          171049   \n",
       "7              ...                          104048   \n",
       "\n",
       "            SrcDevice_EnterpriseAppServer  DstDevice_EnterpriseAppServer  \\\n",
       "SrcPackets                                                                 \n",
       "0                                 1951332                        1951332   \n",
       "1                                 1181225                        1181225   \n",
       "5                                  600726                         600726   \n",
       "4                                  537638                         537638   \n",
       "3                                  245588                         245588   \n",
       "2                                  233467                         233467   \n",
       "6                                  184014                         184014   \n",
       "10                                 183998                         183998   \n",
       "11                                 171049                         171049   \n",
       "7                                  104048                         104048   \n",
       "\n",
       "            SrcDevice_VPN  DstDevice_VPN  SrcDevice_VScanner  \\\n",
       "SrcPackets                                                     \n",
       "0                 1951332        1951332             1951332   \n",
       "1                 1181225        1181225             1181225   \n",
       "5                  600726         600726              600726   \n",
       "4                  537638         537638              537638   \n",
       "3                  245588         245588              245588   \n",
       "2                  233467         233467              233467   \n",
       "6                  184014         184014              184014   \n",
       "10                 183998         183998              183998   \n",
       "11                 171049         171049              171049   \n",
       "7                  104048         104048              104048   \n",
       "\n",
       "            DstDevice_VScanner  Protocol_1  Protocol_6  Protocol_17  \n",
       "SrcPackets                                                           \n",
       "0                      1951332     1951332     1951332      1951332  \n",
       "1                      1181225     1181225     1181225      1181225  \n",
       "5                       600726      600726      600726       600726  \n",
       "4                       537638      537638      537638       537638  \n",
       "3                       245588      245588      245588       245588  \n",
       "2                       233467      233467      233467       233467  \n",
       "6                       184014      184014      184014       184014  \n",
       "10                      183998      183998      183998       183998  \n",
       "11                      171049      171049      171049       171049  \n",
       "7                       104048      104048      104048       104048  \n",
       "\n",
       "[10 rows x 22 columns]"
      ]
     },
     "execution_count": 144,
     "metadata": {},
     "output_type": "execute_result"
    }
   ],
   "source": [
    "counted = train_df1.groupby(\"SrcPackets\").count().rename(columns={\"Time\":\"SrcPackets_count\"})\n",
    "counted.sort_values(by=['SrcPackets_count'],ascending=False).head(10)"
   ]
  },
  {
   "cell_type": "code",
   "execution_count": 145,
   "metadata": {
    "hidden": true
   },
   "outputs": [
    {
     "data": {
      "text/plain": [
       "0.9146632947055655"
      ]
     },
     "execution_count": 145,
     "metadata": {},
     "output_type": "execute_result"
    }
   ],
   "source": [
    "sum(counted.sort_values(by=['SrcPackets_count'],ascending=False)['SrcPackets_count'].values[:12])/sum(counted.sort_values(by=['SrcPackets_count'],ascending=False)['SrcPackets_count'].values)"
   ]
  },
  {
   "cell_type": "code",
   "execution_count": 136,
   "metadata": {
    "hidden": true
   },
   "outputs": [
    {
     "data": {
      "text/plain": [
       "array([72759509, 74938675, 77148736, 79109660, 81076770, 82796324,\n",
       "       84609078, 84760288, 86720597, 87701075])"
      ]
     },
     "execution_count": 136,
     "metadata": {},
     "output_type": "execute_result"
    }
   ],
   "source": [
    "np.sort(train_df1['SrcPackets'].values)[-10:]"
   ]
  },
  {
   "cell_type": "markdown",
   "metadata": {
    "heading_collapsed": true,
    "hidden": true
   },
   "source": [
    "#### 93.40% of events send between 0-10 packets from the `DstDevice`. The highest amount of packets sent is 77760718."
   ]
  },
  {
   "cell_type": "code",
   "execution_count": 139,
   "metadata": {
    "hidden": true
   },
   "outputs": [
    {
     "data": {
      "text/html": [
       "<div>\n",
       "<style scoped>\n",
       "    .dataframe tbody tr th:only-of-type {\n",
       "        vertical-align: middle;\n",
       "    }\n",
       "\n",
       "    .dataframe tbody tr th {\n",
       "        vertical-align: top;\n",
       "    }\n",
       "\n",
       "    .dataframe thead th {\n",
       "        text-align: right;\n",
       "    }\n",
       "</style>\n",
       "<table border=\"1\" class=\"dataframe\">\n",
       "  <thead>\n",
       "    <tr style=\"text-align: right;\">\n",
       "      <th></th>\n",
       "      <th>DstPackets_count</th>\n",
       "      <th>Duration</th>\n",
       "      <th>SrcPort</th>\n",
       "      <th>DstPort</th>\n",
       "      <th>SrcPackets</th>\n",
       "      <th>SrcBytes</th>\n",
       "      <th>DstBytes</th>\n",
       "      <th>SrcDevice_Comp</th>\n",
       "      <th>DstDevice_Comp</th>\n",
       "      <th>SrcDevice_IP</th>\n",
       "      <th>...</th>\n",
       "      <th>DstDevice_ActiveDirectory</th>\n",
       "      <th>SrcDevice_EnterpriseAppServer</th>\n",
       "      <th>DstDevice_EnterpriseAppServer</th>\n",
       "      <th>SrcDevice_VPN</th>\n",
       "      <th>DstDevice_VPN</th>\n",
       "      <th>SrcDevice_VScanner</th>\n",
       "      <th>DstDevice_VScanner</th>\n",
       "      <th>Protocol_1</th>\n",
       "      <th>Protocol_6</th>\n",
       "      <th>Protocol_17</th>\n",
       "    </tr>\n",
       "    <tr>\n",
       "      <th>DstPackets</th>\n",
       "      <th></th>\n",
       "      <th></th>\n",
       "      <th></th>\n",
       "      <th></th>\n",
       "      <th></th>\n",
       "      <th></th>\n",
       "      <th></th>\n",
       "      <th></th>\n",
       "      <th></th>\n",
       "      <th></th>\n",
       "      <th></th>\n",
       "      <th></th>\n",
       "      <th></th>\n",
       "      <th></th>\n",
       "      <th></th>\n",
       "      <th></th>\n",
       "      <th></th>\n",
       "      <th></th>\n",
       "      <th></th>\n",
       "      <th></th>\n",
       "      <th></th>\n",
       "    </tr>\n",
       "  </thead>\n",
       "  <tbody>\n",
       "    <tr>\n",
       "      <th>0</th>\n",
       "      <td>2098503</td>\n",
       "      <td>2098503</td>\n",
       "      <td>2098503</td>\n",
       "      <td>2098503</td>\n",
       "      <td>2098503</td>\n",
       "      <td>2098503</td>\n",
       "      <td>2098503</td>\n",
       "      <td>2098503</td>\n",
       "      <td>2098503</td>\n",
       "      <td>2098503</td>\n",
       "      <td>...</td>\n",
       "      <td>2098503</td>\n",
       "      <td>2098503</td>\n",
       "      <td>2098503</td>\n",
       "      <td>2098503</td>\n",
       "      <td>2098503</td>\n",
       "      <td>2098503</td>\n",
       "      <td>2098503</td>\n",
       "      <td>2098503</td>\n",
       "      <td>2098503</td>\n",
       "      <td>2098503</td>\n",
       "    </tr>\n",
       "    <tr>\n",
       "      <th>1</th>\n",
       "      <td>1746836</td>\n",
       "      <td>1746836</td>\n",
       "      <td>1746836</td>\n",
       "      <td>1746836</td>\n",
       "      <td>1746836</td>\n",
       "      <td>1746836</td>\n",
       "      <td>1746836</td>\n",
       "      <td>1746836</td>\n",
       "      <td>1746836</td>\n",
       "      <td>1746836</td>\n",
       "      <td>...</td>\n",
       "      <td>1746836</td>\n",
       "      <td>1746836</td>\n",
       "      <td>1746836</td>\n",
       "      <td>1746836</td>\n",
       "      <td>1746836</td>\n",
       "      <td>1746836</td>\n",
       "      <td>1746836</td>\n",
       "      <td>1746836</td>\n",
       "      <td>1746836</td>\n",
       "      <td>1746836</td>\n",
       "    </tr>\n",
       "    <tr>\n",
       "      <th>3</th>\n",
       "      <td>596994</td>\n",
       "      <td>596994</td>\n",
       "      <td>596994</td>\n",
       "      <td>596994</td>\n",
       "      <td>596994</td>\n",
       "      <td>596994</td>\n",
       "      <td>596994</td>\n",
       "      <td>596994</td>\n",
       "      <td>596994</td>\n",
       "      <td>596994</td>\n",
       "      <td>...</td>\n",
       "      <td>596994</td>\n",
       "      <td>596994</td>\n",
       "      <td>596994</td>\n",
       "      <td>596994</td>\n",
       "      <td>596994</td>\n",
       "      <td>596994</td>\n",
       "      <td>596994</td>\n",
       "      <td>596994</td>\n",
       "      <td>596994</td>\n",
       "      <td>596994</td>\n",
       "    </tr>\n",
       "    <tr>\n",
       "      <th>5</th>\n",
       "      <td>283068</td>\n",
       "      <td>283068</td>\n",
       "      <td>283068</td>\n",
       "      <td>283068</td>\n",
       "      <td>283068</td>\n",
       "      <td>283068</td>\n",
       "      <td>283068</td>\n",
       "      <td>283068</td>\n",
       "      <td>283068</td>\n",
       "      <td>283068</td>\n",
       "      <td>...</td>\n",
       "      <td>283068</td>\n",
       "      <td>283068</td>\n",
       "      <td>283068</td>\n",
       "      <td>283068</td>\n",
       "      <td>283068</td>\n",
       "      <td>283068</td>\n",
       "      <td>283068</td>\n",
       "      <td>283068</td>\n",
       "      <td>283068</td>\n",
       "      <td>283068</td>\n",
       "    </tr>\n",
       "    <tr>\n",
       "      <th>2</th>\n",
       "      <td>218062</td>\n",
       "      <td>218062</td>\n",
       "      <td>218062</td>\n",
       "      <td>218062</td>\n",
       "      <td>218062</td>\n",
       "      <td>218062</td>\n",
       "      <td>218062</td>\n",
       "      <td>218062</td>\n",
       "      <td>218062</td>\n",
       "      <td>218062</td>\n",
       "      <td>...</td>\n",
       "      <td>218062</td>\n",
       "      <td>218062</td>\n",
       "      <td>218062</td>\n",
       "      <td>218062</td>\n",
       "      <td>218062</td>\n",
       "      <td>218062</td>\n",
       "      <td>218062</td>\n",
       "      <td>218062</td>\n",
       "      <td>218062</td>\n",
       "      <td>218062</td>\n",
       "    </tr>\n",
       "    <tr>\n",
       "      <th>4</th>\n",
       "      <td>196227</td>\n",
       "      <td>196227</td>\n",
       "      <td>196227</td>\n",
       "      <td>196227</td>\n",
       "      <td>196227</td>\n",
       "      <td>196227</td>\n",
       "      <td>196227</td>\n",
       "      <td>196227</td>\n",
       "      <td>196227</td>\n",
       "      <td>196227</td>\n",
       "      <td>...</td>\n",
       "      <td>196227</td>\n",
       "      <td>196227</td>\n",
       "      <td>196227</td>\n",
       "      <td>196227</td>\n",
       "      <td>196227</td>\n",
       "      <td>196227</td>\n",
       "      <td>196227</td>\n",
       "      <td>196227</td>\n",
       "      <td>196227</td>\n",
       "      <td>196227</td>\n",
       "    </tr>\n",
       "    <tr>\n",
       "      <th>7</th>\n",
       "      <td>189765</td>\n",
       "      <td>189765</td>\n",
       "      <td>189765</td>\n",
       "      <td>189765</td>\n",
       "      <td>189765</td>\n",
       "      <td>189765</td>\n",
       "      <td>189765</td>\n",
       "      <td>189765</td>\n",
       "      <td>189765</td>\n",
       "      <td>189765</td>\n",
       "      <td>...</td>\n",
       "      <td>189765</td>\n",
       "      <td>189765</td>\n",
       "      <td>189765</td>\n",
       "      <td>189765</td>\n",
       "      <td>189765</td>\n",
       "      <td>189765</td>\n",
       "      <td>189765</td>\n",
       "      <td>189765</td>\n",
       "      <td>189765</td>\n",
       "      <td>189765</td>\n",
       "    </tr>\n",
       "    <tr>\n",
       "      <th>6</th>\n",
       "      <td>120250</td>\n",
       "      <td>120250</td>\n",
       "      <td>120250</td>\n",
       "      <td>120250</td>\n",
       "      <td>120250</td>\n",
       "      <td>120250</td>\n",
       "      <td>120250</td>\n",
       "      <td>120250</td>\n",
       "      <td>120250</td>\n",
       "      <td>120250</td>\n",
       "      <td>...</td>\n",
       "      <td>120250</td>\n",
       "      <td>120250</td>\n",
       "      <td>120250</td>\n",
       "      <td>120250</td>\n",
       "      <td>120250</td>\n",
       "      <td>120250</td>\n",
       "      <td>120250</td>\n",
       "      <td>120250</td>\n",
       "      <td>120250</td>\n",
       "      <td>120250</td>\n",
       "    </tr>\n",
       "    <tr>\n",
       "      <th>9</th>\n",
       "      <td>68150</td>\n",
       "      <td>68150</td>\n",
       "      <td>68150</td>\n",
       "      <td>68150</td>\n",
       "      <td>68150</td>\n",
       "      <td>68150</td>\n",
       "      <td>68150</td>\n",
       "      <td>68150</td>\n",
       "      <td>68150</td>\n",
       "      <td>68150</td>\n",
       "      <td>...</td>\n",
       "      <td>68150</td>\n",
       "      <td>68150</td>\n",
       "      <td>68150</td>\n",
       "      <td>68150</td>\n",
       "      <td>68150</td>\n",
       "      <td>68150</td>\n",
       "      <td>68150</td>\n",
       "      <td>68150</td>\n",
       "      <td>68150</td>\n",
       "      <td>68150</td>\n",
       "    </tr>\n",
       "    <tr>\n",
       "      <th>11</th>\n",
       "      <td>63692</td>\n",
       "      <td>63692</td>\n",
       "      <td>63692</td>\n",
       "      <td>63692</td>\n",
       "      <td>63692</td>\n",
       "      <td>63692</td>\n",
       "      <td>63692</td>\n",
       "      <td>63692</td>\n",
       "      <td>63692</td>\n",
       "      <td>63692</td>\n",
       "      <td>...</td>\n",
       "      <td>63692</td>\n",
       "      <td>63692</td>\n",
       "      <td>63692</td>\n",
       "      <td>63692</td>\n",
       "      <td>63692</td>\n",
       "      <td>63692</td>\n",
       "      <td>63692</td>\n",
       "      <td>63692</td>\n",
       "      <td>63692</td>\n",
       "      <td>63692</td>\n",
       "    </tr>\n",
       "  </tbody>\n",
       "</table>\n",
       "<p>10 rows × 22 columns</p>\n",
       "</div>"
      ],
      "text/plain": [
       "            DstPackets_count  Duration  SrcPort  DstPort  SrcPackets  \\\n",
       "DstPackets                                                             \n",
       "0                    2098503   2098503  2098503  2098503     2098503   \n",
       "1                    1746836   1746836  1746836  1746836     1746836   \n",
       "3                     596994    596994   596994   596994      596994   \n",
       "5                     283068    283068   283068   283068      283068   \n",
       "2                     218062    218062   218062   218062      218062   \n",
       "4                     196227    196227   196227   196227      196227   \n",
       "7                     189765    189765   189765   189765      189765   \n",
       "6                     120250    120250   120250   120250      120250   \n",
       "9                      68150     68150    68150    68150       68150   \n",
       "11                     63692     63692    63692    63692       63692   \n",
       "\n",
       "            SrcBytes  DstBytes  SrcDevice_Comp  DstDevice_Comp  SrcDevice_IP  \\\n",
       "DstPackets                                                                     \n",
       "0            2098503   2098503         2098503         2098503       2098503   \n",
       "1            1746836   1746836         1746836         1746836       1746836   \n",
       "3             596994    596994          596994          596994        596994   \n",
       "5             283068    283068          283068          283068        283068   \n",
       "2             218062    218062          218062          218062        218062   \n",
       "4             196227    196227          196227          196227        196227   \n",
       "7             189765    189765          189765          189765        189765   \n",
       "6             120250    120250          120250          120250        120250   \n",
       "9              68150     68150           68150           68150         68150   \n",
       "11             63692     63692           63692           63692         63692   \n",
       "\n",
       "               ...       DstDevice_ActiveDirectory  \\\n",
       "DstPackets     ...                                   \n",
       "0              ...                         2098503   \n",
       "1              ...                         1746836   \n",
       "3              ...                          596994   \n",
       "5              ...                          283068   \n",
       "2              ...                          218062   \n",
       "4              ...                          196227   \n",
       "7              ...                          189765   \n",
       "6              ...                          120250   \n",
       "9              ...                           68150   \n",
       "11             ...                           63692   \n",
       "\n",
       "            SrcDevice_EnterpriseAppServer  DstDevice_EnterpriseAppServer  \\\n",
       "DstPackets                                                                 \n",
       "0                                 2098503                        2098503   \n",
       "1                                 1746836                        1746836   \n",
       "3                                  596994                         596994   \n",
       "5                                  283068                         283068   \n",
       "2                                  218062                         218062   \n",
       "4                                  196227                         196227   \n",
       "7                                  189765                         189765   \n",
       "6                                  120250                         120250   \n",
       "9                                   68150                          68150   \n",
       "11                                  63692                          63692   \n",
       "\n",
       "            SrcDevice_VPN  DstDevice_VPN  SrcDevice_VScanner  \\\n",
       "DstPackets                                                     \n",
       "0                 2098503        2098503             2098503   \n",
       "1                 1746836        1746836             1746836   \n",
       "3                  596994         596994              596994   \n",
       "5                  283068         283068              283068   \n",
       "2                  218062         218062              218062   \n",
       "4                  196227         196227              196227   \n",
       "7                  189765         189765              189765   \n",
       "6                  120250         120250              120250   \n",
       "9                   68150          68150               68150   \n",
       "11                  63692          63692               63692   \n",
       "\n",
       "            DstDevice_VScanner  Protocol_1  Protocol_6  Protocol_17  \n",
       "DstPackets                                                           \n",
       "0                      2098503     2098503     2098503      2098503  \n",
       "1                      1746836     1746836     1746836      1746836  \n",
       "3                       596994      596994      596994       596994  \n",
       "5                       283068      283068      283068       283068  \n",
       "2                       218062      218062      218062       218062  \n",
       "4                       196227      196227      196227       196227  \n",
       "7                       189765      189765      189765       189765  \n",
       "6                       120250      120250      120250       120250  \n",
       "9                        68150       68150       68150        68150  \n",
       "11                       63692       63692       63692        63692  \n",
       "\n",
       "[10 rows x 22 columns]"
      ]
     },
     "execution_count": 139,
     "metadata": {},
     "output_type": "execute_result"
    }
   ],
   "source": [
    "counted = train_df1.groupby(\"DstPackets\").count().rename(columns={\"Time\":\"DstPackets_count\"})\n",
    "counted.sort_values(by=['DstPackets_count'],ascending=False).head(10)"
   ]
  },
  {
   "cell_type": "code",
   "execution_count": 142,
   "metadata": {
    "hidden": true
   },
   "outputs": [
    {
     "data": {
      "text/plain": [
       "0.9340995957612535"
      ]
     },
     "execution_count": 142,
     "metadata": {},
     "output_type": "execute_result"
    }
   ],
   "source": [
    "sum(counted.sort_values(by=['DstPackets_count'],ascending=False)['DstPackets_count'].values[:12])/sum(counted.sort_values(by=['DstPackets_count'],ascending=False)['DstPackets_count'].values)"
   ]
  },
  {
   "cell_type": "code",
   "execution_count": 161,
   "metadata": {
    "hidden": true
   },
   "outputs": [
    {
     "data": {
      "text/plain": [
       "array([64687095, 66650395, 68478386, 68610780, 70356457, 71882842,\n",
       "       73626605, 75365457, 77107098, 77760718])"
      ]
     },
     "execution_count": 161,
     "metadata": {},
     "output_type": "execute_result"
    }
   ],
   "source": [
    "np.sort(train_df1['DstPackets'].values)[-10:]"
   ]
  },
  {
   "cell_type": "markdown",
   "metadata": {
    "heading_collapsed": true
   },
   "source": [
    "### `SrcBytes` and `DstBytes`"
   ]
  },
  {
   "cell_type": "markdown",
   "metadata": {
    "heading_collapsed": true,
    "hidden": true
   },
   "source": [
    "#### Initial Look"
   ]
  },
  {
   "cell_type": "code",
   "execution_count": 147,
   "metadata": {
    "hidden": true
   },
   "outputs": [
    {
     "data": {
      "text/html": [
       "<div>\n",
       "<style scoped>\n",
       "    .dataframe tbody tr th:only-of-type {\n",
       "        vertical-align: middle;\n",
       "    }\n",
       "\n",
       "    .dataframe tbody tr th {\n",
       "        vertical-align: top;\n",
       "    }\n",
       "\n",
       "    .dataframe thead th {\n",
       "        text-align: right;\n",
       "    }\n",
       "</style>\n",
       "<table border=\"1\" class=\"dataframe\">\n",
       "  <thead>\n",
       "    <tr style=\"text-align: right;\">\n",
       "      <th></th>\n",
       "      <th>SrcBytes_count</th>\n",
       "      <th>Duration</th>\n",
       "      <th>SrcPort</th>\n",
       "      <th>DstPort</th>\n",
       "      <th>SrcPackets</th>\n",
       "      <th>DstPackets</th>\n",
       "      <th>DstBytes</th>\n",
       "      <th>SrcDevice_Comp</th>\n",
       "      <th>DstDevice_Comp</th>\n",
       "      <th>SrcDevice_IP</th>\n",
       "      <th>...</th>\n",
       "      <th>DstDevice_ActiveDirectory</th>\n",
       "      <th>SrcDevice_EnterpriseAppServer</th>\n",
       "      <th>DstDevice_EnterpriseAppServer</th>\n",
       "      <th>SrcDevice_VPN</th>\n",
       "      <th>DstDevice_VPN</th>\n",
       "      <th>SrcDevice_VScanner</th>\n",
       "      <th>DstDevice_VScanner</th>\n",
       "      <th>Protocol_1</th>\n",
       "      <th>Protocol_6</th>\n",
       "      <th>Protocol_17</th>\n",
       "    </tr>\n",
       "    <tr>\n",
       "      <th>SrcBytes</th>\n",
       "      <th></th>\n",
       "      <th></th>\n",
       "      <th></th>\n",
       "      <th></th>\n",
       "      <th></th>\n",
       "      <th></th>\n",
       "      <th></th>\n",
       "      <th></th>\n",
       "      <th></th>\n",
       "      <th></th>\n",
       "      <th></th>\n",
       "      <th></th>\n",
       "      <th></th>\n",
       "      <th></th>\n",
       "      <th></th>\n",
       "      <th></th>\n",
       "      <th></th>\n",
       "      <th></th>\n",
       "      <th></th>\n",
       "      <th></th>\n",
       "      <th></th>\n",
       "    </tr>\n",
       "  </thead>\n",
       "  <tbody>\n",
       "    <tr>\n",
       "      <th>0</th>\n",
       "      <td>1951332</td>\n",
       "      <td>1951332</td>\n",
       "      <td>1951332</td>\n",
       "      <td>1951332</td>\n",
       "      <td>1951332</td>\n",
       "      <td>1951332</td>\n",
       "      <td>1951332</td>\n",
       "      <td>1951332</td>\n",
       "      <td>1951332</td>\n",
       "      <td>1951332</td>\n",
       "      <td>...</td>\n",
       "      <td>1951332</td>\n",
       "      <td>1951332</td>\n",
       "      <td>1951332</td>\n",
       "      <td>1951332</td>\n",
       "      <td>1951332</td>\n",
       "      <td>1951332</td>\n",
       "      <td>1951332</td>\n",
       "      <td>1951332</td>\n",
       "      <td>1951332</td>\n",
       "      <td>1951332</td>\n",
       "    </tr>\n",
       "    <tr>\n",
       "      <th>277</th>\n",
       "      <td>268365</td>\n",
       "      <td>268365</td>\n",
       "      <td>268365</td>\n",
       "      <td>268365</td>\n",
       "      <td>268365</td>\n",
       "      <td>268365</td>\n",
       "      <td>268365</td>\n",
       "      <td>268365</td>\n",
       "      <td>268365</td>\n",
       "      <td>268365</td>\n",
       "      <td>...</td>\n",
       "      <td>268365</td>\n",
       "      <td>268365</td>\n",
       "      <td>268365</td>\n",
       "      <td>268365</td>\n",
       "      <td>268365</td>\n",
       "      <td>268365</td>\n",
       "      <td>268365</td>\n",
       "      <td>268365</td>\n",
       "      <td>268365</td>\n",
       "      <td>268365</td>\n",
       "    </tr>\n",
       "    <tr>\n",
       "      <th>216</th>\n",
       "      <td>266771</td>\n",
       "      <td>266771</td>\n",
       "      <td>266771</td>\n",
       "      <td>266771</td>\n",
       "      <td>266771</td>\n",
       "      <td>266771</td>\n",
       "      <td>266771</td>\n",
       "      <td>266771</td>\n",
       "      <td>266771</td>\n",
       "      <td>266771</td>\n",
       "      <td>...</td>\n",
       "      <td>266771</td>\n",
       "      <td>266771</td>\n",
       "      <td>266771</td>\n",
       "      <td>266771</td>\n",
       "      <td>266771</td>\n",
       "      <td>266771</td>\n",
       "      <td>266771</td>\n",
       "      <td>266771</td>\n",
       "      <td>266771</td>\n",
       "      <td>266771</td>\n",
       "    </tr>\n",
       "    <tr>\n",
       "      <th>60</th>\n",
       "      <td>247876</td>\n",
       "      <td>247876</td>\n",
       "      <td>247876</td>\n",
       "      <td>247876</td>\n",
       "      <td>247876</td>\n",
       "      <td>247876</td>\n",
       "      <td>247876</td>\n",
       "      <td>247876</td>\n",
       "      <td>247876</td>\n",
       "      <td>247876</td>\n",
       "      <td>...</td>\n",
       "      <td>247876</td>\n",
       "      <td>247876</td>\n",
       "      <td>247876</td>\n",
       "      <td>247876</td>\n",
       "      <td>247876</td>\n",
       "      <td>247876</td>\n",
       "      <td>247876</td>\n",
       "      <td>247876</td>\n",
       "      <td>247876</td>\n",
       "      <td>247876</td>\n",
       "    </tr>\n",
       "    <tr>\n",
       "      <th>225</th>\n",
       "      <td>112601</td>\n",
       "      <td>112601</td>\n",
       "      <td>112601</td>\n",
       "      <td>112601</td>\n",
       "      <td>112601</td>\n",
       "      <td>112601</td>\n",
       "      <td>112601</td>\n",
       "      <td>112601</td>\n",
       "      <td>112601</td>\n",
       "      <td>112601</td>\n",
       "      <td>...</td>\n",
       "      <td>112601</td>\n",
       "      <td>112601</td>\n",
       "      <td>112601</td>\n",
       "      <td>112601</td>\n",
       "      <td>112601</td>\n",
       "      <td>112601</td>\n",
       "      <td>112601</td>\n",
       "      <td>112601</td>\n",
       "      <td>112601</td>\n",
       "      <td>112601</td>\n",
       "    </tr>\n",
       "    <tr>\n",
       "      <th>164</th>\n",
       "      <td>99908</td>\n",
       "      <td>99908</td>\n",
       "      <td>99908</td>\n",
       "      <td>99908</td>\n",
       "      <td>99908</td>\n",
       "      <td>99908</td>\n",
       "      <td>99908</td>\n",
       "      <td>99908</td>\n",
       "      <td>99908</td>\n",
       "      <td>99908</td>\n",
       "      <td>...</td>\n",
       "      <td>99908</td>\n",
       "      <td>99908</td>\n",
       "      <td>99908</td>\n",
       "      <td>99908</td>\n",
       "      <td>99908</td>\n",
       "      <td>99908</td>\n",
       "      <td>99908</td>\n",
       "      <td>99908</td>\n",
       "      <td>99908</td>\n",
       "      <td>99908</td>\n",
       "    </tr>\n",
       "    <tr>\n",
       "      <th>399</th>\n",
       "      <td>77662</td>\n",
       "      <td>77662</td>\n",
       "      <td>77662</td>\n",
       "      <td>77662</td>\n",
       "      <td>77662</td>\n",
       "      <td>77662</td>\n",
       "      <td>77662</td>\n",
       "      <td>77662</td>\n",
       "      <td>77662</td>\n",
       "      <td>77662</td>\n",
       "      <td>...</td>\n",
       "      <td>77662</td>\n",
       "      <td>77662</td>\n",
       "      <td>77662</td>\n",
       "      <td>77662</td>\n",
       "      <td>77662</td>\n",
       "      <td>77662</td>\n",
       "      <td>77662</td>\n",
       "      <td>77662</td>\n",
       "      <td>77662</td>\n",
       "      <td>77662</td>\n",
       "    </tr>\n",
       "    <tr>\n",
       "      <th>152</th>\n",
       "      <td>74380</td>\n",
       "      <td>74380</td>\n",
       "      <td>74380</td>\n",
       "      <td>74380</td>\n",
       "      <td>74380</td>\n",
       "      <td>74380</td>\n",
       "      <td>74380</td>\n",
       "      <td>74380</td>\n",
       "      <td>74380</td>\n",
       "      <td>74380</td>\n",
       "      <td>...</td>\n",
       "      <td>74380</td>\n",
       "      <td>74380</td>\n",
       "      <td>74380</td>\n",
       "      <td>74380</td>\n",
       "      <td>74380</td>\n",
       "      <td>74380</td>\n",
       "      <td>74380</td>\n",
       "      <td>74380</td>\n",
       "      <td>74380</td>\n",
       "      <td>74380</td>\n",
       "    </tr>\n",
       "    <tr>\n",
       "      <th>46</th>\n",
       "      <td>71063</td>\n",
       "      <td>71063</td>\n",
       "      <td>71063</td>\n",
       "      <td>71063</td>\n",
       "      <td>71063</td>\n",
       "      <td>71063</td>\n",
       "      <td>71063</td>\n",
       "      <td>71063</td>\n",
       "      <td>71063</td>\n",
       "      <td>71063</td>\n",
       "      <td>...</td>\n",
       "      <td>71063</td>\n",
       "      <td>71063</td>\n",
       "      <td>71063</td>\n",
       "      <td>71063</td>\n",
       "      <td>71063</td>\n",
       "      <td>71063</td>\n",
       "      <td>71063</td>\n",
       "      <td>71063</td>\n",
       "      <td>71063</td>\n",
       "      <td>71063</td>\n",
       "    </tr>\n",
       "    <tr>\n",
       "      <th>64</th>\n",
       "      <td>62962</td>\n",
       "      <td>62962</td>\n",
       "      <td>62962</td>\n",
       "      <td>62962</td>\n",
       "      <td>62962</td>\n",
       "      <td>62962</td>\n",
       "      <td>62962</td>\n",
       "      <td>62962</td>\n",
       "      <td>62962</td>\n",
       "      <td>62962</td>\n",
       "      <td>...</td>\n",
       "      <td>62962</td>\n",
       "      <td>62962</td>\n",
       "      <td>62962</td>\n",
       "      <td>62962</td>\n",
       "      <td>62962</td>\n",
       "      <td>62962</td>\n",
       "      <td>62962</td>\n",
       "      <td>62962</td>\n",
       "      <td>62962</td>\n",
       "      <td>62962</td>\n",
       "    </tr>\n",
       "  </tbody>\n",
       "</table>\n",
       "<p>10 rows × 22 columns</p>\n",
       "</div>"
      ],
      "text/plain": [
       "          SrcBytes_count  Duration  SrcPort  DstPort  SrcPackets  DstPackets  \\\n",
       "SrcBytes                                                                       \n",
       "0                1951332   1951332  1951332  1951332     1951332     1951332   \n",
       "277               268365    268365   268365   268365      268365      268365   \n",
       "216               266771    266771   266771   266771      266771      266771   \n",
       "60                247876    247876   247876   247876      247876      247876   \n",
       "225               112601    112601   112601   112601      112601      112601   \n",
       "164                99908     99908    99908    99908       99908       99908   \n",
       "399                77662     77662    77662    77662       77662       77662   \n",
       "152                74380     74380    74380    74380       74380       74380   \n",
       "46                 71063     71063    71063    71063       71063       71063   \n",
       "64                 62962     62962    62962    62962       62962       62962   \n",
       "\n",
       "          DstBytes  SrcDevice_Comp  DstDevice_Comp  SrcDevice_IP     ...       \\\n",
       "SrcBytes                                                             ...        \n",
       "0          1951332         1951332         1951332       1951332     ...        \n",
       "277         268365          268365          268365        268365     ...        \n",
       "216         266771          266771          266771        266771     ...        \n",
       "60          247876          247876          247876        247876     ...        \n",
       "225         112601          112601          112601        112601     ...        \n",
       "164          99908           99908           99908         99908     ...        \n",
       "399          77662           77662           77662         77662     ...        \n",
       "152          74380           74380           74380         74380     ...        \n",
       "46           71063           71063           71063         71063     ...        \n",
       "64           62962           62962           62962         62962     ...        \n",
       "\n",
       "          DstDevice_ActiveDirectory  SrcDevice_EnterpriseAppServer  \\\n",
       "SrcBytes                                                             \n",
       "0                           1951332                        1951332   \n",
       "277                          268365                         268365   \n",
       "216                          266771                         266771   \n",
       "60                           247876                         247876   \n",
       "225                          112601                         112601   \n",
       "164                           99908                          99908   \n",
       "399                           77662                          77662   \n",
       "152                           74380                          74380   \n",
       "46                            71063                          71063   \n",
       "64                            62962                          62962   \n",
       "\n",
       "          DstDevice_EnterpriseAppServer  SrcDevice_VPN  DstDevice_VPN  \\\n",
       "SrcBytes                                                                \n",
       "0                               1951332        1951332        1951332   \n",
       "277                              268365         268365         268365   \n",
       "216                              266771         266771         266771   \n",
       "60                               247876         247876         247876   \n",
       "225                              112601         112601         112601   \n",
       "164                               99908          99908          99908   \n",
       "399                               77662          77662          77662   \n",
       "152                               74380          74380          74380   \n",
       "46                                71063          71063          71063   \n",
       "64                                62962          62962          62962   \n",
       "\n",
       "          SrcDevice_VScanner  DstDevice_VScanner  Protocol_1  Protocol_6  \\\n",
       "SrcBytes                                                                   \n",
       "0                    1951332             1951332     1951332     1951332   \n",
       "277                   268365              268365      268365      268365   \n",
       "216                   266771              266771      266771      266771   \n",
       "60                    247876              247876      247876      247876   \n",
       "225                   112601              112601      112601      112601   \n",
       "164                    99908               99908       99908       99908   \n",
       "399                    77662               77662       77662       77662   \n",
       "152                    74380               74380       74380       74380   \n",
       "46                     71063               71063       71063       71063   \n",
       "64                     62962               62962       62962       62962   \n",
       "\n",
       "          Protocol_17  \n",
       "SrcBytes               \n",
       "0             1951332  \n",
       "277            268365  \n",
       "216            266771  \n",
       "60             247876  \n",
       "225            112601  \n",
       "164             99908  \n",
       "399             77662  \n",
       "152             74380  \n",
       "46              71063  \n",
       "64              62962  \n",
       "\n",
       "[10 rows x 22 columns]"
      ]
     },
     "execution_count": 147,
     "metadata": {},
     "output_type": "execute_result"
    }
   ],
   "source": [
    "counted = train_df1.groupby(\"SrcBytes\").count().rename(columns={\"Time\":\"SrcBytes_count\"})\n",
    "counted.sort_values(by=['SrcBytes_count'],ascending=False).head(10)"
   ]
  },
  {
   "cell_type": "code",
   "execution_count": 128,
   "metadata": {
    "hidden": true
   },
   "outputs": [
    {
     "data": {
      "text/plain": [
       "array([12122909246, 12459931268, 12832178150, 13209994822, 13545567320,\n",
       "       13882204590, 14176496098, 14513284176, 14848224144, 15015712600])"
      ]
     },
     "execution_count": 128,
     "metadata": {},
     "output_type": "execute_result"
    }
   ],
   "source": [
    "np.sort(train_df['SrcBytes'].values)[-10:]"
   ]
  },
  {
   "cell_type": "code",
   "execution_count": 149,
   "metadata": {
    "hidden": true
   },
   "outputs": [
    {
     "data": {
      "text/html": [
       "<div>\n",
       "<style scoped>\n",
       "    .dataframe tbody tr th:only-of-type {\n",
       "        vertical-align: middle;\n",
       "    }\n",
       "\n",
       "    .dataframe tbody tr th {\n",
       "        vertical-align: top;\n",
       "    }\n",
       "\n",
       "    .dataframe thead th {\n",
       "        text-align: right;\n",
       "    }\n",
       "</style>\n",
       "<table border=\"1\" class=\"dataframe\">\n",
       "  <thead>\n",
       "    <tr style=\"text-align: right;\">\n",
       "      <th></th>\n",
       "      <th>DstBytes_count</th>\n",
       "      <th>Duration</th>\n",
       "      <th>SrcPort</th>\n",
       "      <th>DstPort</th>\n",
       "      <th>SrcPackets</th>\n",
       "      <th>DstPackets</th>\n",
       "      <th>SrcBytes</th>\n",
       "      <th>SrcDevice_Comp</th>\n",
       "      <th>DstDevice_Comp</th>\n",
       "      <th>SrcDevice_IP</th>\n",
       "      <th>...</th>\n",
       "      <th>DstDevice_ActiveDirectory</th>\n",
       "      <th>SrcDevice_EnterpriseAppServer</th>\n",
       "      <th>DstDevice_EnterpriseAppServer</th>\n",
       "      <th>SrcDevice_VPN</th>\n",
       "      <th>DstDevice_VPN</th>\n",
       "      <th>SrcDevice_VScanner</th>\n",
       "      <th>DstDevice_VScanner</th>\n",
       "      <th>Protocol_1</th>\n",
       "      <th>Protocol_6</th>\n",
       "      <th>Protocol_17</th>\n",
       "    </tr>\n",
       "    <tr>\n",
       "      <th>DstBytes</th>\n",
       "      <th></th>\n",
       "      <th></th>\n",
       "      <th></th>\n",
       "      <th></th>\n",
       "      <th></th>\n",
       "      <th></th>\n",
       "      <th></th>\n",
       "      <th></th>\n",
       "      <th></th>\n",
       "      <th></th>\n",
       "      <th></th>\n",
       "      <th></th>\n",
       "      <th></th>\n",
       "      <th></th>\n",
       "      <th></th>\n",
       "      <th></th>\n",
       "      <th></th>\n",
       "      <th></th>\n",
       "      <th></th>\n",
       "      <th></th>\n",
       "      <th></th>\n",
       "    </tr>\n",
       "  </thead>\n",
       "  <tbody>\n",
       "    <tr>\n",
       "      <th>0</th>\n",
       "      <td>2098503</td>\n",
       "      <td>2098503</td>\n",
       "      <td>2098503</td>\n",
       "      <td>2098503</td>\n",
       "      <td>2098503</td>\n",
       "      <td>2098503</td>\n",
       "      <td>2098503</td>\n",
       "      <td>2098503</td>\n",
       "      <td>2098503</td>\n",
       "      <td>2098503</td>\n",
       "      <td>...</td>\n",
       "      <td>2098503</td>\n",
       "      <td>2098503</td>\n",
       "      <td>2098503</td>\n",
       "      <td>2098503</td>\n",
       "      <td>2098503</td>\n",
       "      <td>2098503</td>\n",
       "      <td>2098503</td>\n",
       "      <td>2098503</td>\n",
       "      <td>2098503</td>\n",
       "      <td>2098503</td>\n",
       "    </tr>\n",
       "    <tr>\n",
       "      <th>46</th>\n",
       "      <td>1500887</td>\n",
       "      <td>1500887</td>\n",
       "      <td>1500887</td>\n",
       "      <td>1500887</td>\n",
       "      <td>1500887</td>\n",
       "      <td>1500887</td>\n",
       "      <td>1500887</td>\n",
       "      <td>1500887</td>\n",
       "      <td>1500887</td>\n",
       "      <td>1500887</td>\n",
       "      <td>...</td>\n",
       "      <td>1500887</td>\n",
       "      <td>1500887</td>\n",
       "      <td>1500887</td>\n",
       "      <td>1500887</td>\n",
       "      <td>1500887</td>\n",
       "      <td>1500887</td>\n",
       "      <td>1500887</td>\n",
       "      <td>1500887</td>\n",
       "      <td>1500887</td>\n",
       "      <td>1500887</td>\n",
       "    </tr>\n",
       "    <tr>\n",
       "      <th>164</th>\n",
       "      <td>224058</td>\n",
       "      <td>224058</td>\n",
       "      <td>224058</td>\n",
       "      <td>224058</td>\n",
       "      <td>224058</td>\n",
       "      <td>224058</td>\n",
       "      <td>224058</td>\n",
       "      <td>224058</td>\n",
       "      <td>224058</td>\n",
       "      <td>224058</td>\n",
       "      <td>...</td>\n",
       "      <td>224058</td>\n",
       "      <td>224058</td>\n",
       "      <td>224058</td>\n",
       "      <td>224058</td>\n",
       "      <td>224058</td>\n",
       "      <td>224058</td>\n",
       "      <td>224058</td>\n",
       "      <td>224058</td>\n",
       "      <td>224058</td>\n",
       "      <td>224058</td>\n",
       "    </tr>\n",
       "    <tr>\n",
       "      <th>3911</th>\n",
       "      <td>71773</td>\n",
       "      <td>71773</td>\n",
       "      <td>71773</td>\n",
       "      <td>71773</td>\n",
       "      <td>71773</td>\n",
       "      <td>71773</td>\n",
       "      <td>71773</td>\n",
       "      <td>71773</td>\n",
       "      <td>71773</td>\n",
       "      <td>71773</td>\n",
       "      <td>...</td>\n",
       "      <td>71773</td>\n",
       "      <td>71773</td>\n",
       "      <td>71773</td>\n",
       "      <td>71773</td>\n",
       "      <td>71773</td>\n",
       "      <td>71773</td>\n",
       "      <td>71773</td>\n",
       "      <td>71773</td>\n",
       "      <td>71773</td>\n",
       "      <td>71773</td>\n",
       "    </tr>\n",
       "    <tr>\n",
       "      <th>479</th>\n",
       "      <td>57954</td>\n",
       "      <td>57954</td>\n",
       "      <td>57954</td>\n",
       "      <td>57954</td>\n",
       "      <td>57954</td>\n",
       "      <td>57954</td>\n",
       "      <td>57954</td>\n",
       "      <td>57954</td>\n",
       "      <td>57954</td>\n",
       "      <td>57954</td>\n",
       "      <td>...</td>\n",
       "      <td>57954</td>\n",
       "      <td>57954</td>\n",
       "      <td>57954</td>\n",
       "      <td>57954</td>\n",
       "      <td>57954</td>\n",
       "      <td>57954</td>\n",
       "      <td>57954</td>\n",
       "      <td>57954</td>\n",
       "      <td>57954</td>\n",
       "      <td>57954</td>\n",
       "    </tr>\n",
       "    <tr>\n",
       "      <th>112</th>\n",
       "      <td>55094</td>\n",
       "      <td>55094</td>\n",
       "      <td>55094</td>\n",
       "      <td>55094</td>\n",
       "      <td>55094</td>\n",
       "      <td>55094</td>\n",
       "      <td>55094</td>\n",
       "      <td>55094</td>\n",
       "      <td>55094</td>\n",
       "      <td>55094</td>\n",
       "      <td>...</td>\n",
       "      <td>55094</td>\n",
       "      <td>55094</td>\n",
       "      <td>55094</td>\n",
       "      <td>55094</td>\n",
       "      <td>55094</td>\n",
       "      <td>55094</td>\n",
       "      <td>55094</td>\n",
       "      <td>55094</td>\n",
       "      <td>55094</td>\n",
       "      <td>55094</td>\n",
       "    </tr>\n",
       "    <tr>\n",
       "      <th>106</th>\n",
       "      <td>53733</td>\n",
       "      <td>53733</td>\n",
       "      <td>53733</td>\n",
       "      <td>53733</td>\n",
       "      <td>53733</td>\n",
       "      <td>53733</td>\n",
       "      <td>53733</td>\n",
       "      <td>53733</td>\n",
       "      <td>53733</td>\n",
       "      <td>53733</td>\n",
       "      <td>...</td>\n",
       "      <td>53733</td>\n",
       "      <td>53733</td>\n",
       "      <td>53733</td>\n",
       "      <td>53733</td>\n",
       "      <td>53733</td>\n",
       "      <td>53733</td>\n",
       "      <td>53733</td>\n",
       "      <td>53733</td>\n",
       "      <td>53733</td>\n",
       "      <td>53733</td>\n",
       "    </tr>\n",
       "    <tr>\n",
       "      <th>177</th>\n",
       "      <td>39591</td>\n",
       "      <td>39591</td>\n",
       "      <td>39591</td>\n",
       "      <td>39591</td>\n",
       "      <td>39591</td>\n",
       "      <td>39591</td>\n",
       "      <td>39591</td>\n",
       "      <td>39591</td>\n",
       "      <td>39591</td>\n",
       "      <td>39591</td>\n",
       "      <td>...</td>\n",
       "      <td>39591</td>\n",
       "      <td>39591</td>\n",
       "      <td>39591</td>\n",
       "      <td>39591</td>\n",
       "      <td>39591</td>\n",
       "      <td>39591</td>\n",
       "      <td>39591</td>\n",
       "      <td>39591</td>\n",
       "      <td>39591</td>\n",
       "      <td>39591</td>\n",
       "    </tr>\n",
       "    <tr>\n",
       "      <th>1503</th>\n",
       "      <td>38017</td>\n",
       "      <td>38017</td>\n",
       "      <td>38017</td>\n",
       "      <td>38017</td>\n",
       "      <td>38017</td>\n",
       "      <td>38017</td>\n",
       "      <td>38017</td>\n",
       "      <td>38017</td>\n",
       "      <td>38017</td>\n",
       "      <td>38017</td>\n",
       "      <td>...</td>\n",
       "      <td>38017</td>\n",
       "      <td>38017</td>\n",
       "      <td>38017</td>\n",
       "      <td>38017</td>\n",
       "      <td>38017</td>\n",
       "      <td>38017</td>\n",
       "      <td>38017</td>\n",
       "      <td>38017</td>\n",
       "      <td>38017</td>\n",
       "      <td>38017</td>\n",
       "    </tr>\n",
       "    <tr>\n",
       "      <th>853</th>\n",
       "      <td>32385</td>\n",
       "      <td>32385</td>\n",
       "      <td>32385</td>\n",
       "      <td>32385</td>\n",
       "      <td>32385</td>\n",
       "      <td>32385</td>\n",
       "      <td>32385</td>\n",
       "      <td>32385</td>\n",
       "      <td>32385</td>\n",
       "      <td>32385</td>\n",
       "      <td>...</td>\n",
       "      <td>32385</td>\n",
       "      <td>32385</td>\n",
       "      <td>32385</td>\n",
       "      <td>32385</td>\n",
       "      <td>32385</td>\n",
       "      <td>32385</td>\n",
       "      <td>32385</td>\n",
       "      <td>32385</td>\n",
       "      <td>32385</td>\n",
       "      <td>32385</td>\n",
       "    </tr>\n",
       "  </tbody>\n",
       "</table>\n",
       "<p>10 rows × 22 columns</p>\n",
       "</div>"
      ],
      "text/plain": [
       "          DstBytes_count  Duration  SrcPort  DstPort  SrcPackets  DstPackets  \\\n",
       "DstBytes                                                                       \n",
       "0                2098503   2098503  2098503  2098503     2098503     2098503   \n",
       "46               1500887   1500887  1500887  1500887     1500887     1500887   \n",
       "164               224058    224058   224058   224058      224058      224058   \n",
       "3911               71773     71773    71773    71773       71773       71773   \n",
       "479                57954     57954    57954    57954       57954       57954   \n",
       "112                55094     55094    55094    55094       55094       55094   \n",
       "106                53733     53733    53733    53733       53733       53733   \n",
       "177                39591     39591    39591    39591       39591       39591   \n",
       "1503               38017     38017    38017    38017       38017       38017   \n",
       "853                32385     32385    32385    32385       32385       32385   \n",
       "\n",
       "          SrcBytes  SrcDevice_Comp  DstDevice_Comp  SrcDevice_IP     ...       \\\n",
       "DstBytes                                                             ...        \n",
       "0          2098503         2098503         2098503       2098503     ...        \n",
       "46         1500887         1500887         1500887       1500887     ...        \n",
       "164         224058          224058          224058        224058     ...        \n",
       "3911         71773           71773           71773         71773     ...        \n",
       "479          57954           57954           57954         57954     ...        \n",
       "112          55094           55094           55094         55094     ...        \n",
       "106          53733           53733           53733         53733     ...        \n",
       "177          39591           39591           39591         39591     ...        \n",
       "1503         38017           38017           38017         38017     ...        \n",
       "853          32385           32385           32385         32385     ...        \n",
       "\n",
       "          DstDevice_ActiveDirectory  SrcDevice_EnterpriseAppServer  \\\n",
       "DstBytes                                                             \n",
       "0                           2098503                        2098503   \n",
       "46                          1500887                        1500887   \n",
       "164                          224058                         224058   \n",
       "3911                          71773                          71773   \n",
       "479                           57954                          57954   \n",
       "112                           55094                          55094   \n",
       "106                           53733                          53733   \n",
       "177                           39591                          39591   \n",
       "1503                          38017                          38017   \n",
       "853                           32385                          32385   \n",
       "\n",
       "          DstDevice_EnterpriseAppServer  SrcDevice_VPN  DstDevice_VPN  \\\n",
       "DstBytes                                                                \n",
       "0                               2098503        2098503        2098503   \n",
       "46                              1500887        1500887        1500887   \n",
       "164                              224058         224058         224058   \n",
       "3911                              71773          71773          71773   \n",
       "479                               57954          57954          57954   \n",
       "112                               55094          55094          55094   \n",
       "106                               53733          53733          53733   \n",
       "177                               39591          39591          39591   \n",
       "1503                              38017          38017          38017   \n",
       "853                               32385          32385          32385   \n",
       "\n",
       "          SrcDevice_VScanner  DstDevice_VScanner  Protocol_1  Protocol_6  \\\n",
       "DstBytes                                                                   \n",
       "0                    2098503             2098503     2098503     2098503   \n",
       "46                   1500887             1500887     1500887     1500887   \n",
       "164                   224058              224058      224058      224058   \n",
       "3911                   71773               71773       71773       71773   \n",
       "479                    57954               57954       57954       57954   \n",
       "112                    55094               55094       55094       55094   \n",
       "106                    53733               53733       53733       53733   \n",
       "177                    39591               39591       39591       39591   \n",
       "1503                   38017               38017       38017       38017   \n",
       "853                    32385               32385       32385       32385   \n",
       "\n",
       "          Protocol_17  \n",
       "DstBytes               \n",
       "0             2098503  \n",
       "46            1500887  \n",
       "164            224058  \n",
       "3911            71773  \n",
       "479             57954  \n",
       "112             55094  \n",
       "106             53733  \n",
       "177             39591  \n",
       "1503            38017  \n",
       "853             32385  \n",
       "\n",
       "[10 rows x 22 columns]"
      ]
     },
     "execution_count": 149,
     "metadata": {},
     "output_type": "execute_result"
    }
   ],
   "source": [
    "counted = train_df1.groupby(\"DstBytes\").count().rename(columns={\"Time\":\"DstBytes_count\"})\n",
    "counted.sort_values(by=['DstBytes_count'],ascending=False).head(10)"
   ]
  },
  {
   "cell_type": "code",
   "execution_count": 129,
   "metadata": {
    "hidden": true
   },
   "outputs": [
    {
     "data": {
      "text/plain": [
       "array([11146902232, 11457059168, 11805619364, 12153021664, 12461839686,\n",
       "       12732086028, 13040875936, 13348384456, 13657486438, 13773586368])"
      ]
     },
     "execution_count": 129,
     "metadata": {},
     "output_type": "execute_result"
    }
   ],
   "source": [
    "np.sort(train_df['DstBytes'].values)[-10:]"
   ]
  },
  {
   "cell_type": "markdown",
   "metadata": {
    "heading_collapsed": true,
    "hidden": true
   },
   "source": [
    "#### Question: As someone new to the field, I'm uncertain why the number of bytes for events jumps from 0 to 42."
   ]
  },
  {
   "cell_type": "code",
   "execution_count": 125,
   "metadata": {
    "hidden": true
   },
   "outputs": [
    {
     "data": {
      "text/plain": [
       "array([ 0, 42, 44, 46, 48, 49, 52, 55, 56, 58])"
      ]
     },
     "execution_count": 125,
     "metadata": {},
     "output_type": "execute_result"
    }
   ],
   "source": [
    "unique_df = np.unique(train_df['DstBytes'].values)\n",
    "np.sort(unique_df)[:10]"
   ]
  },
  {
   "cell_type": "code",
   "execution_count": 126,
   "metadata": {
    "hidden": true
   },
   "outputs": [
    {
     "data": {
      "text/plain": [
       "array([ 0, 42, 44, 46, 47, 48, 49, 50, 51, 52])"
      ]
     },
     "execution_count": 126,
     "metadata": {},
     "output_type": "execute_result"
    }
   ],
   "source": [
    "unique_df = np.unique(train_df['SrcBytes'].values)\n",
    "np.sort(unique_df)[:10]"
   ]
  },
  {
   "cell_type": "markdown",
   "metadata": {
    "heading_collapsed": true,
    "hidden": true
   },
   "source": [
    "#### Distributions of `Packets` and `Bytes` seem to follow a power law which appears to be normal."
   ]
  },
  {
   "cell_type": "code",
   "execution_count": 110,
   "metadata": {
    "hidden": true
   },
   "outputs": [
    {
     "data": {
      "image/png": "[encoded data removed]",
      "text/plain": [
       "<Figure size 720x288 with 1 Axes>"
      ]
     },
     "metadata": {
      "needs_background": "light"
     },
     "output_type": "display_data"
    }
   ],
   "source": [
    "num_bins = 20\n",
    "plt.figure(figsize=(10,4))\n",
    "plt.xscale('log')\n",
    "plt.yscale('log')\n",
    "plt.hist(np.log(train_df['SrcPackets'].values+0.5), num_bins, facecolor='blue', alpha=0.5,log=True, label = 'SrcPackets')\n",
    "plt.hist(np.log(train_df['DstPackets'].values+0.5), num_bins, facecolor='red', alpha=0.5,log=True, label = 'DstPackets')\n",
    "plt.hist(np.log(train_df['SrcBytes'].values+0.5), num_bins, facecolor='green', alpha=0.5,log=True, label = 'SrcBytes', zorder=-1)\n",
    "plt.hist(np.log(train_df['DstBytes'].values+0.5), num_bins, facecolor='black', alpha=0.5,log=True, label = 'SrcBytes', zorder=-1)\n",
    "plt.xlabel(\"Size\") \n",
    "plt.ylabel(\"Count\")\n",
    "plt.legend( loc='upper right')\n",
    "plt.xlim(1e0,1e2)\n",
    "plt.show()"
   ]
  },
  {
   "cell_type": "markdown",
   "metadata": {
    "heading_collapsed": true,
    "hidden": true
   },
   "source": [
    "#### Looking at a 2d heatmap of `Packets` vs `Bytes` shows a clean linear correlation, with all flows exhibiting an average packet size (i.e. bytes/packets) between 32 and 1024 bytes."
   ]
  },
  {
   "cell_type": "code",
   "execution_count": 16,
   "metadata": {
    "hidden": true
   },
   "outputs": [
    {
     "data": {
      "text/plain": [
       "<seaborn.axisgrid.JointGrid at 0x7f4f5d15d278>"
      ]
     },
     "execution_count": 16,
     "metadata": {},
     "output_type": "execute_result"
    },
    {
     "data": {
      "image/png": "[encoded data removed]",
      "text/plain": [
       "<Figure size 432x432 with 3 Axes>"
      ]
     },
     "metadata": {
      "needs_background": "light"
     },
     "output_type": "display_data"
    }
   ],
   "source": [
    "tdf = train_df.copy()\n",
    "tdf['SrcPackets'] = np.log(tdf['SrcPackets'].values+0.5)/np.log(2)\n",
    "tdf['SrcBytes'] = np.log(tdf['SrcBytes'].values+0.5)/np.log(2)\n",
    "sns.jointplot(x=\"SrcPackets\", y=\"SrcBytes\", data=tdf, kind=\"hex\",Norm=LogNorm())"
   ]
  },
  {
   "cell_type": "code",
   "execution_count": 15,
   "metadata": {
    "hidden": true
   },
   "outputs": [
    {
     "data": {
      "text/plain": [
       "<seaborn.axisgrid.JointGrid at 0x7f4f5f4c51d0>"
      ]
     },
     "execution_count": 15,
     "metadata": {},
     "output_type": "execute_result"
    },
    {
     "data": {
      "image/png": "[encoded data removed]",
      "text/plain": [
       "<Figure size 432x432 with 3 Axes>"
      ]
     },
     "metadata": {
      "needs_background": "light"
     },
     "output_type": "display_data"
    }
   ],
   "source": [
    "tdf['DstPackets'] = np.log(tdf['DstPackets'].values+0.5)/np.log(2)\n",
    "tdf['DstBytes'] = np.log(tdf['DstBytes'].values+0.5)/np.log(2)\n",
    "sns.jointplot(x=\"DstPackets\", y=\"DstBytes\", data=tdf, kind=\"hex\",Norm = LogNorm())"
   ]
  },
  {
   "cell_type": "markdown",
   "metadata": {
    "heading_collapsed": true
   },
   "source": [
    "### `Time` and `Duration`"
   ]
  },
  {
   "cell_type": "markdown",
   "metadata": {
    "heading_collapsed": true,
    "hidden": true
   },
   "source": [
    "#### 80% of the events last less than 1 second. The longest event took 978035 seconds or roughly 271 hours. "
   ]
  },
  {
   "cell_type": "code",
   "execution_count": 84,
   "metadata": {
    "hidden": true
   },
   "outputs": [
    {
     "data": {
      "text/html": [
       "<div>\n",
       "<style scoped>\n",
       "    .dataframe tbody tr th:only-of-type {\n",
       "        vertical-align: middle;\n",
       "    }\n",
       "\n",
       "    .dataframe tbody tr th {\n",
       "        vertical-align: top;\n",
       "    }\n",
       "\n",
       "    .dataframe thead th {\n",
       "        text-align: right;\n",
       "    }\n",
       "</style>\n",
       "<table border=\"1\" class=\"dataframe\">\n",
       "  <thead>\n",
       "    <tr style=\"text-align: right;\">\n",
       "      <th></th>\n",
       "      <th>Duration_count</th>\n",
       "      <th>SrcDevice</th>\n",
       "      <th>DstDevice</th>\n",
       "      <th>Protocol</th>\n",
       "      <th>SrcPort</th>\n",
       "      <th>DstPort</th>\n",
       "      <th>SrcPackets</th>\n",
       "      <th>DstPackets</th>\n",
       "      <th>SrcBytes</th>\n",
       "      <th>DstBytes</th>\n",
       "    </tr>\n",
       "    <tr>\n",
       "      <th>Duration</th>\n",
       "      <th></th>\n",
       "      <th></th>\n",
       "      <th></th>\n",
       "      <th></th>\n",
       "      <th></th>\n",
       "      <th></th>\n",
       "      <th></th>\n",
       "      <th></th>\n",
       "      <th></th>\n",
       "      <th></th>\n",
       "    </tr>\n",
       "  </thead>\n",
       "  <tbody>\n",
       "    <tr>\n",
       "      <th>0</th>\n",
       "      <td>2754172</td>\n",
       "      <td>2754172</td>\n",
       "      <td>2754172</td>\n",
       "      <td>2754172</td>\n",
       "      <td>2754172</td>\n",
       "      <td>2754172</td>\n",
       "      <td>2754172</td>\n",
       "      <td>2754172</td>\n",
       "      <td>2754172</td>\n",
       "      <td>2754172</td>\n",
       "    </tr>\n",
       "    <tr>\n",
       "      <th>1</th>\n",
       "      <td>2133800</td>\n",
       "      <td>2133800</td>\n",
       "      <td>2133800</td>\n",
       "      <td>2133800</td>\n",
       "      <td>2133800</td>\n",
       "      <td>2133800</td>\n",
       "      <td>2133800</td>\n",
       "      <td>2133800</td>\n",
       "      <td>2133800</td>\n",
       "      <td>2133800</td>\n",
       "    </tr>\n",
       "    <tr>\n",
       "      <th>2</th>\n",
       "      <td>80962</td>\n",
       "      <td>80962</td>\n",
       "      <td>80962</td>\n",
       "      <td>80962</td>\n",
       "      <td>80962</td>\n",
       "      <td>80962</td>\n",
       "      <td>80962</td>\n",
       "      <td>80962</td>\n",
       "      <td>80962</td>\n",
       "      <td>80962</td>\n",
       "    </tr>\n",
       "    <tr>\n",
       "      <th>9</th>\n",
       "      <td>68782</td>\n",
       "      <td>68782</td>\n",
       "      <td>68782</td>\n",
       "      <td>68782</td>\n",
       "      <td>68782</td>\n",
       "      <td>68782</td>\n",
       "      <td>68782</td>\n",
       "      <td>68782</td>\n",
       "      <td>68782</td>\n",
       "      <td>68782</td>\n",
       "    </tr>\n",
       "    <tr>\n",
       "      <th>5</th>\n",
       "      <td>59152</td>\n",
       "      <td>59152</td>\n",
       "      <td>59152</td>\n",
       "      <td>59152</td>\n",
       "      <td>59152</td>\n",
       "      <td>59152</td>\n",
       "      <td>59152</td>\n",
       "      <td>59152</td>\n",
       "      <td>59152</td>\n",
       "      <td>59152</td>\n",
       "    </tr>\n",
       "    <tr>\n",
       "      <th>3</th>\n",
       "      <td>36107</td>\n",
       "      <td>36107</td>\n",
       "      <td>36107</td>\n",
       "      <td>36107</td>\n",
       "      <td>36107</td>\n",
       "      <td>36107</td>\n",
       "      <td>36107</td>\n",
       "      <td>36107</td>\n",
       "      <td>36107</td>\n",
       "      <td>36107</td>\n",
       "    </tr>\n",
       "    <tr>\n",
       "      <th>12</th>\n",
       "      <td>34511</td>\n",
       "      <td>34511</td>\n",
       "      <td>34511</td>\n",
       "      <td>34511</td>\n",
       "      <td>34511</td>\n",
       "      <td>34511</td>\n",
       "      <td>34511</td>\n",
       "      <td>34511</td>\n",
       "      <td>34511</td>\n",
       "      <td>34511</td>\n",
       "    </tr>\n",
       "    <tr>\n",
       "      <th>6</th>\n",
       "      <td>28342</td>\n",
       "      <td>28342</td>\n",
       "      <td>28342</td>\n",
       "      <td>28342</td>\n",
       "      <td>28342</td>\n",
       "      <td>28342</td>\n",
       "      <td>28342</td>\n",
       "      <td>28342</td>\n",
       "      <td>28342</td>\n",
       "      <td>28342</td>\n",
       "    </tr>\n",
       "    <tr>\n",
       "      <th>4</th>\n",
       "      <td>28297</td>\n",
       "      <td>28297</td>\n",
       "      <td>28297</td>\n",
       "      <td>28297</td>\n",
       "      <td>28297</td>\n",
       "      <td>28297</td>\n",
       "      <td>28297</td>\n",
       "      <td>28297</td>\n",
       "      <td>28297</td>\n",
       "      <td>28297</td>\n",
       "    </tr>\n",
       "    <tr>\n",
       "      <th>15</th>\n",
       "      <td>25519</td>\n",
       "      <td>25519</td>\n",
       "      <td>25519</td>\n",
       "      <td>25519</td>\n",
       "      <td>25519</td>\n",
       "      <td>25519</td>\n",
       "      <td>25519</td>\n",
       "      <td>25519</td>\n",
       "      <td>25519</td>\n",
       "      <td>25519</td>\n",
       "    </tr>\n",
       "  </tbody>\n",
       "</table>\n",
       "</div>"
      ],
      "text/plain": [
       "          Duration_count  SrcDevice  DstDevice  Protocol  SrcPort  DstPort  \\\n",
       "Duration                                                                     \n",
       "0                2754172    2754172    2754172   2754172  2754172  2754172   \n",
       "1                2133800    2133800    2133800   2133800  2133800  2133800   \n",
       "2                  80962      80962      80962     80962    80962    80962   \n",
       "9                  68782      68782      68782     68782    68782    68782   \n",
       "5                  59152      59152      59152     59152    59152    59152   \n",
       "3                  36107      36107      36107     36107    36107    36107   \n",
       "12                 34511      34511      34511     34511    34511    34511   \n",
       "6                  28342      28342      28342     28342    28342    28342   \n",
       "4                  28297      28297      28297     28297    28297    28297   \n",
       "15                 25519      25519      25519     25519    25519    25519   \n",
       "\n",
       "          SrcPackets  DstPackets  SrcBytes  DstBytes  \n",
       "Duration                                              \n",
       "0            2754172     2754172   2754172   2754172  \n",
       "1            2133800     2133800   2133800   2133800  \n",
       "2              80962       80962     80962     80962  \n",
       "9              68782       68782     68782     68782  \n",
       "5              59152       59152     59152     59152  \n",
       "3              36107       36107     36107     36107  \n",
       "12             34511       34511     34511     34511  \n",
       "6              28342       28342     28342     28342  \n",
       "4              28297       28297     28297     28297  \n",
       "15             25519       25519     25519     25519  "
      ]
     },
     "execution_count": 84,
     "metadata": {},
     "output_type": "execute_result"
    }
   ],
   "source": [
    "counted = train_df.groupby(\"Duration\").count().rename(columns={\"Time\":\"Duration_count\"})\n",
    "counted.sort_values(by=['Duration_count'],ascending=False).head(10)"
   ]
  },
  {
   "cell_type": "code",
   "execution_count": 159,
   "metadata": {
    "hidden": true
   },
   "outputs": [
    {
     "data": {
      "text/plain": [
       "0.8010328269655939"
      ]
     },
     "execution_count": 159,
     "metadata": {},
     "output_type": "execute_result"
    }
   ],
   "source": [
    "sum(counted.sort_values(by=['Duration_count'],ascending=False)['Duration_count'].values[:2])/sum(counted.sort_values(by=['Duration_count'],ascending=False)['Duration_count'].values)\n"
   ]
  },
  {
   "cell_type": "code",
   "execution_count": 165,
   "metadata": {
    "hidden": true
   },
   "outputs": [
    {
     "data": {
      "text/plain": [
       "array([271.67638889])"
      ]
     },
     "execution_count": 165,
     "metadata": {},
     "output_type": "execute_result"
    }
   ],
   "source": [
    "np.sort(train_df1['Duration'].values)[-1:]/60/60"
   ]
  },
  {
   "cell_type": "code",
   "execution_count": 94,
   "metadata": {
    "hidden": true
   },
   "outputs": [
    {
     "data": {
      "image/png": "[encoded data removed]",
      "text/plain": [
       "<Figure size 432x288 with 1 Axes>"
      ]
     },
     "metadata": {
      "needs_background": "light"
     },
     "output_type": "display_data"
    }
   ],
   "source": [
    "num_bins = 1000\n",
    "plt.hist(train_df['Duration'], num_bins, facecolor='blue', alpha=0.5,log=True)\n",
    "plt.show()"
   ]
  },
  {
   "cell_type": "code",
   "execution_count": 166,
   "metadata": {
    "hidden": true
   },
   "outputs": [
    {
     "data": {
      "image/png": "[encoded data removed]",
      "text/plain": [
       "<Figure size 432x288 with 1 Axes>"
      ]
     },
     "metadata": {
      "needs_background": "light"
     },
     "output_type": "display_data"
    }
   ],
   "source": [
    "num_bins = 1000\n",
    "plt.hist(train_df1['Time'], num_bins, density=True, facecolor='blue', alpha=0.5)\n",
    "plt.show()"
   ]
  },
  {
   "cell_type": "code",
   "execution_count": 78,
   "metadata": {
    "hidden": true
   },
   "outputs": [
    {
     "data": {
      "text/plain": [
       "Index(['Time', 'Duration', 'SrcDevice', 'DstDevice', 'Protocol', 'SrcPort',\n",
       "       'DstPort', 'SrcPackets', 'DstPackets', 'SrcBytes', 'DstBytes'],\n",
       "      dtype='object')"
      ]
     },
     "execution_count": 78,
     "metadata": {},
     "output_type": "execute_result"
    }
   ],
   "source": [
    "train_df.keys()"
   ]
  },
  {
   "cell_type": "code",
   "execution_count": null,
   "metadata": {
    "collapsed": true,
    "hidden": true
   },
   "outputs": [],
   "source": [
    "plt.figure(figsize=(10,4))\n",
    "plt.yscale('log')\n",
    "plt.stem(duration_hist.keys(), duration_hist.values(), markerfmt='b.')"
   ]
  },
  {
   "cell_type": "markdown",
   "metadata": {},
   "source": [
    "### Normalize data"
   ]
  },
  {
   "cell_type": "markdown",
   "metadata": {
    "heading_collapsed": true
   },
   "source": [
    "#### In order for our autoencoder to train better, it will be useful to normalize the data. I initially skipped this step and was getting astronomically high losses!"
   ]
  },
  {
   "cell_type": "code",
   "execution_count": 7,
   "metadata": {
    "collapsed": true,
    "hidden": true
   },
   "outputs": [],
   "source": [
    "from sklearn.preprocessing import StandardScaler, MinMaxScaler, RobustScaler"
   ]
  },
  {
   "cell_type": "code",
   "execution_count": 35,
   "metadata": {
    "hidden": true
   },
   "outputs": [
    {
     "name": "stderr",
     "output_type": "stream",
     "text": [
      "/home/paperspace/anaconda3/envs/fastaiv1/lib/python3.7/site-packages/sklearn/preprocessing/data.py:625: DataConversionWarning: Data with input dtype int8, int16, int32, int64 were all converted to float64 by StandardScaler.\n",
      "  return self.partial_fit(X, y)\n",
      "/home/paperspace/anaconda3/envs/fastaiv1/lib/python3.7/site-packages/sklearn/base.py:462: DataConversionWarning: Data with input dtype int8, int16, int32, int64 were all converted to float64 by StandardScaler.\n",
      "  return self.fit(X, **fit_params).transform(X)\n",
      "/home/paperspace/anaconda3/envs/fastaiv1/lib/python3.7/site-packages/sklearn/preprocessing/data.py:323: DataConversionWarning: Data with input dtype int8, int16, int32, int64, float64 were all converted to float64 by MinMaxScaler.\n",
      "  return self.partial_fit(X, y)\n",
      "/home/paperspace/anaconda3/envs/fastaiv1/lib/python3.7/site-packages/scipy/stats/stats.py:1713: FutureWarning: Using a non-tuple sequence for multidimensional indexing is deprecated; use `arr[tuple(seq)]` instead of `arr[seq]`. In the future this will be interpreted as an array index, `arr[np.array(seq)]`, which will result either in an error or a different result.\n",
      "  return np.add.reduce(sorted[indexer] * weights, axis=axis) / sumval\n"
     ]
    },
    {
     "data": {
      "image/png": "[encoded data removed]",
      "text/plain": [
       "<Figure size 1152x360 with 4 Axes>"
      ]
     },
     "metadata": {
      "needs_background": "light"
     },
     "output_type": "display_data"
    }
   ],
   "source": [
    "colnames_tsa = ['Time', 'Duration', 'SrcDevice', 'DstDevice', 'Protocol', 'SrcPort', 'DstPort', 'SrcPackets', \n",
    "        'DstPackets', 'SrcBytes', 'DstBytes', 'SrcPackets_mean1s','SrcPackets_std1s','SrcPackets_mean10s',\n",
    "        'SrcPackets_std10s','SrcPackets_mean60s','SrcPackets_std60s', 'DstPackets_mean1s','DstPackets_std1s','DstPackets_mean10s',\n",
    "        'DstPackets_std10s','DstPackets_mean60s','DstPackets_std60s', 'SrcBytes_mean1s','SrcBytes_std1s','SrcBytes_mean10s',\n",
    "        'SrcBytes_std10s','SrcBytes_mean60s','SrcBytes_std60s', 'DstBytes_mean1s','DstBytes_std1s','DstBytes_mean10s',\n",
    "        'DstBytes_std10s','DstBytes_mean60s','DstBytes_std60s',]\n",
    "\n",
    "scaler = StandardScaler()\n",
    "scaled_df = scaler.fit_transform(train_df)\n",
    "scaled_df = pd.DataFrame(scaled_df, columns=colnames)\n",
    "scaler1 = MinMaxScaler()\n",
    "scaled_df1 = scaler1.fit_transform(train_df2)\n",
    "scaled_df1 = pd.DataFrame(scaled_df1, columns=colnames_tsa)\n",
    "scaler2 = RobustScaler()\n",
    "scaled_df2 = scaler2.fit_transform(train_df)\n",
    "scaled_df2 = pd.DataFrame(scaled_df2, columns=colnames)\n",
    "\n",
    "fig, (ax1, ax2, ax3, ax4) = plt.subplots(ncols=4, figsize=(16, 5))\n",
    "\n",
    "ax1.set_title('Before Scaling')\n",
    "sns.kdeplot(train_df['SrcDevice'], ax=ax1)\n",
    "sns.kdeplot(train_df['DstDevice'], ax=ax1)\n",
    "sns.kdeplot(train_df['SrcPort'], ax=ax1)\n",
    "sns.kdeplot(train_df['DstPort'], ax=ax1)\n",
    "ax2.set_title('After Standard Scaler')\n",
    "sns.kdeplot(scaled_df['SrcDevice'], ax=ax2)\n",
    "sns.kdeplot(scaled_df['DstDevice'], ax=ax2)\n",
    "sns.kdeplot(scaled_df['SrcPort'], ax=ax2)\n",
    "sns.kdeplot(scaled_df['DstPort'], ax=ax2)\n",
    "ax3.set_title('After Min-Max Scaler')\n",
    "sns.kdeplot(scaled_df1['SrcDevice'], ax=ax3)\n",
    "sns.kdeplot(scaled_df1['DstDevice'], ax=ax3)\n",
    "sns.kdeplot(scaled_df1['SrcPort'], ax=ax3)\n",
    "sns.kdeplot(scaled_df1['DstPort'], ax=ax3)\n",
    "ax4.set_title('After Robust Scaler')\n",
    "sns.kdeplot(scaled_df2['SrcDevice'], ax=ax4)\n",
    "sns.kdeplot(scaled_df2['DstDevice'], ax=ax4)\n",
    "sns.kdeplot(scaled_df2['SrcPort'], ax=ax4)\n",
    "sns.kdeplot(scaled_df2['DstPort'], ax=ax4)\n",
    "plt.show()"
   ]
  },
  {
   "cell_type": "markdown",
   "metadata": {},
   "source": [
    "### Making the data richer with feature extraction"
   ]
  },
  {
   "cell_type": "markdown",
   "metadata": {
    "heading_collapsed": true
   },
   "source": [
    "#### One-hot-encoding"
   ]
  },
  {
   "cell_type": "markdown",
   "metadata": {
    "hidden": true
   },
   "source": [
    "Returning to the `SrcDevice` and `DstDevice` features, the 4 non-Comp/IP devices with no numbers associated with them are perfect for one-hot-encoding. The `Protocol`, with only 3 different values, is also a great candidate for one-hot-encoding."
   ]
  },
  {
   "cell_type": "code",
   "execution_count": 4,
   "metadata": {
    "hidden": true
   },
   "outputs": [
    {
     "ename": "NameError",
     "evalue": "name 'noComp_orIP' is not defined",
     "output_type": "error",
     "traceback": [
      "\u001b[0;31m---------------------------------------------------------------------------\u001b[0m",
      "\u001b[0;31mNameError\u001b[0m                                 Traceback (most recent call last)",
      "\u001b[0;32m<ipython-input-4-94f8f7f15b86>\u001b[0m in \u001b[0;36m<module>\u001b[0;34m()\u001b[0m\n\u001b[1;32m      1\u001b[0m \u001b[0mtrain_df1\u001b[0m \u001b[0;34m=\u001b[0m \u001b[0mtrain_df\u001b[0m\u001b[0;34m.\u001b[0m\u001b[0mcopy\u001b[0m\u001b[0;34m(\u001b[0m\u001b[0;34m)\u001b[0m\u001b[0;34m\u001b[0m\u001b[0;34m\u001b[0m\u001b[0m\n\u001b[0;32m----> 2\u001b[0;31m \u001b[0mcols\u001b[0m \u001b[0;34m=\u001b[0m \u001b[0mnp\u001b[0m\u001b[0;34m.\u001b[0m\u001b[0mappend\u001b[0m\u001b[0;34m(\u001b[0m\u001b[0;34m[\u001b[0m\u001b[0;34m'Comp'\u001b[0m\u001b[0;34m,\u001b[0m\u001b[0;34m'IP'\u001b[0m\u001b[0;34m]\u001b[0m\u001b[0;34m,\u001b[0m\u001b[0mnoComp_orIP\u001b[0m\u001b[0;34m)\u001b[0m\u001b[0;34m\u001b[0m\u001b[0;34m\u001b[0m\u001b[0m\n\u001b[0m\u001b[1;32m      3\u001b[0m \u001b[0;32mfor\u001b[0m \u001b[0mi\u001b[0m \u001b[0;32min\u001b[0m \u001b[0mcols\u001b[0m\u001b[0;34m:\u001b[0m\u001b[0;34m\u001b[0m\u001b[0;34m\u001b[0m\u001b[0m\n\u001b[1;32m      4\u001b[0m     \u001b[0mtrain_df1\u001b[0m\u001b[0;34m[\u001b[0m\u001b[0;34mf'SrcDevice_{i}'\u001b[0m\u001b[0;34m]\u001b[0m \u001b[0;34m=\u001b[0m \u001b[0;36m0\u001b[0m\u001b[0;34m\u001b[0m\u001b[0;34m\u001b[0m\u001b[0m\n\u001b[1;32m      5\u001b[0m     \u001b[0mtrain_df1\u001b[0m\u001b[0;34m[\u001b[0m\u001b[0;34mf'DstDevice_{i}'\u001b[0m\u001b[0;34m]\u001b[0m \u001b[0;34m=\u001b[0m \u001b[0;36m0\u001b[0m\u001b[0;34m\u001b[0m\u001b[0;34m\u001b[0m\u001b[0m\n",
      "\u001b[0;31mNameError\u001b[0m: name 'noComp_orIP' is not defined"
     ]
    }
   ],
   "source": [
    "train_df1 = train_df.copy()\n",
    "cols = np.append(['Comp','IP'],noComp_orIP)\n",
    "for i in cols:\n",
    "    train_df1[f'SrcDevice_{i}'] = 0\n",
    "    train_df1[f'DstDevice_{i}'] = 0\n",
    "    ind_src = (train_df['SrcDevice'].str.contains(f'{i}')==True)\n",
    "    ind_dst = (train_df['DstDevice'].str.contains(f'{i}')==True)\n",
    "    train_df1[f'SrcDevice_{i}'].loc[ind_src] = 1\n",
    "    train_df1[f'DstDevice_{i}'].loc[ind_dst] = 1\n",
    "    if i == 'Comp' or i == 'IP': #Replace 1 with actual Comp or IP value\n",
    "        train_df1[f'SrcDevice_{i}'].loc[ind_src] = train_df1['SrcDevice'].loc[ind_src].map(lambda x: int(x.lstrip(f'{i}')))\n",
    "        train_df1[f'DstDevice_{i}'].loc[ind_dst] = train_df1['DstDevice'].loc[ind_dst].map(lambda x: int(x.lstrip(f'{i}')))\n",
    "for i in np.unique(train_df1['Protocol'].values):\n",
    "    train_df1[f'Protocol_{i}'] = 0\n",
    "    train_df1[f'Protocol_{i}'].loc[(train_df['Protocol'] == i)] = 1\n",
    "train_df1.drop(columns = ['SrcDevice','DstDevice','Protocol'],inplace = True)\n",
    "train_df1['SrcPort'] = train_df1['SrcPort'].map(lambda x: int(x.lstrip(f'Port')))\n",
    "train_df1['DstPort'] = train_df1['DstPort'].map(lambda x: int(x.lstrip(f'Port')))"
   ]
  },
  {
   "cell_type": "markdown",
   "metadata": {
    "heading_collapsed": true
   },
   "source": [
    "#### Time-series Analysis (TSA)"
   ]
  },
  {
   "cell_type": "markdown",
   "metadata": {
    "hidden": true
   },
   "source": [
    "So far we have not really encoded any idea of 'normal' or 'abnormal' into our model.  \n",
    "From Kitsune: An Ensemble of Autoencoders for Online Network Intrusion Detection (Mirsky 2018) \n",
    ">Feature extraction is the process of obtaining or engineering a vector of values which describe a real world observation. In network anomaly detection, it is important to extract features which capture the context and purpose of each packet traversing the network. For example, consider a single TCP SYN packet. The packet may be a benign attempt to establish a connection with a server, or it may be one of millions of similar packets sent in an attempt to cause a denial of service attack (DoS).  <br /><br />\n",
    "This is just one example of attacks where temporal-statistical features could help detect anomalies. The challenge with extracting these kinds of features from network traffic is that (1) packets from different channels (conversations) are interleaved, (2) there can be many channels at any given moment, (3) the packet arrival rate can be very high.\n",
    "\n",
    "We can begin to do this by adding rolling statistics of events and apply them to each feature. This way we will be able to check how each event and its features compare to a typical event in a window of x seconds."
   ]
  },
  {
   "cell_type": "markdown",
   "metadata": {
    "hidden": true
   },
   "source": [
    "Let's first look at the mean and standard deviation of the `Packets` and `Bytes` features for time windows of 1, 10 and 60 seconds into the past. This will add 24 features to our dataset."
   ]
  },
  {
   "cell_type": "code",
   "execution_count": 13,
   "metadata": {
    "collapsed": true,
    "hidden": true
   },
   "outputs": [],
   "source": [
    "def FeatureExtractor(df,features,time_windows):\n",
    "    for i in features:\n",
    "        for j in time_windows:\n",
    "            print(i,j)\n",
    "            dff = df.copy()\n",
    "            dff['datetime'] = pd.to_datetime(dff['Time'],unit = 's')\n",
    "            dff.index = dff['datetime']\n",
    "            tmp_mean = dff[f'{i}'].rolling(f'{j}s', min_periods=1).mean()\n",
    "            tmp_std =  dff[f'{i}'].rolling(f'{j}s', min_periods=1).std().fillna(0)\n",
    "            tmp_mean.index = df.index\n",
    "            tmp_std.index = df.index\n",
    "            df[f'{i}_mean{j}s'] = tmp_mean\n",
    "            df[f'{i}_std{j}s'] = tmp_std"
   ]
  },
  {
   "cell_type": "markdown",
   "metadata": {
    "hidden": true
   },
   "source": [
    "**Future Work**:One way to improve the Feature Extractor is to intialize the statistics with a typical stream of data instead of just zero."
   ]
  },
  {
   "cell_type": "code",
   "execution_count": 25,
   "metadata": {
    "hidden": true
   },
   "outputs": [
    {
     "name": "stdout",
     "output_type": "stream",
     "text": [
      "SrcPackets 1\n",
      "SrcPackets 10\n",
      "SrcPackets 60\n",
      "DstPackets 1\n",
      "DstPackets 10\n",
      "DstPackets 60\n",
      "SrcBytes 1\n",
      "SrcBytes 10\n",
      "SrcBytes 60\n",
      "DstBytes 1\n",
      "DstBytes 10\n",
      "DstBytes 60\n"
     ]
    }
   ],
   "source": [
    "train_df2 = train_df.copy()\n",
    "features = ['SrcPackets','DstPackets','SrcBytes','DstBytes']\n",
    "time_windows = [1,10,60]\n",
    "FeatureExtractor(train_df2,features,time_windows)"
   ]
  },
  {
   "cell_type": "markdown",
   "metadata": {
    "heading_collapsed": true
   },
   "source": [
    "#### Entity Embedding for categorical variables."
   ]
  },
  {
   "cell_type": "markdown",
   "metadata": {
    "hidden": true
   },
   "source": [
    "**Future work** Since our categorical variables have such high cardinality, it might be useful to create an **embedding vector** for each of the ID numbers that is of a significantly lower dimension than the original cardinality. By combining all the vectors together we will have an **embedding matrix**."
   ]
  },
  {
   "cell_type": "markdown",
   "metadata": {
    "heading_collapsed": true
   },
   "source": [
    "#### Feature Mapper"
   ]
  },
  {
   "cell_type": "markdown",
   "metadata": {
    "hidden": true
   },
   "source": [
    "**Future work** Let's use agglomerative hierarchical clustering to see if any of our features are redundant."
   ]
  },
  {
   "cell_type": "markdown",
   "metadata": {},
   "source": [
    "## Testing various Autoencoder Architectures "
   ]
  },
  {
   "cell_type": "markdown",
   "metadata": {
    "heading_collapsed": true
   },
   "source": [
    "### Imports and Utility Functions "
   ]
  },
  {
   "cell_type": "code",
   "execution_count": 11,
   "metadata": {
    "collapsed": true,
    "hidden": true
   },
   "outputs": [],
   "source": [
    "import torch\n",
    "from torch import nn\n",
    "from torch import optim\n",
    "import torch.nn.functional as F\n",
    "from torch.autograd import Variable\n",
    "from torch.utils.data import DataLoader\n",
    "from torch.utils.data import TensorDataset\n",
    "from sklearn.model_selection import train_test_split\n",
    "from sklearn.preprocessing import StandardScaler, MinMaxScaler, RobustScaler\n",
    "import matplotlib\n",
    "import matplotlib.pyplot as plt\n",
    "%matplotlib inline\n",
    "import pandas as pd\n",
    "from sklearn.model_selection import train_test_split\n",
    "import numpy as np\n",
    "import os\n",
    "import seaborn as sns\n",
    "\n",
    "#if not os.path.exists('./mlp_img'):\n",
    "#    os.mkdir('./mlp_img')\n",
    "\n",
    "epochs = 30\n",
    "bs = 128\n",
    "lr = 1e-3\n",
    "loss_func = F.binary_cross_entropy\n",
    "dev = torch.device(\n",
    "    \"cuda\") if torch.cuda.is_available() else torch.device(\"cpu\")\n",
    "\n",
    "def get_data(train_ds, valid_ds, bs):\n",
    "    return (\n",
    "        DataLoader(train_ds, batch_size=bs, shuffle=True),\n",
    "        DataLoader(valid_ds, batch_size=bs * 2),\n",
    "    )\n",
    "\n",
    "def loss_batch(model, loss_func, xb, yb, opt=None):\n",
    "    loss = loss_func(model(xb), yb)\n",
    "\n",
    "    if opt is not None:\n",
    "        loss.backward()\n",
    "        opt.step()\n",
    "        opt.zero_grad()\n",
    "\n",
    "    return loss.item(), len(xb)\n",
    "\n",
    "def fit(epochs, model, loss_func, opt, train_dl, valid_dl):\n",
    "    val_loss_hist = np.zeros(epochs)\n",
    "    for epoch in range(epochs):\n",
    "        model.train()\n",
    "        for xb, yb in train_dl:\n",
    "            loss_batch(model, loss_func, xb, yb, opt)\n",
    "\n",
    "        model.eval()\n",
    "        with torch.no_grad():\n",
    "            losses, nums = zip(\n",
    "                *[loss_batch(model, loss_func, xb, yb) for xb, yb in valid_dl]\n",
    "            )\n",
    "        val_loss = np.sum(np.multiply(losses, nums)) / np.sum(nums)\n",
    "        val_loss_hist[epoch] = val_loss\n",
    "        print(epoch, val_loss)\n",
    "    return val_loss_hist\n",
    "\n",
    "class Lambda(nn.Module):\n",
    "    def __init__(self, func):\n",
    "        super().__init__()\n",
    "        self.func = func\n",
    "\n",
    "    def forward(self, x):\n",
    "        return self.func(x)\n",
    "\n",
    "def preprocess(x, y):\n",
    "    return x.view(-1,11).to(dev), y.to(dev)\n",
    "\n",
    "class WrappedDataLoader:\n",
    "    def __init__(self, dl, func):\n",
    "        self.dl = dl\n",
    "        self.func = func\n",
    "\n",
    "    def __len__(self):\n",
    "        return len(self.dl)\n",
    "\n",
    "    def __iter__(self):\n",
    "        batches = iter(self.dl)\n",
    "        for b in batches:\n",
    "            yield (self.func(*b))\n",
    "            "
   ]
  },
  {
   "cell_type": "code",
   "execution_count": 24,
   "metadata": {
    "collapsed": true,
    "hidden": true
   },
   "outputs": [],
   "source": [
    "def check_cats(data, cat_vars):\n",
    "    for i in cat_vars:\n",
    "        data[f'{i}'] = data[f'{i}'].astype('category').cat.codes\n",
    "    return data\n",
    "DIR = \"../input\"\n",
    "\n",
    "colnames = ['Time', 'Duration', 'SrcDevice', 'DstDevice', 'Protocol', 'SrcPort', 'DstPort', 'SrcPackets', \n",
    "       'DstPackets', 'SrcBytes', 'DstBytes']\n",
    "cat_vars = ['SrcDevice', 'DstDevice','Protocol','SrcPort', 'DstPort']\n",
    "cont_vars = ['Time', 'Duration', 'SrcPackets', 'DstPackets', 'SrcBytes', 'DstBytes']\n",
    "train_df = pd.read_csv(os.path.join(DIR, 'netflow_day-03.csv'),names = colnames)\n",
    "train_df = check_cats(train_df,cat_vars)"
   ]
  },
  {
   "cell_type": "markdown",
   "metadata": {
    "heading_collapsed": true
   },
   "source": [
    "### Just to get a feel for our data and model performance, I'll only be using ~2% of the data to allow for quick iterations. Our goal is to see what works initally and then when training a final model I'll use all of the data."
   ]
  },
  {
   "cell_type": "code",
   "execution_count": 15,
   "metadata": {
    "collapsed": true,
    "hidden": true
   },
   "outputs": [],
   "source": [
    "x_train, x_valid, y_train, y_valid = train_test_split(scaled_df1.iloc[:100000], scaled_df1.iloc[:100000], test_size=0.33, random_state=42)\n",
    "x_train, y_train, x_valid, y_valid = map(torch.tensor, (x_train.values, y_train.values, x_valid.values, y_valid.values))\n",
    "x_train, y_train, x_valid, y_valid = x_train.float(), y_train.float(), x_valid.float(), y_valid.float()\n",
    "train_ds = TensorDataset(x_train, y_train)\n",
    "valid_ds = TensorDataset(x_valid, y_valid)\n",
    "train_dl, valid_dl = get_data(train_ds, valid_ds, bs)\n",
    "train_dl = WrappedDataLoader(train_dl, preprocess)\n",
    "valid_dl = WrappedDataLoader(valid_dl, preprocess)"
   ]
  },
  {
   "cell_type": "markdown",
   "metadata": {
    "heading_collapsed": true
   },
   "source": [
    "### Basic AutoEncoder (AE)"
   ]
  },
  {
   "cell_type": "code",
   "execution_count": 12,
   "metadata": {
    "collapsed": true,
    "hidden": true
   },
   "outputs": [],
   "source": [
    "class autoencoder(nn.Module):\n",
    "    def __init__(self):\n",
    "        super(autoencoder, self).__init__()\n",
    "        self.encoder = nn.Sequential(\n",
    "            nn.Linear(11, 3),\n",
    "            nn.ReLU())\n",
    "        self.decoder = nn.Sequential(\n",
    "            nn.Linear(3, 11),\n",
    "            nn.Sigmoid()) \n",
    "\n",
    "    def forward(self, x):\n",
    "        x = self.encoder(x)\n",
    "        x = self.decoder(x)\n",
    "        return x"
   ]
  },
  {
   "cell_type": "markdown",
   "metadata": {
    "heading_collapsed": true,
    "hidden": true
   },
   "source": [
    "#### For our initial run, let's try training the AE using the standard Stochastic Gradient Descent (SGD) optimization algorithm."
   ]
  },
  {
   "cell_type": "code",
   "execution_count": 16,
   "metadata": {
    "hidden": true
   },
   "outputs": [
    {
     "name": "stdout",
     "output_type": "stream",
     "text": [
      "0 0.6153640248992226\n",
      "1 0.5632328183867714\n",
      "2 0.521731213497393\n",
      "3 0.48840221228744046\n",
      "4 0.4613625860214233\n",
      "5 0.43919258066379663\n",
      "6 0.42081355727080144\n",
      "7 0.40540852949836037\n",
      "8 0.392343591075955\n",
      "9 0.3811262700918949\n",
      "10 0.371357077107285\n",
      "11 0.36269724823489335\n",
      "12 0.3549058718753583\n",
      "13 0.3477984815799829\n",
      "14 0.34122927554448446\n",
      "15 0.335087068752809\n",
      "16 0.32927751234083463\n",
      "17 0.32372928273316587\n",
      "18 0.31840084727605183\n",
      "19 0.3132779013893821\n",
      "20 0.30835604749303874\n",
      "21 0.30364818929180953\n",
      "22 0.29918292765183885\n",
      "23 0.29499714277729844\n",
      "24 0.29111959272442445\n",
      "25 0.28757020660602683\n",
      "26 0.2843516824967933\n",
      "27 0.28145706274292687\n",
      "28 0.27886660063627994\n",
      "29 0.2765542323661573\n"
     ]
    }
   ],
   "source": [
    "model = autoencoder()\n",
    "model.to(dev)\n",
    "opt = optim.SGD(model.parameters(), lr=lr, momentum=0.9)\n",
    "simpleAE = fit(epochs, model, loss_func, opt, train_dl, valid_dl)"
   ]
  },
  {
   "cell_type": "markdown",
   "metadata": {
    "hidden": true
   },
   "source": [
    "#### When utilizing the Adam optimization algorithm instead, we see that our loss starts off much lower and ultimately achieves a better result."
   ]
  },
  {
   "cell_type": "code",
   "execution_count": 17,
   "metadata": {
    "hidden": true
   },
   "outputs": [
    {
     "name": "stdout",
     "output_type": "stream",
     "text": [
      "0 0.3132772430289875\n",
      "1 0.27298690352295385\n",
      "2 0.26548837280273435\n",
      "3 0.2561405701709516\n",
      "4 0.24500035896807007\n",
      "5 0.23917841724554698\n",
      "6 0.23640931301044696\n",
      "7 0.22925565374981274\n",
      "8 0.2199682547901616\n",
      "9 0.21693617815321142\n",
      "10 0.2149911564985911\n",
      "11 0.21362458565740874\n",
      "12 0.21265988235762626\n",
      "13 0.21197906290039872\n",
      "14 0.2114728673732642\n",
      "15 0.21104865649974708\n",
      "16 0.2106399353056243\n",
      "17 0.21023554500305291\n",
      "18 0.2098258723598538\n",
      "19 0.2094674902973753\n",
      "20 0.20916657164241328\n",
      "21 0.20891935854247123\n",
      "22 0.20872451052882454\n",
      "23 0.20859452519633553\n",
      "24 0.2084934107245821\n",
      "25 0.20842122670014698\n",
      "26 0.20837569244702658\n",
      "27 0.20834395785042734\n",
      "28 0.20831816785263294\n",
      "29 0.20830102947986487\n"
     ]
    }
   ],
   "source": [
    "model = autoencoder()\n",
    "model.to(dev)\n",
    "opt1 = optim.Adam(model.parameters(), lr=lr, weight_decay=1e-5)\n",
    "simpleAE1 = fit(epochs, model, loss_func, opt1, train_dl, valid_dl)"
   ]
  },
  {
   "cell_type": "markdown",
   "metadata": {
    "heading_collapsed": true,
    "hidden": true
   },
   "source": [
    "#### By changing the size of our bottleneck, we are expanding/limiting the space our network will use to find latent representations of our features. For now, increasing the size seems to only help marginally. However, we will want to return to this hyperparameter when we engineer more features in the future."
   ]
  },
  {
   "cell_type": "code",
   "execution_count": 19,
   "metadata": {
    "hidden": true
   },
   "outputs": [
    {
     "name": "stdout",
     "output_type": "stream",
     "text": [
      "0 0.27842848107309054\n",
      "1 0.2424553751078519\n",
      "2 0.22034330931938056\n",
      "3 0.2125227058836908\n",
      "4 0.2091995555559794\n",
      "5 0.20629277456890452\n",
      "6 0.20423057547121337\n",
      "7 0.20225441743749561\n",
      "8 0.2000320770451517\n",
      "9 0.19847749503814813\n",
      "10 0.19774435007572175\n",
      "11 0.19735746824741363\n",
      "12 0.1971329365788084\n",
      "13 0.19700006837555856\n",
      "14 0.19692712545756139\n",
      "15 0.19688325585018504\n",
      "16 0.19685634627847962\n",
      "17 0.19684289213744077\n",
      "18 0.19683339035149777\n",
      "19 0.19682246895269914\n",
      "20 0.19681916312376657\n",
      "21 0.19681775667450646\n",
      "22 0.19682014381524288\n",
      "23 0.19681429224664515\n",
      "24 0.1968093104543108\n",
      "25 0.19681130621288762\n",
      "26 0.19680515278108193\n",
      "27 0.19680367324930248\n",
      "28 0.19680531917557573\n",
      "29 0.19681047119877554\n"
     ]
    }
   ],
   "source": [
    "class autoencoder1(nn.Module):\n",
    "    def __init__(self):\n",
    "        super(autoencoder1, self).__init__()\n",
    "        self.encoder = nn.Sequential(\n",
    "            nn.Linear(11, 6),\n",
    "            nn.ReLU())\n",
    "        self.decoder = nn.Sequential(\n",
    "            nn.Linear(6, 11),\n",
    "            nn.Sigmoid()) \n",
    "\n",
    "    def forward(self, x):\n",
    "        x = self.encoder(x)\n",
    "        x = self.decoder(x)\n",
    "        return x\n",
    "model = autoencoder1()\n",
    "model.to(dev)\n",
    "opt1 = optim.Adam(model.parameters(), lr=lr, weight_decay=1e-5)\n",
    "SimpleAE2 = fit(epochs, model, loss_func, opt1, train_dl, valid_dl)"
   ]
  },
  {
   "cell_type": "markdown",
   "metadata": {
    "heading_collapsed": true,
    "hidden": true
   },
   "source": [
    "#### QUESTION: What size should we select for the latent representation of our data?"
   ]
  },
  {
   "cell_type": "markdown",
   "metadata": {
    "heading_collapsed": true
   },
   "source": [
    "### Deep AutoEncoder (aka Stacked AutoEncoder, SAE)"
   ]
  },
  {
   "cell_type": "code",
   "execution_count": null,
   "metadata": {
    "collapsed": true,
    "hidden": true
   },
   "outputs": [],
   "source": [
    "class deep_autoencoder(nn.Module):\n",
    "    def __init__(self):\n",
    "        super(deep_autoencoder, self).__init__()\n",
    "        self.encoder = nn.Sequential(\n",
    "            nn.Linear(11, 9),\n",
    "            nn.ReLU(True),\n",
    "            nn.Linear(9, 6),\n",
    "            nn.ReLU(True))\n",
    "        self.decoder = nn.Sequential(\n",
    "            nn.Linear(6, 9),\n",
    "            nn.ReLU(True),\n",
    "            nn.Linear(9, 11),\n",
    "            nn.Sigmoid())\n",
    "\n",
    "    def forward(self, x):\n",
    "        x = self.encoder(x)\n",
    "        x = self.decoder(x)\n",
    "        return x"
   ]
  },
  {
   "cell_type": "markdown",
   "metadata": {
    "heading_collapsed": true,
    "hidden": true
   },
   "source": [
    "#### Now I'll create an AE that has multiple hidden layers, a deep AE. Let's first start with a model that has 2 hidden layers. This doesn't seem to do much better than our one-layer AE but again, might be useful if we incorporate more features in the future."
   ]
  },
  {
   "cell_type": "code",
   "execution_count": 27,
   "metadata": {
    "hidden": true
   },
   "outputs": [
    {
     "name": "stdout",
     "output_type": "stream",
     "text": [
      "0 0.2449271744598042\n",
      "1 0.22742869142330055\n",
      "2 0.21516548670060706\n",
      "3 0.2077671935377699\n",
      "4 0.2028120079979752\n",
      "5 0.20213690534866216\n",
      "6 0.200944096066735\n",
      "7 0.19925501989595817\n",
      "8 0.19780528188835492\n",
      "9 0.1971274009401148\n",
      "10 0.1968309831944379\n",
      "11 0.19652490559852484\n",
      "12 0.1962942510987773\n",
      "13 0.19614683185562942\n",
      "14 0.19603187960566895\n",
      "15 0.19594012701872623\n",
      "16 0.19582038521766662\n",
      "17 0.19572626200589266\n",
      "18 0.19565712436040242\n",
      "19 0.19555748596335903\n",
      "20 0.19550040659759985\n",
      "21 0.19545797579577476\n",
      "22 0.1954013790434057\n",
      "23 0.19536583811947794\n",
      "24 0.19534382763414673\n",
      "25 0.19530811882019042\n",
      "26 0.19530282218528516\n",
      "27 0.19527743303414546\n",
      "28 0.19524949955579007\n",
      "29 0.1952263595046419\n"
     ]
    }
   ],
   "source": [
    "model = deep_autoencoder()\n",
    "model.to(dev)\n",
    "opt1 = optim.Adam(model.parameters(), lr=lr, weight_decay=1e-5)\n",
    "deepAE = fit(epochs, model, loss_func, opt1, train_dl, valid_dl)"
   ]
  },
  {
   "cell_type": "markdown",
   "metadata": {
    "hidden": true
   },
   "source": [
    "#### Another option is to have 'overcomplete' layers. We can balloon the size of the first layer and shrink it back down. The simpler, 2 layer AE above does a better job so this doesn't seem like a promising avenue to continue down further."
   ]
  },
  {
   "cell_type": "code",
   "execution_count": 28,
   "metadata": {
    "collapsed": true,
    "hidden": true
   },
   "outputs": [],
   "source": [
    "class deep_autoencoder1(nn.Module):\n",
    "    def __init__(self):\n",
    "        super(deep_autoencoder, self).__init__()\n",
    "        self.encoder = nn.Sequential(\n",
    "            nn.Linear(11, 128),\n",
    "            nn.ReLU(True),\n",
    "            nn.Linear(128, 64),\n",
    "            nn.ReLU(True), \n",
    "            nn.Linear(64, 12), \n",
    "            nn.ReLU(True), \n",
    "            nn.Linear(12, 6))\n",
    "        self.decoder = nn.Sequential(\n",
    "            nn.Linear(6, 12),\n",
    "            nn.ReLU(True),\n",
    "            nn.Linear(12, 64),\n",
    "            nn.ReLU(True),\n",
    "            nn.Linear(64, 128),\n",
    "            nn.ReLU(True), \n",
    "            nn.Linear(128, 11), \n",
    "            nn.Sigmoid())\n",
    "\n",
    "    def forward(self, x):\n",
    "        x = self.encoder(x)\n",
    "        x = self.decoder(x)\n",
    "        return x"
   ]
  },
  {
   "cell_type": "code",
   "execution_count": 29,
   "metadata": {
    "hidden": true
   },
   "outputs": [
    {
     "name": "stdout",
     "output_type": "stream",
     "text": [
      "0 0.2650241525100939\n",
      "1 0.23482537920186014\n",
      "2 0.21984392593123697\n",
      "3 0.21350352708137396\n",
      "4 0.20568819431825117\n",
      "5 0.20219772437847022\n",
      "6 0.20110394136110943\n",
      "7 0.20012424728364656\n",
      "8 0.19942686419053512\n",
      "9 0.19796628739978328\n",
      "10 0.19645627458529039\n",
      "11 0.1958876735911225\n",
      "12 0.19568070779424726\n",
      "13 0.19561183846358096\n",
      "14 0.1956282062964006\n",
      "15 0.19557593305544418\n",
      "16 0.1955740126985492\n",
      "17 0.19555451732332058\n",
      "18 0.19555348258668726\n",
      "19 0.1955339559063767\n",
      "20 0.1955322019042391\n",
      "21 0.19553729743668527\n",
      "22 0.19552998865011967\n",
      "23 0.19553163955428385\n",
      "24 0.1955169496716875\n",
      "25 0.19551997378016964\n",
      "26 0.19551090997276885\n",
      "27 0.19550259295015623\n",
      "28 0.19551545627189404\n",
      "29 0.19549637895280664\n"
     ]
    }
   ],
   "source": [
    "model = deep_autoencoder()\n",
    "model.to(dev)\n",
    "opt1 = optim.Adam(model.parameters(), lr=lr, weight_decay=1e-5)\n",
    "deepAE1 = fit(epochs, model, loss_func, opt1, train_dl, valid_dl)"
   ]
  },
  {
   "cell_type": "markdown",
   "metadata": {
    "heading_collapsed": true
   },
   "source": [
    "### Convolutional AutoEncoder (CAE)"
   ]
  },
  {
   "cell_type": "markdown",
   "metadata": {
    "heading_collapsed": true,
    "hidden": true
   },
   "source": [
    "#### Future work! See below for a rough schematic of a planned implementation."
   ]
  },
  {
   "cell_type": "code",
   "execution_count": null,
   "metadata": {
    "collapsed": true,
    "hidden": true
   },
   "outputs": [],
   "source": [
    "class conv_autoencoder(nn.Module):\n",
    "    def __init__(self):\n",
    "        super(conv_autoencoder, self).__init__()\n",
    "        self.encoder = nn.Sequential(\n",
    "            nn.Conv1d(1, 1, 3, stride=3, padding=1),  # b, 16, 10, 10\n",
    "            nn.ReLU(True),\n",
    "            nn.MaxPool1d(2, stride=2),  # b, 16, 5, 5\n",
    "            nn.Conv1d(16, 8, 3, stride=2, padding=1),  # b, 8, 3, 3\n",
    "            nn.ReLU(True),\n",
    "            nn.MaxPool1d(2, stride=1)  # b, 8, 2, 2\n",
    "        )\n",
    "        self.decoder = nn.Sequential(\n",
    "            nn.ConvTranspose1d(8, 16, 3, stride=2),  # b, 16, 5, 5\n",
    "            nn.ReLU(True),\n",
    "            nn.ConvTranspose1d(16, 8, 5, stride=3, padding=1),  # b, 8, 15, 15\n",
    "            nn.ReLU(True),\n",
    "            nn.ConvTranspose1d(8, 1, 2, stride=2, padding=1),  # b, 1, 28, 28\n",
    "            nn.Sigmoid()\n",
    "        )\n",
    "\n",
    "    def forward(self, x):\n",
    "        x = self.encoder(x)\n",
    "        x = self.decoder(x)\n",
    "        return x"
   ]
  },
  {
   "cell_type": "code",
   "execution_count": null,
   "metadata": {
    "collapsed": true,
    "hidden": true
   },
   "outputs": [],
   "source": [
    "train_dl_w = WrappedDataLoader(train_dl, preprocess)\n",
    "valid_dl_w = WrappedDataLoader(valid_dl, preprocess)\n",
    "model = conv_autoencoder()\n",
    "model.to(dev)\n",
    "convAE = fit(epochs, model, loss_func, opt1, train_dl_w, valid_dl_w)"
   ]
  },
  {
   "cell_type": "markdown",
   "metadata": {},
   "source": [
    "### Comparison of AE architectures with default dataset (no feature engineering)"
   ]
  },
  {
   "cell_type": "code",
   "execution_count": 30,
   "metadata": {},
   "outputs": [
    {
     "data": {
      "text/plain": [
       "<matplotlib.legend.Legend at 0x7f6b42de8940>"
      ]
     },
     "execution_count": 30,
     "metadata": {},
     "output_type": "execute_result"
    },
    {
     "data": {
      "image/png": "[encoded data removed]",
      "text/plain": [
       "<Figure size 432x288 with 1 Axes>"
      ]
     },
     "metadata": {
      "needs_background": "light"
     },
     "output_type": "display_data"
    }
   ],
   "source": [
    "fig = plt.figure()\n",
    "sub = fig.add_subplot(111)\n",
    "sub.plot(np.arange(epochs),simpleAE,  label = 'Simple w/ SGD')\n",
    "sub.plot(np.arange(epochs),simpleAE1, label = 'Simple w/ Adam')\n",
    "sub.plot(np.arange(epochs),deepAE, label = 'Deep (2-layer) w/ Adam')\n",
    "sub.plot(np.arange(epochs),deepAE1, label = 'Deep (6-layer) w/ Adam')\n",
    "fig.legend()"
   ]
  },
  {
   "cell_type": "markdown",
   "metadata": {},
   "source": [
    "### Comparison of AE architectures with feature engineered dataset"
   ]
  },
  {
   "cell_type": "markdown",
   "metadata": {
    "heading_collapsed": true
   },
   "source": [
    "#### Basic AE w/ TSA features"
   ]
  },
  {
   "cell_type": "code",
   "execution_count": 20,
   "metadata": {
    "collapsed": true,
    "hidden": true
   },
   "outputs": [],
   "source": [
    "class autoencoder2(nn.Module):\n",
    "    def __init__(self):\n",
    "        super(autoencoder2, self).__init__()\n",
    "        self.encoder = nn.Sequential(\n",
    "            nn.Linear(35, 13),\n",
    "            nn.ReLU())\n",
    "        self.decoder = nn.Sequential(\n",
    "            nn.Linear(13, 35),\n",
    "            nn.Sigmoid()) \n",
    "\n",
    "    def forward(self, x):\n",
    "        x = self.encoder(x)\n",
    "        x = self.decoder(x)\n",
    "        return x\n",
    "def preprocess(x, y):\n",
    "    return x.view(-1,35).to(dev), y.to(dev)"
   ]
  },
  {
   "cell_type": "code",
   "execution_count": 36,
   "metadata": {
    "collapsed": true,
    "hidden": true
   },
   "outputs": [],
   "source": [
    "x_train, x_valid, y_train, y_valid = train_test_split(scaled_df1.iloc[:100000], scaled_df1.iloc[:100000], test_size=0.33, random_state=42)\n",
    "x_train, y_train, x_valid, y_valid = map(torch.tensor, (x_train.values, y_train.values, x_valid.values, y_valid.values))\n",
    "x_train, y_train, x_valid, y_valid = x_train.float(), y_train.float(), x_valid.float(), y_valid.float()\n",
    "train_ds = TensorDataset(x_train, y_train)\n",
    "valid_ds = TensorDataset(x_valid, y_valid)\n",
    "train_dl, valid_dl = get_data(train_ds, valid_ds, bs)\n",
    "train_dl = WrappedDataLoader(train_dl, preprocess)\n",
    "valid_dl = WrappedDataLoader(valid_dl, preprocess)"
   ]
  },
  {
   "cell_type": "code",
   "execution_count": 37,
   "metadata": {
    "hidden": true
   },
   "outputs": [
    {
     "name": "stdout",
     "output_type": "stream",
     "text": [
      "0 0.15542524325486384\n",
      "1 0.1330017716595621\n",
      "2 0.12358071852994687\n",
      "3 0.12134318643627745\n",
      "4 0.12013640852949836\n",
      "5 0.11922035816040906\n",
      "6 0.1186038601488778\n",
      "7 0.11830568287769953\n",
      "8 0.11817351314515778\n",
      "9 0.11809839636629278\n",
      "10 0.11803493072950479\n",
      "11 0.118003826110652\n",
      "12 0.11796236093477769\n",
      "13 0.11794244261040832\n",
      "14 0.11791596555709839\n",
      "15 0.11789782470103466\n",
      "16 0.11788164298642766\n",
      "17 0.11786410925785701\n",
      "18 0.1178481928651983\n",
      "19 0.11783261449770494\n",
      "20 0.11781676309217107\n",
      "21 0.11780566596984864\n",
      "22 0.11778696250373667\n",
      "23 0.11777133213570623\n",
      "24 0.11775690714156989\n",
      "25 0.11774744177406485\n",
      "26 0.11774040185863321\n",
      "27 0.11772692710883689\n",
      "28 0.11772219492630526\n",
      "29 0.11770839673100096\n"
     ]
    }
   ],
   "source": [
    "model = autoencoder2()\n",
    "model.to(dev)\n",
    "opt1 = optim.Adam(model.parameters(), lr=lr, weight_decay=1e-5)\n",
    "simpleAE_ed = fit(epochs, model, loss_func, opt1, train_dl, valid_dl)"
   ]
  },
  {
   "cell_type": "code",
   "execution_count": 40,
   "metadata": {
    "hidden": true
   },
   "outputs": [
    {
     "name": "stdout",
     "output_type": "stream",
     "text": [
      "0 0.18049194024548387\n",
      "1 0.15102098090359659\n",
      "2 0.1473470046339613\n",
      "3 0.143951437588894\n",
      "4 0.13999235530333085\n",
      "5 0.1366622529969071\n",
      "6 0.13426986752134382\n",
      "7 0.1325131246248881\n",
      "8 0.13121682799223697\n",
      "9 0.13023262498595498\n",
      "10 0.12944078761158567\n",
      "11 0.12880684867049708\n",
      "12 0.1282730374841979\n",
      "13 0.12780357990842878\n",
      "14 0.12739020001165793\n",
      "15 0.12700787126656735\n",
      "16 0.1266632669802868\n",
      "17 0.12634942066669463\n",
      "18 0.12608273115663818\n",
      "19 0.12587054110657084\n",
      "20 0.12572116792201996\n",
      "21 0.12558745316664377\n",
      "22 0.1255006782141599\n",
      "23 0.12543083710381478\n",
      "24 0.12537497831113412\n",
      "25 0.12533319084210828\n",
      "26 0.12530713788307074\n",
      "27 0.12527308274399152\n",
      "28 0.1252579463900942\n",
      "29 0.12523770618799962\n"
     ]
    }
   ],
   "source": [
    "class autoencoder3(nn.Module):\n",
    "    def __init__(self):\n",
    "        super(autoencoder3, self).__init__()\n",
    "        self.encoder = nn.Sequential(\n",
    "            nn.Linear(35, 3),\n",
    "            nn.ReLU())\n",
    "        self.decoder = nn.Sequential(\n",
    "            nn.Linear(3, 35),\n",
    "            nn.Sigmoid()) \n",
    "\n",
    "    def forward(self, x):\n",
    "        x = self.encoder(x)\n",
    "        x = self.decoder(x)\n",
    "        return x\n",
    "def preprocess(x, y):\n",
    "    return x.view(-1,35).to(dev), y.to(dev)\n",
    "model = autoencoder3()\n",
    "model.to(dev)\n",
    "opt1 = optim.Adam(model.parameters(), lr=lr, weight_decay=1e-5)\n",
    "simpleAE_ed1 = fit(epochs, model, loss_func, opt1, train_dl, valid_dl)"
   ]
  },
  {
   "cell_type": "markdown",
   "metadata": {
    "heading_collapsed": true
   },
   "source": [
    "#### Deep AutoEncoder w/ TSA features"
   ]
  },
  {
   "cell_type": "code",
   "execution_count": 44,
   "metadata": {
    "hidden": true
   },
   "outputs": [
    {
     "name": "stdout",
     "output_type": "stream",
     "text": [
      "0 0.14267463051550316\n",
      "1 0.13841716249422595\n",
      "2 0.12931717374469295\n",
      "3 0.12356641965923887\n",
      "4 0.12296843826228922\n",
      "5 0.12272117885856917\n",
      "6 0.1225782561211875\n",
      "7 0.12246075998472444\n",
      "8 0.1223881917180437\n",
      "9 0.12213705055641405\n",
      "10 0.12176700847076648\n",
      "11 0.1211470121939977\n",
      "12 0.11976834000421292\n",
      "13 0.11921178272818074\n",
      "14 0.11903793139349331\n",
      "15 0.11892726133447705\n",
      "16 0.11888989595030293\n",
      "17 0.11885944359230273\n",
      "18 0.11882691781990457\n",
      "19 0.11880519064267477\n",
      "20 0.11877735575943282\n",
      "21 0.11873244151743975\n",
      "22 0.11870291563055732\n",
      "23 0.11867264552911122\n",
      "24 0.11859710764523708\n",
      "25 0.11848349631193912\n",
      "26 0.11834015336903658\n",
      "27 0.11821681090918454\n",
      "28 0.11815993258447358\n",
      "29 0.11813407987717427\n"
     ]
    }
   ],
   "source": [
    "class deep_autoencoder1(nn.Module):\n",
    "    def __init__(self):\n",
    "        super(deep_autoencoder1, self).__init__()\n",
    "        self.encoder = nn.Sequential(\n",
    "            nn.Linear(35, 26),\n",
    "            nn.ReLU(True),\n",
    "            nn.Linear(26, 13),\n",
    "            nn.ReLU(True),\n",
    "            nn.Linear(13, 5),\n",
    "            nn.ReLU(True))\n",
    "        self.decoder = nn.Sequential(\n",
    "            nn.Linear(5, 13),\n",
    "            nn.ReLU(True),\n",
    "            nn.Linear(13, 26),\n",
    "            nn.ReLU(True),\n",
    "            nn.Linear(26, 35),\n",
    "            nn.Sigmoid())\n",
    "\n",
    "    def forward(self, x):\n",
    "        x = self.encoder(x)\n",
    "        x = self.decoder(x)\n",
    "        return x\n",
    "model = deep_autoencoder1()\n",
    "model.to(dev)\n",
    "opt1 = optim.Adam(model.parameters(), lr=lr, weight_decay=1e-5)\n",
    "deepAE_ed = fit(epochs, model, loss_func, opt1, train_dl, valid_dl)"
   ]
  },
  {
   "cell_type": "markdown",
   "metadata": {
    "heading_collapsed": true
   },
   "source": [
    "#### Just by including out engineered TSA features, we've lowered the loss by nearly half!"
   ]
  },
  {
   "cell_type": "code",
   "execution_count": 50,
   "metadata": {
    "hidden": true
   },
   "outputs": [
    {
     "data": {
      "text/plain": [
       "<matplotlib.legend.Legend at 0x7f539722af28>"
      ]
     },
     "execution_count": 50,
     "metadata": {},
     "output_type": "execute_result"
    },
    {
     "data": {
      "image/png": "[encoded data removed]",
      "text/plain": [
       "<Figure size 432x288 with 1 Axes>"
      ]
     },
     "metadata": {
      "needs_background": "light"
     },
     "output_type": "display_data"
    }
   ],
   "source": [
    "fig = plt.figure()\n",
    "sub = fig.add_subplot(111)\n",
    "sub.plot(np.arange(epochs),simpleAE_ed,  label = 'SimpleAE w/ eng. feat.')\n",
    "sub.plot(np.arange(epochs),simpleAE_ed1, label = 'SimpleAE w/ eng. feat., diff. size')\n",
    "sub.plot(np.arange(epochs),deepAE_ed, label = 'Deep (6-layer) w/ Adam')\n",
    "fig.legend()"
   ]
  },
  {
   "cell_type": "markdown",
   "metadata": {
    "heading_collapsed": true
   },
   "source": [
    "### Improving the learning rate"
   ]
  },
  {
   "cell_type": "markdown",
   "metadata": {
    "hidden": true
   },
   "source": [
    "**Future work**\n",
    "\n",
    "I want to implement Smith 2015's one cycle learning schedule, which incorporates a cylical learning rate (and momentum) annealing. This is already implemnted in the fastai wrapper."
   ]
  },
  {
   "cell_type": "markdown",
   "metadata": {
    "heading_collapsed": true
   },
   "source": [
    "## Future work"
   ]
  },
  {
   "cell_type": "markdown",
   "metadata": {
    "hidden": true
   },
   "source": [
    "- Entity Embedding for categorical values\n",
    "- 2D Statistics (magnitude, radius, approx. covariance and correlation coefficient of 2 different streams). **Question: How best to define different streams? Are these simply different time windows of the same stream?**\n",
    "- Feature Mapping with agglomerative hierarchical clustering\n",
    "- Implement a Convolutional AutoEncoder\n",
    "- Apply learning rate/momentum annealing\n",
    "- Incorporate host events dataset"
   ]
  },
  {
   "cell_type": "markdown",
   "metadata": {
    "heading_collapsed": true
   },
   "source": [
    "## Brief R&D proposal"
   ]
  },
  {
   "cell_type": "markdown",
   "metadata": {
    "hidden": true
   },
   "source": [
    "Given 30-60 days, attempt to clearly define a brief proposal of R&D work that you would do toward embedding semantic meaning and ultimately quantifying data valuation to optimize the collection, retention, and inspection of the ‘right’ data for threat detection:\n",
    "\n",
    "1. Create an autoencoder that is able to take in 'normal' netflow data, encode a lower-dimensional representation of said data and then decode this lower-dimensional embedding back into the original netflow data. This will force the autoencoder to find meaningful patterns present within the data in order to accurately encode the information in a lower dimension.\n",
    "2. Once the autoencoder is able to effectively reproduce the 'normal' input data, the lower-dimensional embedding can serve as a type of virtual 'fingerprint' of normal traffic behavior. By running new data through the system, the autoencoder will be able to distill all new incoming data down to its fingerprint and identify if it looks normal or abnormal. \n",
    "3. After producing a functioning autoencoder prototype, we will aim to create a light-weight version that can be run without GPUs (for example on a router) and can self update in order to have a dynamic definition of normal network behavior."
   ]
  },
  {
   "cell_type": "markdown",
   "metadata": {},
   "source": [
    "## Resources"
   ]
  },
  {
   "cell_type": "markdown",
   "metadata": {},
   "source": [
    "\n",
    "Good [resource](https://www.jeremyjordan.me/autoencoders/) for autoencoders  \n",
    "Good [resource](https://towardsdatascience.com/intuitively-understanding-variational-autoencoders-1bfe67eb5daf) for variational autoencoders (VAEs)  \n",
    "Outlook inspired by [Kitsune](https://arxiv.org/pdf/1802.09089.pdf) paper (Mirsky 2018)  \n",
    "Insight from Cyber Reboot's [work](https://blog.cyberreboot.org/deep-session-learning-for-cyber-security-e7c0f6804b81) on using RNN autoencoders on network traffic data.  \n",
    "Good [resource](https://towardsdatascience.com/deep-learning-structured-data-8d6a278f3088) for embeddings of structured data."
   ]
  },
  {
   "cell_type": "markdown",
   "metadata": {
    "heading_collapsed": true
   },
   "source": [
    "# Instructions:"
   ]
  },
  {
   "cell_type": "markdown",
   "metadata": {
    "hidden": true
   },
   "source": [
    "For the below, document all of your steps and your intuition (we recommend using Jupyter Notebooks) so that your process is understood and your results can be reproduced. Plan on presenting your results (can be graphs/plots in your Notebook, Tableau, PowerPoint, etc.). Use whatever you feel most comfortable using for your analysis (we recommend Python or Scala and supporting ML/DL libraries). This mini project is intentionally vague/open-ended, we are more interested in seeing how you approach a problem (your creativity, intuition, and analytic qualities).\n",
    "\n",
    "0.\tDownload a day (or more) of the LANL 2017 dataset (recommend starting with a day). For example:\n",
    "\n",
    "Netflow:\n",
    "https://csr.lanl.gov/data/unified-host-network-dataset-2017/netflow/netflow_day-03.bz2\n",
    "\n",
    "and/or\n",
    "\n",
    "Host Events:\n",
    "https://csr.lanl.gov/data/unified-host-network-dataset-2017/wls/wls_day-03.bz2\n",
    "\n",
    "We recommend starting with whichever type of data you are most comfortable with (the netflow is a good starting place). It is possible to join and use the two datasets, which can increase the number of features/information about what is happening – but this can also add complexity, it may be good to consider this as a second iteration of your work as time allows.\n",
    "\n",
    "Documentation of the data sets/fields:\n",
    "https://csr.lanl.gov/data/2017.html\n",
    "Note the point about the anonymization done on the data to protect from disclosing information about LANL’s operational network.\n",
    "\n",
    "1.\tLoad the data\n",
    "2.\tExplore the data (e.g., statistical analysis/distribution), document your exploration methods and your resulting observations\n",
    "3.\tClearly define a ‘mini’ challenge problem toward embedding semantic meaning/context around entities, log entries (actions), and/or set of these things – remembering that the end goal is to formulate valuations for data based on its ability to provide meaning to the Security Operations Center (SOC) analysts, where high-value information is tied to the ability to detect, characterize, and respond to a threat or security concern within the environment\n",
    "4.\tExtract, transform, engineer meaningful features\n",
    "5.\tSelect, build, train, cross validate one or more model toward a solution to your challenge problem\n",
    "6.\tDocument results, metrics, successes/failures/challenges/questions\n",
    "7.\tDocument next steps toward solving this ‘mini’ challenge problem given more time/more data\n",
    "8.\tExpand upon your ‘mini’ challenge problem – given 30-60 days, attempt to clearly define a brief proposal of R&D work that you would do toward embedding semantic meaning and ultimately quantifying data valuation to optimize the collection, retention, and inspection of the ‘right’ data for threat detection.\n"
   ]
  },
  {
   "cell_type": "code",
   "execution_count": null,
   "metadata": {
    "collapsed": true,
    "hidden": true
   },
   "outputs": [],
   "source": []
  }
 ],
 "metadata": {
  "kernelspec": {
   "display_name": "Python 3",
   "language": "python",
   "name": "python3"
  },
  "language_info": {
   "codemirror_mode": {
    "name": "ipython",
    "version": 3
   },
   "file_extension": ".py",
   "mimetype": "text/x-python",
   "name": "python",
   "nbconvert_exporter": "python",
   "pygments_lexer": "ipython3",
   "version": "3.6.8"
  }
 },
 "nbformat": 4,
 "nbformat_minor": 2
}
